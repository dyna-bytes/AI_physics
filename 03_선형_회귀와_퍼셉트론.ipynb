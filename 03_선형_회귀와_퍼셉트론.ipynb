{
  "nbformat": 4,
  "nbformat_minor": 0,
  "metadata": {
    "colab": {
      "name": "03. 선형 회귀와 퍼셉트론.ipynb",
      "provenance": [],
      "collapsed_sections": [
        "9BnT2dO09wAT",
        "L3stJ09J4wbD"
      ],
      "include_colab_link": true
    },
    "kernelspec": {
      "name": "python3",
      "display_name": "Python 3"
    }
  },
  "cells": [
    {
      "cell_type": "markdown",
      "metadata": {
        "id": "view-in-github",
        "colab_type": "text"
      },
      "source": [
        "<a href=\"https://colab.research.google.com/github/jihyuk1023/AI_physics/blob/main/03_%EC%84%A0%ED%98%95_%ED%9A%8C%EA%B7%80%EC%99%80_%ED%8D%BC%EC%85%89%ED%8A%B8%EB%A1%A0.ipynb\" target=\"_parent\"><img src=\"https://colab.research.google.com/assets/colab-badge.svg\" alt=\"Open In Colab\"/></a>"
      ]
    },
    {
      "cell_type": "markdown",
      "metadata": {
        "id": "9BnT2dO09wAT"
      },
      "source": [
        "# 퍼셉트론 논리 게이트"
      ]
    },
    {
      "cell_type": "code",
      "metadata": {
        "id": "rxdApUH5kmRs"
      },
      "source": [
        "def AND(x1, x2):\n",
        "    x = np.array([x1, x2])  #1차원 벡터 선언\n",
        "    w = np.array([0.5, 0.5])#1차원 벡터 선언\n",
        "    b = -.7\n",
        "    tmp = np.sum(w*x) + b   #벡터 내적 := 스칼라 값 생성\n",
        "                            # tmp = 1/2 * x1 + 1/2 * x2 - 0.7 \n",
        "    if tmp <= 0:\n",
        "        return 0\n",
        "    else:\n",
        "        return 1\n",
        "\n",
        "def OR(x1, x2):\n",
        "    x = np.array([x1, x2])\n",
        "    w = np.array([0.5, 0.5])\n",
        "    b = -.2\n",
        "    tmp = np.sum(w*x) + b\n",
        "    \n",
        "    if tmp <= 0:\n",
        "        return 0\n",
        "    else:\n",
        "        return 1\n",
        "\n",
        "def NAND(x1, x2):\n",
        "    x = np.array([x1, x2])\n",
        "    w = np.array([-0.5, -0.5])\n",
        "    b = .7\n",
        "    tmp = np.sum(w*x) + b\n",
        "    \n",
        "    if tmp <= 0:\n",
        "        return 0\n",
        "    else:\n",
        "        return 1\n",
        "  \n",
        "def XOR(x1, x2):\n",
        "  a1 = AND(x1, x2)\n",
        "  a2 = OR(x1, x2)\n",
        "  x = np.array([a1, a2])\n",
        "  w = np.array([-0.5, 0.5])\n",
        "  b = -.2\n",
        "  tmp = np.sum(w*x) + b\n",
        "  if tmp <= 0:\n",
        "    return 0\n",
        "  else:\n",
        "    return 1"
      ],
      "execution_count": null,
      "outputs": []
    },
    {
      "cell_type": "code",
      "metadata": {
        "id": "YzwWDLU1Dx8r",
        "colab": {
          "base_uri": "https://localhost:8080/",
          "height": 265
        },
        "outputId": "ae4695b5-3c1f-4325-a93b-f8efcd9697cf"
      },
      "source": [
        "def sigmoid(x):\n",
        "  return 1 / (1+np.exp(-x))\n",
        "\n",
        "x = np.linspace(-10, 10, 100)\n",
        "y = sigmoid(x)\n",
        "\n",
        "plt.plot(x,y)\n",
        "plt.show()"
      ],
      "execution_count": null,
      "outputs": [
        {
          "output_type": "display_data",
          "data": {
            "image/png": "[encoded data removed]",
            "text/plain": [
              "<Figure size 432x288 with 1 Axes>"
            ]
          },
          "metadata": {
            "tags": [],
            "needs_background": "light"
          }
        }
      ]
    },
    {
      "cell_type": "markdown",
      "metadata": {
        "id": "L3stJ09J4wbD"
      },
      "source": [
        "# 단순 선형 회귀 문제"
      ]
    },
    {
      "cell_type": "code",
      "metadata": {
        "id": "ZCvz1Uf9oYde"
      },
      "source": [
        "import numpy as np\n",
        "import matplotlib.pyplot as plt="
      ],
      "execution_count": null,
      "outputs": []
    },
    {
      "cell_type": "code",
      "metadata": {
        "id": "qFqebR46rPro",
        "colab": {
          "base_uri": "https://localhost:8080/",
          "height": 265
        },
        "outputId": "910d94c7-cc5d-4189-dd26-16218558e560"
      },
      "source": [
        "def noise_linear_dataset(n_points, slope, intercept, noise, x_starts=0, x_ends=1):\n",
        "  xdata = np.linspace(x_starts, x_ends, n_points)\n",
        "  ydata = xdata * slope + intercept + np.random.normal(0, noise, n_points)\n",
        "  return xdata, ydata\n",
        "\n",
        "np.random.seed(0)\n",
        "xdata, ydata = noise_linear_dataset(50, 15, 3, 1.1)\n",
        "plt.scatter(xdata,ydata)\n",
        "plt.show()"
      ],
      "execution_count": null,
      "outputs": [
        {
          "output_type": "display_data",
          "data": {
            "image/png": "[encoded data removed]",
            "text/plain": [
              "<Figure size 432x288 with 1 Axes>"
            ]
          },
          "metadata": {
            "tags": [],
            "needs_background": "light"
          }
        }
      ]
    },
    {
      "cell_type": "code",
      "metadata": {
        "id": "P38m_vW3bhSj"
      },
      "source": [
        "def predict(xdata, w, b):\n",
        "  return w * xdata + b\n",
        "\n",
        "def get_error_list(ydata, y_hat_data):\n",
        "  return ydata - y_hat_data"
      ],
      "execution_count": null,
      "outputs": []
    },
    {
      "cell_type": "code",
      "metadata": {
        "id": "PM4UJbBzz5-r",
        "colab": {
          "base_uri": "https://localhost:8080/",
          "height": 265
        },
        "outputId": "e27f6123-2ba9-4cfb-c801-cb96242b4214"
      },
      "source": [
        "w = 1\n",
        "b = 1\n",
        "epoch = 200\n",
        "\n",
        "for i in range(epoch):\n",
        "  y_hat_data = predict(xdata, w, b)\n",
        "  error = get_error_list(ydata, y_hat_data)\n",
        "  w += np.mean(error * xdata)\n",
        "  b += np.mean(error)\n",
        "\n",
        "x = np.linspace(0,1,100)\n",
        "y = predict(x, w, b)\n",
        "\n",
        "plt.plot(x,y, c= 'b', label = 'weight = {:.4f}, bias = {:.4f}'.format(w, b))\n",
        "plt.scatter(xdata ,ydata, c = 'r')\n",
        "plt.legend()\n",
        "plt.show()"
      ],
      "execution_count": null,
      "outputs": [
        {
          "output_type": "display_data",
          "data": {
            "image/png": "[encoded data removed]",
            "text/plain": [
              "<Figure size 432x288 with 1 Axes>"
            ]
          },
          "metadata": {
            "tags": [],
            "needs_background": "light"
          }
        }
      ]
    },
    {
      "cell_type": "markdown",
      "metadata": {
        "id": "JLbijvnFrlB7"
      },
      "source": [
        "# Neural Network Regression (BISHOP 5.2)\n"
      ]
    },
    {
      "cell_type": "code",
      "metadata": {
        "id": "gZ-rtG-Qysq2"
      },
      "source": [
        "import numpy as np\n",
        "import matplotlib.pyplot\n",
        "import tqdm"
      ],
      "execution_count": null,
      "outputs": []
    },
    {
      "cell_type": "code",
      "metadata": {
        "id": "h5qBritlvn7d",
        "colab": {
          "base_uri": "https://localhost:8080/",
          "height": 265
        },
        "outputId": "778fc547-e783-40b9-d903-21115b18630f"
      },
      "source": [
        "x_data = np.linspace(-3, 3, 50)\n",
        "y_data = np.sin(x_data)\n",
        "\n",
        "plt.scatter(x_data, y_data)\n",
        "plt.show()"
      ],
      "execution_count": null,
      "outputs": [
        {
          "output_type": "display_data",
          "data": {
            "image/png": "[encoded data removed]",
            "text/plain": [
              "<Figure size 432x288 with 1 Axes>"
            ]
          },
          "metadata": {
            "tags": [],
            "needs_background": "light"
          }
        }
      ]
    },
    {
      "cell_type": "code",
      "metadata": {
        "id": "C4u__qP3u6Pb"
      },
      "source": [
        "class layer():\n",
        "  def __init__(self, n_neuron):\n",
        "    self.n_neuron = n_neuron"
      ],
      "execution_count": null,
      "outputs": []
    },
    {
      "cell_type": "code",
      "metadata": {
        "id": "GczpgnsBu-QY"
      },
      "source": [
        "def sigmoid(x):\n",
        "  return 1 / (1+np.exp(-x))\n",
        "\n",
        "def softmax(array):\n",
        "  return np.exp(array) / np.sum(np.exp(array), axis = 1)"
      ],
      "execution_count": null,
      "outputs": []
    },
    {
      "cell_type": "code",
      "metadata": {
        "id": "wr7iQFlEu-xH"
      },
      "source": [
        "class FCNet:\n",
        "  def __init__(self):\n",
        "    self.layers = []\n",
        "\n",
        "  def append_layer(self, n_neuron):\n",
        "    self.layers.append(layer(n_neuron)) #layer object들을 추가합니다. layer object는 n_neuron을 그 속성으로 가집니다. 따라서, model.append_layer(300)은 뉴런의 개수가 300개인 레이어가 모델에 추가됩니다.\n",
        "\n",
        "  def compile(self):\n",
        "    self.weight = [] # 각 층의 weight를 담을 리스트를 생성합니다.\n",
        "    self.bias = [] # 각 층의 bias를 담을 리스트를 생성합니다.\n",
        "    self.len_layers = len(self.layers) # layer의 개수를 의미합니다. \n",
        "    for i in range(self.len_layers - 1): # weight, bias는 각 층의 연결시에 필요하므로 그 개수는 레이어 개수보다 한 개 적습니다.\n",
        "      W = np.random.normal(0, 1, (self.layers[i].n_neuron, self.layers[i+1].n_neuron)) # 각 층의 weight는 [입력층 뉴런 수, 출력층 뉴런 수]의 파라미터를 가집니다.\n",
        "      b = np.random.normal(0, 1, (self.layers[i+1].n_neuron)) # 각 층의 bias는 [출력층 뉴런수]개의 파라미터를 가집니다.\n",
        "      self.weight.append(W) # 리스트에 weight를 저장합니다.\n",
        "      self.bias.append(b)\n",
        "    self.compiled = True\n",
        "\n",
        "  def forward(self, batch):\n",
        "    self.layer_outputs = [batch] # layer_outputs를 생성합니다. 이는 각 출력층의 값들입니다. 첫 번째 원소는 input이여야 하므로, 입력받은 batch를 이미 리스트로 가지고 있습니다.\n",
        "    for index, (weight, bias) in enumerate(zip(self.weight, self.bias)): # enumerate 함수는 index, object를, zip 함수는 두 object를 동시에 호출하는 함수입니다.\n",
        "      new_batch = np.dot(batch, weight) + bias # 다음 층의 출력을 계산합니다. Wx + b\n",
        "      if index != len(self.layers)-2:\n",
        "        new_batch = np.tanh(new_batch)\n",
        "      batch = new_batch # 다음 층에도 이를 통과시키기 위해 batch를 new_batch로 변경합니다.\n",
        "      self.layer_outputs.append(batch) # layer_outputs에 출력층의 값을 추가해줍니다.\n",
        "\n",
        "  def loss(self, prediction, output): \n",
        "    loss = 1/2 * np.sum((prediction - output)**2)\n",
        "    return loss\n",
        "\n",
        "# -----------------------------------------------------------------------------------------------------------------------------------------------------------------------------------------------------------------------------------\n",
        "# -----------------------------------------------------------------------------------------------------------------------------------------------------------------------------------------------------------------------------------\n",
        "# ----------------------------------------------------- 아래는 다음시간 내용입니다. 피팅이 된다는 것을 보여주기 위해 작성한 코드이니 크게 신경쓰지 않아도 됩니다. -------------------------------------------------------\n",
        "# -----------------------------------------------------------------------------------------------------------------------------------------------------------------------------------------------------------------------------------\n",
        "# -----------------------------------------------------------------------------------------------------------------------------------------------------------------------------------------------------------------------------------\n",
        "\n",
        "  def backpropagation(self, output): \n",
        "    self.weight_grad = [] # weight의 기울기 리스트를 생성합니다.\n",
        "    self.bias_grad = []# bias의 기울기 리스트를 생성합니다.\n",
        "    for idx in range(self.len_layers - 1): # 인덱싱이 복잡합니다. 역전파 이므로 순서가 반대입니다.\n",
        "      if idx == 0: # 마지막 층 인덱스에서\n",
        "        dC_ds = self.layer_outputs[-1] - output # dC/ds 는 (x_k - t_k) \n",
        "      else: # 나머지 층에서\n",
        "        x = self.layer_outputs[-(idx+1)]\n",
        "        dx_ds = (1 + x) * (1 - x) # dx/ds 는 tanh의 미분 x(1-x)입니다.\n",
        "        dC_ds = dC_ds @ self.weight[-(idx)].T * dx_ds # dC/dsj = dC/dsk * dsk/dxj * dxj/dsj \n",
        "      ds_dw = self.layer_outputs[-(idx+2)] # dsj/dwj는 항상 그 이전층 xi입니다.\n",
        "      dC_dw = (dC_ds.reshape(self.batch_size, -1, 1) @ ds_dw.reshape(self.batch_size, 1,-1)).T #dC_dw = dC/ds * ds/dw\n",
        "      dC_db = dC_ds # ds/db = 1 입니다.\n",
        "      dC_dw = np.mean(dC_dw, axis = 2) # 각 batch의 cost function은 원래 cost function의 평균값입니다.\n",
        "      dC_db = np.mean(dC_db, axis = 0) \n",
        "      self.weight_grad.append(dC_dw) # weight grad 리스트에 weight의 기울기를 추가합니다.\n",
        "      self.bias_grad.append(dC_db)\n",
        "    self.weight_grad = self.weight_grad[::-1] #오차 역전파는 반대방향이므로, 방향을 통일하기 위해 뒤집습니다.\n",
        "    self.bias_grad = self.bias_grad[::-1]\n",
        "  \n",
        "  def fit(self, x, y, epochs, batch_size):\n",
        "    self.batch_size = batch_size\n",
        "    for epoch in range(epochs):\n",
        "      for i in tqdm.tqdm(range(len(x) // batch_size)): # batch의 개수입니다. tqdm module은 상태 바를 만들어줍니다. 진행 상황을 확인할 수 있습니다.\n",
        "        self.forward(x) # batch를 이용하여 데이터를 예측합니다.\n",
        "        self.backpropagation(y) # 오차 역전파를 진행합니다.\n",
        "        for i in range(self.len_layers - 1): \n",
        "          self.weight[i] = self.weight[i] - 0.1 * self.weight_grad[i] # weight를 업데이트 합니다. weight_grad 값에 스칼라를 곱해 이 속도를 조절할 수 있습니다.\n",
        "          self.bias[i] = self.bias[i] - 0.1 *self.bias_grad[i] # bias를 업데이트 합니다. \n",
        "      print(\"one epoch ends.... loss = {}\".format(self.loss(self.layer_outputs[-1], y)))"
      ],
      "execution_count": null,
      "outputs": []
    },
    {
      "cell_type": "code",
      "metadata": {
        "id": "gH_G8phTvHsn"
      },
      "source": [
        "# network 만들기 \n",
        "\n",
        "net = FCNet()\n",
        "net.append_layer(50)\n",
        "net.append_layer(3)\n",
        "net.append_layer(50)\n",
        "net.compile()"
      ],
      "execution_count": null,
      "outputs": []
    },
    {
      "cell_type": "code",
      "metadata": {
        "id": "p5mh_E7HxGXr",
        "colab": {
          "base_uri": "https://localhost:8080/",
          "height": 283
        },
        "outputId": "26349d53-a053-4f66-b5da-46f1ccb63534"
      },
      "source": [
        "# fitting 전 예측\n",
        "\n",
        "net.forward(x_data)\n",
        "out = net.layer_outputs[-1]\n",
        "plt.scatter(x_data, out)\n",
        "plt.scatter(x_data, y_data)\n",
        "plt.show()\n",
        "\n",
        "net.loss(out, y_data)"
      ],
      "execution_count": null,
      "outputs": [
        {
          "output_type": "display_data",
          "data": {
            "image/png": "[encoded data removed]",
            "text/plain": [
              "<Figure size 432x288 with 1 Axes>"
            ]
          },
          "metadata": {
            "tags": [],
            "needs_background": "light"
          }
        },
        {
          "output_type": "execute_result",
          "data": {
            "text/plain": [
              "116.12876797539828"
            ]
          },
          "metadata": {
            "tags": []
          },
          "execution_count": 230
        }
      ]
    },
    {
      "cell_type": "code",
      "metadata": {
        "id": "bEdltnHhxMCC",
        "colab": {
          "base_uri": "https://localhost:8080/",
          "height": 377
        },
        "outputId": "27b48ef4-c017-4d33-dfa7-15ee34179945"
      },
      "source": [
        "net.fit(x_data,y_data, 10, 1)"
      ],
      "execution_count": null,
      "outputs": [
        {
          "output_type": "stream",
          "text": [
            "100%|██████████| 50/50 [00:00<00:00, 5337.62it/s]\n",
            "100%|██████████| 50/50 [00:00<00:00, 5895.68it/s]\n",
            "100%|██████████| 50/50 [00:00<00:00, 5531.49it/s]\n",
            "100%|██████████| 50/50 [00:00<00:00, 5154.73it/s]\n",
            "100%|██████████| 50/50 [00:00<00:00, 7071.36it/s]\n",
            "100%|██████████| 50/50 [00:00<00:00, 5241.83it/s]\n",
            "100%|██████████| 50/50 [00:00<00:00, 4733.02it/s]\n",
            "100%|██████████| 50/50 [00:00<00:00, 4156.48it/s]\n",
            "100%|██████████| 50/50 [00:00<00:00, 3926.44it/s]\n",
            "100%|██████████| 50/50 [00:00<00:00, 7981.25it/s]"
          ],
          "name": "stderr"
        },
        {
          "output_type": "stream",
          "text": [
            "one epoch ends.... loss = 1.6950109440552063e-30\n",
            "one epoch ends.... loss = 1.6950109440552063e-30\n",
            "one epoch ends.... loss = 1.6950109440552063e-30\n",
            "one epoch ends.... loss = 1.6796035045001084e-30\n",
            "one epoch ends.... loss = 1.6765220165890888e-30\n",
            "one epoch ends.... loss = 1.6765220165890888e-30\n",
            "one epoch ends.... loss = 1.6950109440552063e-30\n",
            "one epoch ends.... loss = 1.698092431966226e-30\n",
            "one epoch ends.... loss = 1.6950109440552063e-30\n",
            "one epoch ends.... loss = 1.6950109440552063e-30\n"
          ],
          "name": "stdout"
        },
        {
          "output_type": "stream",
          "text": [
            "\n"
          ],
          "name": "stderr"
        }
      ]
    },
    {
      "cell_type": "code",
      "metadata": {
        "id": "8xu7wkT03JrY",
        "colab": {
          "base_uri": "https://localhost:8080/",
          "height": 283
        },
        "outputId": "b7e3e930-1ede-4403-e97c-9e6e41c257cb"
      },
      "source": [
        "# fitting 후 예측\n",
        "\n",
        "net.forward(x_data)\n",
        "out = net.layer_outputs[-1]\n",
        "plt.plot(x_data, out, c= 'b', label = 'predicted')\n",
        "plt.scatter(x_data, y_data, c='r', label = 'sinx')\n",
        "plt.legend()\n",
        "plt.show()\n",
        "\n",
        "net.loss(out, y_data)"
      ],
      "execution_count": null,
      "outputs": [
        {
          "output_type": "display_data",
          "data": {
            "image/png": "[encoded data removed]",
            "text/plain": [
              "<Figure size 432x288 with 1 Axes>"
            ]
          },
          "metadata": {
            "tags": [],
            "needs_background": "light"
          }
        },
        {
          "output_type": "execute_result",
          "data": {
            "text/plain": [
              "1.6950109440552063e-30"
            ]
          },
          "metadata": {
            "tags": []
          },
          "execution_count": 235
        }
      ]
    },
    {
      "cell_type": "code",
      "metadata": {
        "id": "jkRpmzTa5rf4"
      },
      "source": [
        ""
      ],
      "execution_count": null,
      "outputs": []
    }
  ]
}