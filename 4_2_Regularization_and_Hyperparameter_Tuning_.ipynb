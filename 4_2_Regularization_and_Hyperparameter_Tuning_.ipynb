{
  "nbformat": 4,
  "nbformat_minor": 0,
  "metadata": {
    "colab": {
      "name": "4-2 Regularization and Hyperparameter Tuning .ipynb",
      "provenance": [],
      "collapsed_sections": [],
      "include_colab_link": true
    },
    "kernelspec": {
      "name": "python3",
      "display_name": "Python 3"
    }
  },
  "cells": [
    {
      "cell_type": "markdown",
      "metadata": {
        "id": "view-in-github",
        "colab_type": "text"
      },
      "source": [
        "<a href=\"https://colab.research.google.com/github/jihyuk1023/AI_physics/blob/main/4_2_Regularization_and_Hyperparameter_Tuning_.ipynb\" target=\"_parent\"><img src=\"https://colab.research.google.com/assets/colab-badge.svg\" alt=\"Open In Colab\"/></a>"
      ]
    },
    {
      "cell_type": "code",
      "metadata": {
        "id": "GdXUYXXvlVjt"
      },
      "source": [
        "import os\n",
        "import numpy as np\n",
        "import matplotlib as mpl\n",
        "import matplotlib.pyplot as plt\n",
        "import tensorflow as tf\n",
        "from tensorflow.keras.utils import to_categorical\n",
        "from abc import *\n",
        "import sys\n",
        "import tqdm\n",
        "import joblib"
      ],
      "execution_count": null,
      "outputs": []
    },
    {
      "cell_type": "code",
      "metadata": {
        "id": "w20DLnyklfeA",
        "colab": {
          "base_uri": "https://localhost:8080/",
          "height": 52
        },
        "outputId": "8e65ca30-f5ad-4f91-c274-fffbda8e7afd"
      },
      "source": [
        "import tensorflow as tf\n",
        "from tensorflow.keras.utils import to_categorical\n",
        "\n",
        "mnist = tf.keras.datasets.mnist\n",
        "(x_train, y_train),(x_test, y_test) = mnist.load_data()\n",
        "x_train = x_train / 255.0\n",
        "x_test = x_test / 255.0\n",
        "\n",
        "y_train_encoded = to_categorical(y_train, 10)\n",
        "y_test_encoded = to_categorical(y_test, 10)\n",
        "\n",
        "x_train = x_train.reshape(-1, 784)\n",
        "x_test = x_test.reshape(-1,784)\n",
        "\n",
        "x_val = x_train[54000:]\n",
        "y_val_encoded = y_train_encoded[54000:]\n",
        "x_train = x_train[:54000]\n",
        "y_train_encoded = y_train_encoded[:54000]"
      ],
      "execution_count": null,
      "outputs": [
        {
          "output_type": "stream",
          "text": [
            "Downloading data from https://storage.googleapis.com/tensorflow/tf-keras-datasets/mnist.npz\n",
            "11493376/11490434 [==============================] - 0s 0us/step\n"
          ],
          "name": "stdout"
        }
      ]
    },
    {
      "cell_type": "code",
      "metadata": {
        "id": "FFeya5TRlgut"
      },
      "source": [
        "def sigmoid(x):\n",
        "  return 1 / (1+np.exp(-x))\n",
        "\n",
        "  \n",
        "def softmax(array):\n",
        "  return np.exp(array) / np.sum(np.exp(array), axis = 1)"
      ],
      "execution_count": null,
      "outputs": []
    },
    {
      "cell_type": "code",
      "metadata": {
        "id": "ouzbHuqtljmk"
      },
      "source": [
        "class layer():\n",
        "  '''\n",
        "  layer class. Dense층을 형성합니다.\n",
        "  '''\n",
        "  def __init__(self, n_neuron):\n",
        "    self.n_neuron = n_neuron"
      ],
      "execution_count": null,
      "outputs": []
    },
    {
      "cell_type": "code",
      "metadata": {
        "id": "GzenfQk4lpCg"
      },
      "source": [
        "class FCNet():\n",
        "  '''\n",
        "  Fully Connected net 을 생성합니다.\n",
        "  '''\n",
        "  def __init__(self):\n",
        "    self.layers = []\n",
        "    super().__init__()\n",
        "\n",
        "  def append_layer(self, n_neuron):\n",
        "    self.layers.append(layer(n_neuron)) #layer object들을 추가합니다. layer object는 n_neuron을 그 속성으로 가집니다. 따라서, model.append_layer(300)은 뉴런의 개수가 300개인 레이어가 모델에 추가됩니다.\n",
        "\n",
        "  def compile(self, weight_mode = 'normal'):\n",
        "    if weight_mode not in ['ones', 'zeros', 'normal', 'uniform']:\n",
        "      print(\"weight mode should be one of the 'ones', 'zeros', 'normal', 'uniform'\")\n",
        "      sys.exit()\n",
        "    self.weight = [] # 각 층의 weight를 담을 리스트를 생성합니다.\n",
        "    self.bias = [] # 각 층의 bias를 담을 리스트를 생성합니다.\n",
        "    self.len_layers = len(self.layers) # layer의 개수를 의미합니다. \n",
        "    for i in range(self.len_layers - 1): # weight, bias는 각 층의 연결시에 필요하므로 그 개수는 레이어 개수보다 한 개 적습니다.\n",
        "      if weight_mode == 'normal':\n",
        "        W = np.random.normal(0, 1, (self.layers[i].n_neuron, self.layers[i+1].n_neuron)) # 각 층의 weight는 [입력층 뉴런 수, 출력층 뉴런 수]의 파라미터를 가집니다.\n",
        "        b = np.random.normal(0, 1, (self.layers[i+1].n_neuron)) # 각 층의 bias는 [출력층 뉴런수]개의 파라미터를 가집니다.\n",
        "      if weight_mode == 'uniform':\n",
        "        W = np.random.uniform(0, 1, (self.layers[i].n_neuron, self.layers[i+1].n_neuron)) # 각 층의 weight는 [입력층 뉴런 수, 출력층 뉴런 수]의 파라미터를 가집니다.\n",
        "        b = np.random.uniform(0, 1, (self.layers[i+1].n_neuron)) # 각 층의 bias는 [출력층 뉴런수]개의 파라미터를 가집니다.\n",
        "      if weight_mode == 'zeros':\n",
        "        W = np.zeros((self.layers[i].n_neuron, self.layers[i+1].n_neuron)) # 각 층의 weight는 [입력층 뉴런 수, 출력층 뉴런 수]의 파라미터를 가집니다.\n",
        "        b = np.zeros((self.layers[i+1].n_neuron)) # 각 층의 bias는 [출력층 뉴런수]개의 파라미터를 가집니다.\n",
        "      if weight_mode == 'ones':\n",
        "        W = np.ones((self.layers[i].n_neuron, self.layers[i+1].n_neuron)) # 각 층의 weight는 [입력층 뉴런 수, 출력층 뉴런 수]의 파라미터를 가집니다.\n",
        "        b = np.ones((self.layers[i+1].n_neuron)) # 각 층의 bias는 [출력층 뉴런수]개의 파라미터를 가집니다.\n",
        "      self.weight.append(W) # 리스트에 weight를 저장합니다.\n",
        "      self.bias.append(b)\n",
        "    self.compiled = True\n",
        "\n",
        "  def forward(self, batch):\n",
        "    self.layer_outputs = [batch] # layer_outputs를 생성합니다. 이는 각 출력층의 값들입니다. 첫 번째 원소는 input이여야 하므로, 입력받은 batch를 이미 리스트로 가지고 있습니다.\n",
        "    for index, (weight, bias) in enumerate(zip(self.weight, self.bias)): # enumerate 함수는 index, object를, zip 함수는 두 object를 동시에 호출하는 함수입니다.\n",
        "      new_batch = np.dot(batch, weight) + bias # 다음 층의 출력을 계산합니다. Wx + b\n",
        "      new_batch = sigmoid(new_batch) # activation 함수를 통과시킵니다.\n",
        "      if index == self.len_layers - 1: # 마지막 층에서는 \n",
        "        new_batch = softmax(new_batch) # softmax함수에 통과시킵니다.(전체 확률은 1이 됩니다.)\n",
        "      batch = new_batch # 다음 층에도 이를 통과시키기 위해 batch를 new_batch로 변경합니다.\n",
        "      self.layer_outputs.append(batch) # layer_outputs에 출력층의 값을 추가해줍니다.\n",
        "\n",
        "  def loss(self, prediction, output): # Cross entropy 값을 loss로 갖는 함수입니다.\n",
        "    cross_entropy = - (np.sum(output * np.log(prediction) + (1-output) * np.log(1-prediction))) / len(output)\n",
        "    return cross_entropy\n",
        "\n",
        "  def backpropagation(self, output): \n",
        "    self.weight_grad = [] # weight의 기울기 리스트를 생성합니다.\n",
        "    self.bias_grad = []# bias의 기울기 리스트를 생성합니다.\n",
        "    for idx in range(self.len_layers - 1): # 인덱싱이 복잡합니다. 역전파 이므로 순서가 반대입니다.\n",
        "      if idx == 0: # 마지막 층 인덱스에서\n",
        "        dC_ds = self.layer_outputs[-1] - output # dC/ds 는 (x_k - t_k) 2 * (asdfasdf)\n",
        "      else: # 나머지 층에서\n",
        "        x = self.layer_outputs[-(idx+1)]\n",
        "        dx_ds = x * (1 - x) # dx/ds 는 sigmoid의 미분 x(1-x)입니다.z\n",
        "        dC_ds = dC_ds @ self.weight[-(idx)].T * dx_ds # dC/dsj = dC/dsk * dsk/dxj * dxj/dsj \n",
        "      ds_dw = self.layer_outputs[-(idx+2)] # dsj/dwj는 항상 그 이전층 xi입니다.\n",
        "      dC_dw = (dC_ds.reshape(self.batch_size, -1, 1) @ ds_dw.reshape(self.batch_size, 1,-1)).T #dC_dw = dC/ds * ds/dw\n",
        "      dC_db = dC_ds # ds/db = 1 입니다.\n",
        "      dC_dw = np.mean(dC_dw, axis = 2) # 각 batch의 cost function은 원래 cost function의 평균값입니다.\n",
        "      dC_db = np.mean(dC_db, axis = 0) \n",
        "      self.weight_grad.append(dC_dw) # weight grad 리스트에 weight의 기울기를 추가합니다.\n",
        "      self.bias_grad.append(dC_db)\n",
        "    self.weight_grad = self.weight_grad[::-1] #오차 역전파는 반대방향이므로, 방향을 통일하기 위해 뒤집습니다.\n",
        "    self.bias_grad = self.bias_grad[::-1]\n",
        "  \n",
        "  def accuracy(self, predict, output):\n",
        "    return np.where(np.argmax(predict, axis = 1) == np.argmax(output, axis=1), 1,0).sum() / len(output)\n",
        "\n",
        "  def validation(self, validation_input, validation_output):\n",
        "    self.forward(validation_input)\n",
        "    predict = self.layer_outputs[-1]\n",
        "    acc = self.accuracy(predict, validation_output)\n",
        "    loss = self.loss(predict, validation_output)\n",
        "    print(\"\")\n",
        "    print('val_accuracy = {}'.format(acc))\n",
        "    print('val_loss = {}'.format(loss))\n",
        "\n",
        "  def fit(self, x, y, val_x, val_y, epochs, batch_size, lr = 0.1, lambda_1 = 0.001, lambda_2 =0.1):\n",
        "    self.batch_size = batch_size\n",
        "    self.val_loss_history = []\n",
        "    self.val_acc_history = []\n",
        "    self.train_loss_history = []\n",
        "    self.train_acc_history = []\n",
        "    self.trainer = True\n",
        "    if self.trainer:\n",
        "      for epoch in range(epochs):\n",
        "        train_loss = 0\n",
        "        train_acc = 0\n",
        "        batch_generator = self.batch_generator(x, y, self.batch_size) # batch를 생성할 수 있는 generator를 생성합니다. 제너레이터는 데이터들을 호출합니다.\n",
        "        steps = len(x) // batch_size \n",
        "        for i in tqdm.tqdm(range(steps)): # batch의 개수입니다. tqdm module은 상태 바를 만들어줍니다. 진행 상황을 확인할 수 있습니다.\n",
        "          batch, batch_output = next(batch_generator)\n",
        "          self.forward(batch) # batch를 이용하여 데이터를 예측합니다.\n",
        "          self.backpropagation(batch_output) # 오차 역전파를 진행합니다.\n",
        "          for i in range(self.len_layers - 1): \n",
        "            self.weight[i] = (1 - lr * lambda_2 / len(batch)) * self.weight[i] - lr * self.weight_grad[i] - lr * lambda_1 * np.sign(self.weight[i]) # weight를 업데이트 합니다. weight_grad 값에 스칼라를 곱해 이 속도를 조절할 수 있습니다.\n",
        "            self.bias[i] = self.bias[i] - lr *self.bias_grad[i] # bias를 업데이트 합니다. \n",
        "          train_loss += self.loss(self.layer_outputs[-1], batch_output)\n",
        "          train_acc += self.accuracy(self.layer_outputs[-1], batch_output)\n",
        "        train_loss /= steps\n",
        "        train_acc /= steps\n",
        "        self.train_loss_history.append(train_loss)    \n",
        "        self.train_acc_history.append(train_acc)\n",
        "        print(\"train_loss : {}\".format(train_loss))\n",
        "        print(\"train_acc : {}\".format(train_acc))\n",
        "        self.validation(val_x, val_y)\n",
        "        self.early_stopping(5)\n",
        "\n",
        "\n",
        "  def batch_generator(self, x, y , batch_size): # batch generator를 정의합니다. \n",
        "    i = -1\n",
        "    while True:\n",
        "      i += 1\n",
        "      if (i+2)*batch_size < len(x):\n",
        "        yield x[i*batch_size:(i+1)*batch_size], y[i*batch_size:(i+1)*batch_size]\n",
        "      else:\n",
        "        self.batch_size = len(x[i*batch_size:])\n",
        "        yield x[i*batch_size:], y[i*batch_size:]\n",
        "        i = -1\n",
        "        self.batch_size = batch_size\n",
        "\n",
        "  def validation(self, validation_input, validation_output):\n",
        "    self.forward(validation_input)\n",
        "    predict = self.layer_outputs[-1]\n",
        "    acc = self.accuracy(predict, validation_output)\n",
        "    loss = self.loss(predict, validation_output)\n",
        "    self.val_loss_history.append(loss)\n",
        "    self.val_acc_history.append(acc)\n",
        "    print('\\nval_loss = {}'.format(loss))\n",
        "    print('val_accuracy = {}'.format(acc))\n",
        "\n",
        "  def plot_graph(self):\n",
        "    plt.style.use('ggplot')\n",
        "    mpl.rcParams['axes.unicode_minus'] = False\n",
        "    \n",
        "    fig, axes = plt.subplots(2,1)\n",
        "    axes[0].plot(self.train_loss_history, label='train_loss')\n",
        "    axes[0].plot(self.val_loss_history, label='test_loss')\n",
        "    axes[0].title.set_text(\"loss graph\")\n",
        "    plt.legend()\n",
        "    axes[1].plot(self.train_acc_history, label = 'train_acc')\n",
        "    axes[1].plot(self.val_acc_history, label = 'val_acc')\n",
        "    axes[1].title.set_text(\"acc graph\")\n",
        "    plt.legend()\n",
        "    plt.show()\n",
        "\n",
        "  def early_stopping(self, watch):\n",
        "    best_history = np.argmax(self.val_acc_history)\n",
        "    if best_history == len(self.val_acc_history) - watch:\n",
        "      print(\"early stopped.\")\n",
        "      self.trainer = 0"
      ],
      "execution_count": null,
      "outputs": []
    },
    {
      "cell_type": "code",
      "metadata": {
        "id": "sHwap4N1lupE"
      },
      "source": [
        "net = FCNet()\n",
        "net.append_layer(784)\n",
        "net.append_layer(256)\n",
        "net.append_layer(10)\n",
        "net.compile(weight_mode = 'normal')"
      ],
      "execution_count": null,
      "outputs": []
    },
    {
      "cell_type": "code",
      "metadata": {
        "id": "6746ZQr-lvdc"
      },
      "source": [
        "def savemodel(filename, model):        \n",
        "  joblib.dump(model,filename)"
      ],
      "execution_count": null,
      "outputs": []
    },
    {
      "cell_type": "code",
      "metadata": {
        "id": "scOXijiclxWs",
        "colab": {
          "base_uri": "https://localhost:8080/",
          "height": 1000
        },
        "outputId": "b040fe25-46b5-4920-cede-7b565cf97ef7"
      },
      "source": [
        "net.fit(x_train, y_train_encoded, x_test, y_test_encoded, 30, 64, lr= 0.1)\n",
        "savemodel(\"/content/model_v0\", net)"
      ],
      "execution_count": null,
      "outputs": [
        {
          "output_type": "stream",
          "text": [
            "100%|██████████| 843/843 [01:12<00:00, 11.71it/s]\n"
          ],
          "name": "stderr"
        },
        {
          "output_type": "stream",
          "text": [
            "train_loss : 2.484935617255204\n",
            "train_acc : 0.7080738434163701\n"
          ],
          "name": "stdout"
        },
        {
          "output_type": "stream",
          "text": [
            "  0%|          | 1/843 [00:00<02:00,  7.01it/s]"
          ],
          "name": "stderr"
        },
        {
          "output_type": "stream",
          "text": [
            "\n",
            "val_loss = 1.1488064731210599\n",
            "val_accuracy = 0.8425\n"
          ],
          "name": "stdout"
        },
        {
          "output_type": "stream",
          "text": [
            "100%|██████████| 843/843 [01:59<00:00,  7.08it/s]\n"
          ],
          "name": "stderr"
        },
        {
          "output_type": "stream",
          "text": [
            "train_loss : 0.984865377739646\n",
            "train_acc : 0.863158786646332\n"
          ],
          "name": "stdout"
        },
        {
          "output_type": "stream",
          "text": [
            "  0%|          | 1/843 [00:00<01:58,  7.09it/s]"
          ],
          "name": "stderr"
        },
        {
          "output_type": "stream",
          "text": [
            "\n",
            "val_loss = 0.8118932512764022\n",
            "val_accuracy = 0.8865\n"
          ],
          "name": "stdout"
        },
        {
          "output_type": "stream",
          "text": [
            "100%|██████████| 843/843 [01:59<00:00,  7.07it/s]\n"
          ],
          "name": "stderr"
        },
        {
          "output_type": "stream",
          "text": [
            "train_loss : 0.7698794225932426\n",
            "train_acc : 0.8924189226402307\n"
          ],
          "name": "stdout"
        },
        {
          "output_type": "stream",
          "text": [
            "  0%|          | 1/843 [00:00<01:57,  7.16it/s]"
          ],
          "name": "stderr"
        },
        {
          "output_type": "stream",
          "text": [
            "\n",
            "val_loss = 0.6910547408607155\n",
            "val_accuracy = 0.904\n"
          ],
          "name": "stdout"
        },
        {
          "output_type": "stream",
          "text": [
            "100%|██████████| 843/843 [01:58<00:00,  7.09it/s]\n"
          ],
          "name": "stderr"
        },
        {
          "output_type": "stream",
          "text": [
            "train_loss : 0.6870976858473283\n",
            "train_acc : 0.906281774275547\n"
          ],
          "name": "stdout"
        },
        {
          "output_type": "stream",
          "text": [
            "  0%|          | 1/843 [00:00<02:00,  7.00it/s]"
          ],
          "name": "stderr"
        },
        {
          "output_type": "stream",
          "text": [
            "\n",
            "val_loss = 0.6441125028737414\n",
            "val_accuracy = 0.9152\n"
          ],
          "name": "stdout"
        },
        {
          "output_type": "stream",
          "text": [
            "100%|██████████| 843/843 [01:59<00:00,  7.08it/s]\n"
          ],
          "name": "stderr"
        },
        {
          "output_type": "stream",
          "text": [
            "train_loss : 0.6614102944505041\n",
            "train_acc : 0.9135885337230988\n"
          ],
          "name": "stdout"
        },
        {
          "output_type": "stream",
          "text": [
            "  0%|          | 1/843 [00:00<01:58,  7.12it/s]"
          ],
          "name": "stderr"
        },
        {
          "output_type": "stream",
          "text": [
            "\n",
            "val_loss = 0.6362352957431352\n",
            "val_accuracy = 0.9197\n"
          ],
          "name": "stdout"
        },
        {
          "output_type": "stream",
          "text": [
            "100%|██████████| 843/843 [01:58<00:00,  7.09it/s]\n"
          ],
          "name": "stderr"
        },
        {
          "output_type": "stream",
          "text": [
            "train_loss : 0.6668064228831336\n",
            "train_acc : 0.9160894339942376\n"
          ],
          "name": "stdout"
        },
        {
          "output_type": "stream",
          "text": [
            "  0%|          | 1/843 [00:00<02:07,  6.62it/s]"
          ],
          "name": "stderr"
        },
        {
          "output_type": "stream",
          "text": [
            "\n",
            "val_loss = 0.6517492688311508\n",
            "val_accuracy = 0.9209\n"
          ],
          "name": "stdout"
        },
        {
          "output_type": "stream",
          "text": [
            "100%|██████████| 843/843 [01:58<00:00,  7.09it/s]\n"
          ],
          "name": "stderr"
        },
        {
          "output_type": "stream",
          "text": [
            "train_loss : 0.6905190911849255\n",
            "train_acc : 0.9151070793085917\n"
          ],
          "name": "stdout"
        },
        {
          "output_type": "stream",
          "text": [
            "  0%|          | 1/843 [00:00<01:59,  7.02it/s]"
          ],
          "name": "stderr"
        },
        {
          "output_type": "stream",
          "text": [
            "\n",
            "val_loss = 0.6816958665309448\n",
            "val_accuracy = 0.9201\n"
          ],
          "name": "stdout"
        },
        {
          "output_type": "stream",
          "text": [
            "100%|██████████| 843/843 [01:59<00:00,  7.08it/s]\n"
          ],
          "name": "stderr"
        },
        {
          "output_type": "stream",
          "text": [
            "train_loss : 0.7265481718068649\n",
            "train_acc : 0.9126326576004056\n"
          ],
          "name": "stdout"
        },
        {
          "output_type": "stream",
          "text": [
            "  0%|          | 1/843 [00:00<01:57,  7.18it/s]"
          ],
          "name": "stderr"
        },
        {
          "output_type": "stream",
          "text": [
            "\n",
            "val_loss = 0.721516906267865\n",
            "val_accuracy = 0.916\n"
          ],
          "name": "stdout"
        },
        {
          "output_type": "stream",
          "text": [
            "100%|██████████| 843/843 [01:59<00:00,  7.06it/s]\n"
          ],
          "name": "stderr"
        },
        {
          "output_type": "stream",
          "text": [
            "train_loss : 0.7732763789912558\n",
            "train_acc : 0.9079591912387728\n"
          ],
          "name": "stdout"
        },
        {
          "output_type": "stream",
          "text": [
            "  0%|          | 1/843 [00:00<01:57,  7.16it/s]"
          ],
          "name": "stderr"
        },
        {
          "output_type": "stream",
          "text": [
            "\n",
            "val_loss = 0.7704537596602293\n",
            "val_accuracy = 0.9116\n"
          ],
          "name": "stdout"
        },
        {
          "output_type": "stream",
          "text": [
            "100%|██████████| 843/843 [02:00<00:00,  6.99it/s]\n"
          ],
          "name": "stderr"
        },
        {
          "output_type": "stream",
          "text": [
            "train_loss : 0.8271718035109036\n",
            "train_acc : 0.9020809502626675\n"
          ],
          "name": "stdout"
        },
        {
          "output_type": "stream",
          "text": [
            "  0%|          | 1/843 [00:00<01:58,  7.10it/s]"
          ],
          "name": "stderr"
        },
        {
          "output_type": "stream",
          "text": [
            "\n",
            "val_loss = 0.8239319120438162\n",
            "val_accuracy = 0.9056\n",
            "early stopped.\n"
          ],
          "name": "stdout"
        },
        {
          "output_type": "stream",
          "text": [
            "100%|██████████| 843/843 [02:01<00:00,  6.96it/s]\n"
          ],
          "name": "stderr"
        },
        {
          "output_type": "stream",
          "text": [
            "train_loss : 0.8823771732863857\n",
            "train_acc : 0.8954944077275044\n"
          ],
          "name": "stdout"
        },
        {
          "output_type": "stream",
          "text": [
            "  0%|          | 1/843 [00:00<01:56,  7.22it/s]"
          ],
          "name": "stderr"
        },
        {
          "output_type": "stream",
          "text": [
            "\n",
            "val_loss = 0.8759422407948178\n",
            "val_accuracy = 0.9005\n"
          ],
          "name": "stdout"
        },
        {
          "output_type": "stream",
          "text": [
            "100%|██████████| 843/843 [02:00<00:00,  6.98it/s]\n"
          ],
          "name": "stderr"
        },
        {
          "output_type": "stream",
          "text": [
            "train_loss : 0.9289353616487558\n",
            "train_acc : 0.8899339095068636\n"
          ],
          "name": "stdout"
        },
        {
          "output_type": "stream",
          "text": [
            "  0%|          | 1/843 [00:00<01:57,  7.15it/s]"
          ],
          "name": "stderr"
        },
        {
          "output_type": "stream",
          "text": [
            "\n",
            "val_loss = 0.9144656623999446\n",
            "val_accuracy = 0.8944\n"
          ],
          "name": "stdout"
        },
        {
          "output_type": "stream",
          "text": [
            "100%|██████████| 843/843 [02:01<00:00,  6.96it/s]\n"
          ],
          "name": "stderr"
        },
        {
          "output_type": "stream",
          "text": [
            "train_loss : 0.9573127207890539\n",
            "train_acc : 0.8861223203694288\n"
          ],
          "name": "stdout"
        },
        {
          "output_type": "stream",
          "text": [
            "  0%|          | 1/843 [00:00<02:01,  6.91it/s]"
          ],
          "name": "stderr"
        },
        {
          "output_type": "stream",
          "text": [
            "\n",
            "val_loss = 0.9318393310949946\n",
            "val_accuracy = 0.8911\n"
          ],
          "name": "stdout"
        },
        {
          "output_type": "stream",
          "text": [
            "100%|██████████| 843/843 [02:01<00:00,  6.96it/s]\n"
          ],
          "name": "stderr"
        },
        {
          "output_type": "stream",
          "text": [
            "train_loss : 0.9642283456689505\n",
            "train_acc : 0.884143047788511\n"
          ],
          "name": "stdout"
        },
        {
          "output_type": "stream",
          "text": [
            "  0%|          | 1/843 [00:00<02:00,  6.96it/s]"
          ],
          "name": "stderr"
        },
        {
          "output_type": "stream",
          "text": [
            "\n",
            "val_loss = 0.9290440135871176\n",
            "val_accuracy = 0.8905\n"
          ],
          "name": "stdout"
        },
        {
          "output_type": "stream",
          "text": [
            "100%|██████████| 843/843 [02:01<00:00,  6.95it/s]\n"
          ],
          "name": "stderr"
        },
        {
          "output_type": "stream",
          "text": [
            "train_loss : 0.955863406118214\n",
            "train_acc : 0.8832507202169129\n"
          ],
          "name": "stdout"
        },
        {
          "output_type": "stream",
          "text": [
            "  0%|          | 1/843 [00:00<01:58,  7.12it/s]"
          ],
          "name": "stderr"
        },
        {
          "output_type": "stream",
          "text": [
            "\n",
            "val_loss = 0.9150177389295066\n",
            "val_accuracy = 0.8911\n"
          ],
          "name": "stdout"
        },
        {
          "output_type": "stream",
          "text": [
            "100%|██████████| 843/843 [02:04<00:00,  6.79it/s]\n"
          ],
          "name": "stderr"
        },
        {
          "output_type": "stream",
          "text": [
            "train_loss : 0.9394073549545383\n",
            "train_acc : 0.8838544314522967\n"
          ],
          "name": "stdout"
        },
        {
          "output_type": "stream",
          "text": [
            "  0%|          | 1/843 [00:00<02:04,  6.74it/s]"
          ],
          "name": "stderr"
        },
        {
          "output_type": "stream",
          "text": [
            "\n",
            "val_loss = 0.8965539443367581\n",
            "val_accuracy = 0.8923\n"
          ],
          "name": "stdout"
        },
        {
          "output_type": "stream",
          "text": [
            "100%|██████████| 843/843 [02:04<00:00,  6.77it/s]\n"
          ],
          "name": "stderr"
        },
        {
          "output_type": "stream",
          "text": [
            "train_loss : 0.9206198261875647\n",
            "train_acc : 0.8852524995763434\n"
          ],
          "name": "stdout"
        },
        {
          "output_type": "stream",
          "text": [
            "  0%|          | 1/843 [00:00<02:06,  6.66it/s]"
          ],
          "name": "stderr"
        },
        {
          "output_type": "stream",
          "text": [
            "\n",
            "val_loss = 0.8786070543249341\n",
            "val_accuracy = 0.8942\n"
          ],
          "name": "stdout"
        },
        {
          "output_type": "stream",
          "text": [
            "100%|██████████| 843/843 [02:03<00:00,  6.85it/s]\n"
          ],
          "name": "stderr"
        },
        {
          "output_type": "stream",
          "text": [
            "train_loss : 0.9026458015999221\n",
            "train_acc : 0.8872834053550251\n"
          ],
          "name": "stdout"
        },
        {
          "output_type": "stream",
          "text": [
            "  0%|          | 1/843 [00:00<02:00,  6.99it/s]"
          ],
          "name": "stderr"
        },
        {
          "output_type": "stream",
          "text": [
            "\n",
            "val_loss = 0.8619849463186685\n",
            "val_accuracy = 0.8961\n"
          ],
          "name": "stdout"
        },
        {
          "output_type": "stream",
          "text": [
            "100%|██████████| 843/843 [02:03<00:00,  6.85it/s]\n"
          ],
          "name": "stderr"
        },
        {
          "output_type": "stream",
          "text": [
            "train_loss : 0.8863008967704528\n",
            "train_acc : 0.8889250762582623\n"
          ],
          "name": "stdout"
        },
        {
          "output_type": "stream",
          "text": [
            "  0%|          | 1/843 [00:00<02:01,  6.94it/s]"
          ],
          "name": "stderr"
        },
        {
          "output_type": "stream",
          "text": [
            "\n",
            "val_loss = 0.8472018776331295\n",
            "val_accuracy = 0.8973\n"
          ],
          "name": "stdout"
        },
        {
          "output_type": "stream",
          "text": [
            "100%|██████████| 843/843 [02:03<00:00,  6.84it/s]\n"
          ],
          "name": "stderr"
        },
        {
          "output_type": "stream",
          "text": [
            "train_loss : 0.8719739892915838\n",
            "train_acc : 0.8905031986104053\n"
          ],
          "name": "stdout"
        },
        {
          "output_type": "stream",
          "text": [
            "  0%|          | 1/843 [00:00<02:07,  6.59it/s]"
          ],
          "name": "stderr"
        },
        {
          "output_type": "stream",
          "text": [
            "\n",
            "val_loss = 0.8345012896604316\n",
            "val_accuracy = 0.8986\n"
          ],
          "name": "stdout"
        },
        {
          "output_type": "stream",
          "text": [
            "100%|██████████| 843/843 [02:02<00:00,  6.89it/s]\n"
          ],
          "name": "stderr"
        },
        {
          "output_type": "stream",
          "text": [
            "train_loss : 0.8596468438460634\n",
            "train_acc : 0.892004533129978\n"
          ],
          "name": "stdout"
        },
        {
          "output_type": "stream",
          "text": [
            "  0%|          | 1/843 [00:00<02:00,  6.98it/s]"
          ],
          "name": "stderr"
        },
        {
          "output_type": "stream",
          "text": [
            "\n",
            "val_loss = 0.8233498516289457\n",
            "val_accuracy = 0.9002\n"
          ],
          "name": "stdout"
        },
        {
          "output_type": "stream",
          "text": [
            "100%|██████████| 843/843 [02:01<00:00,  6.91it/s]\n"
          ],
          "name": "stderr"
        },
        {
          "output_type": "stream",
          "text": [
            "train_loss : 0.8488538155362484\n",
            "train_acc : 0.8932755041518391\n"
          ],
          "name": "stdout"
        },
        {
          "output_type": "stream",
          "text": [
            "  0%|          | 1/843 [00:00<02:01,  6.94it/s]"
          ],
          "name": "stderr"
        },
        {
          "output_type": "stream",
          "text": [
            "\n",
            "val_loss = 0.8136481525466752\n",
            "val_accuracy = 0.9008\n"
          ],
          "name": "stdout"
        },
        {
          "output_type": "stream",
          "text": [
            "100%|██████████| 843/843 [02:02<00:00,  6.89it/s]\n"
          ],
          "name": "stderr"
        },
        {
          "output_type": "stream",
          "text": [
            "train_loss : 0.8392465688593812\n",
            "train_acc : 0.8941863667175058\n"
          ],
          "name": "stdout"
        },
        {
          "output_type": "stream",
          "text": [
            "  0%|          | 1/843 [00:00<02:03,  6.84it/s]"
          ],
          "name": "stderr"
        },
        {
          "output_type": "stream",
          "text": [
            "\n",
            "val_loss = 0.8049307528577666\n",
            "val_accuracy = 0.9018\n"
          ],
          "name": "stdout"
        },
        {
          "output_type": "stream",
          "text": [
            "100%|██████████| 843/843 [02:01<00:00,  6.92it/s]\n"
          ],
          "name": "stderr"
        },
        {
          "output_type": "stream",
          "text": [
            "train_loss : 0.8308309336312502\n",
            "train_acc : 0.8948959922047119\n"
          ],
          "name": "stdout"
        },
        {
          "output_type": "stream",
          "text": [
            "  0%|          | 1/843 [00:00<02:02,  6.85it/s]"
          ],
          "name": "stderr"
        },
        {
          "output_type": "stream",
          "text": [
            "\n",
            "val_loss = 0.7974970518721629\n",
            "val_accuracy = 0.9023\n"
          ],
          "name": "stdout"
        },
        {
          "output_type": "stream",
          "text": [
            "100%|██████████| 843/843 [02:01<00:00,  6.92it/s]\n"
          ],
          "name": "stderr"
        },
        {
          "output_type": "stream",
          "text": [
            "train_loss : 0.8236406849131179\n",
            "train_acc : 0.895501027368244\n"
          ],
          "name": "stdout"
        },
        {
          "output_type": "stream",
          "text": [
            "  0%|          | 1/843 [00:00<02:01,  6.94it/s]"
          ],
          "name": "stderr"
        },
        {
          "output_type": "stream",
          "text": [
            "\n",
            "val_loss = 0.7911663360017234\n",
            "val_accuracy = 0.9037\n"
          ],
          "name": "stdout"
        },
        {
          "output_type": "stream",
          "text": [
            "100%|██████████| 843/843 [02:02<00:00,  6.90it/s]\n"
          ],
          "name": "stderr"
        },
        {
          "output_type": "stream",
          "text": [
            "train_loss : 0.8173720622259097\n",
            "train_acc : 0.8959352758007132\n"
          ],
          "name": "stdout"
        },
        {
          "output_type": "stream",
          "text": [
            "  0%|          | 1/843 [00:00<01:59,  7.04it/s]"
          ],
          "name": "stderr"
        },
        {
          "output_type": "stream",
          "text": [
            "\n",
            "val_loss = 0.7856631204753325\n",
            "val_accuracy = 0.9042\n"
          ],
          "name": "stdout"
        },
        {
          "output_type": "stream",
          "text": [
            "100%|██████████| 843/843 [02:02<00:00,  6.87it/s]\n"
          ],
          "name": "stderr"
        },
        {
          "output_type": "stream",
          "text": [
            "train_loss : 0.8118113532855206\n",
            "train_acc : 0.8965297195390624\n"
          ],
          "name": "stdout"
        },
        {
          "output_type": "stream",
          "text": [
            "  0%|          | 1/843 [00:00<02:00,  7.00it/s]"
          ],
          "name": "stderr"
        },
        {
          "output_type": "stream",
          "text": [
            "\n",
            "val_loss = 0.7807156549566374\n",
            "val_accuracy = 0.904\n"
          ],
          "name": "stdout"
        },
        {
          "output_type": "stream",
          "text": [
            "100%|██████████| 843/843 [02:02<00:00,  6.85it/s]\n"
          ],
          "name": "stderr"
        },
        {
          "output_type": "stream",
          "text": [
            "train_loss : 0.8067587758979218\n",
            "train_acc : 0.8974935392306397\n"
          ],
          "name": "stdout"
        },
        {
          "output_type": "stream",
          "text": [
            "  0%|          | 1/843 [00:00<02:01,  6.94it/s]"
          ],
          "name": "stderr"
        },
        {
          "output_type": "stream",
          "text": [
            "\n",
            "val_loss = 0.776245419887437\n",
            "val_accuracy = 0.9046\n"
          ],
          "name": "stdout"
        },
        {
          "output_type": "stream",
          "text": [
            "100%|██████████| 843/843 [02:02<00:00,  6.89it/s]\n"
          ],
          "name": "stderr"
        },
        {
          "output_type": "stream",
          "text": [
            "train_loss : 0.8021793306626607\n",
            "train_acc : 0.8981925732926629\n"
          ],
          "name": "stdout"
        },
        {
          "output_type": "stream",
          "text": [
            "  0%|          | 1/843 [00:00<01:57,  7.15it/s]"
          ],
          "name": "stderr"
        },
        {
          "output_type": "stream",
          "text": [
            "\n",
            "val_loss = 0.7722377261271101\n",
            "val_accuracy = 0.9049\n"
          ],
          "name": "stdout"
        },
        {
          "output_type": "stream",
          "text": [
            "100%|██████████| 843/843 [02:02<00:00,  6.89it/s]\n"
          ],
          "name": "stderr"
        },
        {
          "output_type": "stream",
          "text": [
            "train_loss : 0.7980583465048672\n",
            "train_acc : 0.8987221445517712\n",
            "\n",
            "val_loss = 0.7686856405549451\n",
            "val_accuracy = 0.9053\n"
          ],
          "name": "stdout"
        }
      ]
    },
    {
      "cell_type": "code",
      "metadata": {
        "id": "94mtYw7xlyR8",
        "colab": {
          "base_uri": "https://localhost:8080/",
          "height": 582
        },
        "outputId": "ee122f03-b232-4d30-9ddd-76a7b99046f7"
      },
      "source": [
        "savemodel(\"/content/model_v0\", net)\n",
        "\n",
        "net.plot_graph()"
      ],
      "execution_count": null,
      "outputs": [
        {
          "output_type": "error",
          "ename": "AttributeError",
          "evalue": "ignored",
          "traceback": [
            "\u001b[0;31m---------------------------------------------------------------------------\u001b[0m",
            "\u001b[0;31mAttributeError\u001b[0m                            Traceback (most recent call last)",
            "\u001b[0;32m<ipython-input-9-cd96c97d7434>\u001b[0m in \u001b[0;36m<module>\u001b[0;34m()\u001b[0m\n\u001b[1;32m      1\u001b[0m \u001b[0msavemodel\u001b[0m\u001b[0;34m(\u001b[0m\u001b[0;34m\"/content/model_v0\"\u001b[0m\u001b[0;34m,\u001b[0m \u001b[0mnet\u001b[0m\u001b[0;34m)\u001b[0m\u001b[0;34m\u001b[0m\u001b[0;34m\u001b[0m\u001b[0m\n\u001b[1;32m      2\u001b[0m \u001b[0;34m\u001b[0m\u001b[0m\n\u001b[0;32m----> 3\u001b[0;31m \u001b[0mnet\u001b[0m\u001b[0;34m.\u001b[0m\u001b[0mplot_graph\u001b[0m\u001b[0;34m(\u001b[0m\u001b[0;34m)\u001b[0m\u001b[0;34m\u001b[0m\u001b[0;34m\u001b[0m\u001b[0m\n\u001b[0m",
            "\u001b[0;32m<ipython-input-6-fd29e86696cb>\u001b[0m in \u001b[0;36mplot_graph\u001b[0;34m(self)\u001b[0m\n\u001b[1;32m    139\u001b[0m \u001b[0;34m\u001b[0m\u001b[0m\n\u001b[1;32m    140\u001b[0m     \u001b[0mfig\u001b[0m\u001b[0;34m,\u001b[0m \u001b[0maxes\u001b[0m \u001b[0;34m=\u001b[0m \u001b[0mplt\u001b[0m\u001b[0;34m.\u001b[0m\u001b[0msubplots\u001b[0m\u001b[0;34m(\u001b[0m\u001b[0;36m2\u001b[0m\u001b[0;34m,\u001b[0m\u001b[0;36m1\u001b[0m\u001b[0;34m)\u001b[0m\u001b[0;34m\u001b[0m\u001b[0;34m\u001b[0m\u001b[0m\n\u001b[0;32m--> 141\u001b[0;31m     \u001b[0maxes\u001b[0m\u001b[0;34m[\u001b[0m\u001b[0;36m0\u001b[0m\u001b[0;34m]\u001b[0m\u001b[0;34m.\u001b[0m\u001b[0mplot\u001b[0m\u001b[0;34m(\u001b[0m\u001b[0mself\u001b[0m\u001b[0;34m.\u001b[0m\u001b[0mtrain_loss_history\u001b[0m\u001b[0;34m,\u001b[0m \u001b[0mlabel\u001b[0m\u001b[0;34m=\u001b[0m\u001b[0;34m'train_loss'\u001b[0m\u001b[0;34m)\u001b[0m\u001b[0;34m\u001b[0m\u001b[0;34m\u001b[0m\u001b[0m\n\u001b[0m\u001b[1;32m    142\u001b[0m     \u001b[0maxes\u001b[0m\u001b[0;34m[\u001b[0m\u001b[0;36m0\u001b[0m\u001b[0;34m]\u001b[0m\u001b[0;34m.\u001b[0m\u001b[0mplot\u001b[0m\u001b[0;34m(\u001b[0m\u001b[0mself\u001b[0m\u001b[0;34m.\u001b[0m\u001b[0mval_loss_history\u001b[0m\u001b[0;34m,\u001b[0m \u001b[0mlabel\u001b[0m\u001b[0;34m=\u001b[0m\u001b[0;34m'test_loss'\u001b[0m\u001b[0;34m)\u001b[0m\u001b[0;34m\u001b[0m\u001b[0;34m\u001b[0m\u001b[0m\n\u001b[1;32m    143\u001b[0m     \u001b[0maxes\u001b[0m\u001b[0;34m[\u001b[0m\u001b[0;36m0\u001b[0m\u001b[0;34m]\u001b[0m\u001b[0;34m.\u001b[0m\u001b[0mtitle\u001b[0m\u001b[0;34m.\u001b[0m\u001b[0mset_text\u001b[0m\u001b[0;34m(\u001b[0m\u001b[0;34m\"loss graph\"\u001b[0m\u001b[0;34m)\u001b[0m\u001b[0;34m\u001b[0m\u001b[0;34m\u001b[0m\u001b[0m\n",
            "\u001b[0;31mAttributeError\u001b[0m: 'FCNet' object has no attribute 'train_loss_history'"
          ]
        },
        {
          "output_type": "display_data",
          "data": {
            "image/png": "[encoded data removed]",
            "text/plain": [
              "<Figure size 432x288 with 2 Axes>"
            ]
          },
          "metadata": {
            "tags": []
          }
        }
      ]
    },
    {
      "cell_type": "code",
      "metadata": {
        "id": "3f7Mi2dNoNWn"
      },
      "source": [
        ""
      ],
      "execution_count": null,
      "outputs": []
    }
  ]
}