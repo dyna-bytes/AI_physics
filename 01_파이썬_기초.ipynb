{
  "nbformat": 4,
  "nbformat_minor": 0,
  "metadata": {
    "colab": {
      "name": "01. 파이썬 기초.ipynb",
      "provenance": [],
      "collapsed_sections": [],
      "include_colab_link": true
    },
    "kernelspec": {
      "name": "python3",
      "display_name": "Python 3"
    }
  },
  "cells": [
    {
      "cell_type": "markdown",
      "metadata": {
        "id": "view-in-github",
        "colab_type": "text"
      },
      "source": [
        "<a href=\"https://colab.research.google.com/github/jihyuk1023/AI_physics/blob/main/01_%ED%8C%8C%EC%9D%B4%EC%8D%AC_%EA%B8%B0%EC%B4%88.ipynb\" target=\"_parent\"><img src=\"https://colab.research.google.com/assets/colab-badge.svg\" alt=\"Open In Colab\"/></a>"
      ]
    },
    {
      "cell_type": "markdown",
      "metadata": {
        "id": "-0dIygprfNdi"
      },
      "source": [
        "\n",
        "\n",
        "# **파이썬 자료형 / 타입**\n",
        "* *이 내용은 점프 투 파이썬 https://wikidocs.net/book/1 의 내용을 기초로 하여 서술한 것입니다.*\n",
        "\n",
        "프로그래밍은 컴퓨터에 저장되는 데이터와, 그 데이터간의 연산으로 이루어져 있습니다. 따라서 데이터의 종류와, 그 종류에 따른 연산자가 무엇이 있는가를 이해하는 것이 가장 기초라고 할 수 있습니다.\n",
        "자료형(data type)이란 저장되는 데이터의 종류를 의미하는 것으로, 저장되는 값의 종류와 범위에 따라 다르게 표현됩니다. \n",
        "파이썬에는 많은 자료형들이 있으며, 파이썬에 내장되어 있는 가장 기본적인 자료형들은 다음과 같습니다. \n",
        "각 자료형을 조작하는 방법에는 여러가지가 있으나, 여기서는 가장 기본적인 연산자에 대해 알아보도록 하겠습니다.\n"
      ]
    },
    {
      "cell_type": "markdown",
      "metadata": {
        "id": "Knb8A_Iwxvqg"
      },
      "source": [
        "**i) 숫자형**\n",
        ": int, float, complex, bin, oct, hex ...\n",
        "\n",
        "int는 정수, float는 실수를 의미합니다. 숫자형은 수학에서 사용하는 기본적인 사칙연산 및 기타 연산을 연산자로 갖습니다."
      ]
    },
    {
      "cell_type": "code",
      "metadata": {
        "id": "DdaWdeRmh5TP",
        "colab": {
          "base_uri": "https://localhost:8080/",
          "height": 89
        },
        "outputId": "242a881a-a5e2-4df5-ca6e-d6e33ddb89b9"
      },
      "source": [
        "print(type(3))\n",
        "print(type(3.))\n",
        "print(type(3 + 4j))\n",
        "\n",
        "print(\"hello world\")"
      ],
      "execution_count": null,
      "outputs": [
        {
          "output_type": "stream",
          "text": [
            "<class 'int'>\n",
            "<class 'float'>\n",
            "<class 'complex'>\n",
            "hello world\n"
          ],
          "name": "stdout"
        }
      ]
    },
    {
      "cell_type": "code",
      "metadata": {
        "id": "Ic2WDtpimRFi",
        "colab": {
          "base_uri": "https://localhost:8080/",
          "height": 163
        },
        "outputId": "cb40492d-a78d-40bb-d4b5-fae617295f22"
      },
      "source": [
        "print(6 + 2)\n",
        "print(6 - 2)\n",
        "print(6 * 2)\n",
        "print(6 / 2)\n",
        "print(type(6+2))\n",
        "print(type(6-2))\n",
        "print(type(6*2))\n",
        "print(type(6/2))"
      ],
      "execution_count": null,
      "outputs": [
        {
          "output_type": "stream",
          "text": [
            "8\n",
            "4\n",
            "12\n",
            "3.0\n",
            "<class 'int'>\n",
            "<class 'int'>\n",
            "<class 'int'>\n",
            "<class 'float'>\n"
          ],
          "name": "stdout"
        }
      ]
    },
    {
      "cell_type": "markdown",
      "metadata": {
        "id": "NOItY7SPmcWd"
      },
      "source": [
        "한 가지 유의해야할 점은, 정수는 덧셈 뺄셈 곱셈에 대해 닫혀있으므로 그 결과도 int 자료형이 나오지만, 나눗셈은 그렇지 않다는 점입니다. 따라서, 그 결과가 정수이더라도 float 형태가 나옵니다. 이를 정수형으로 쓰고 싶다면, int() 함수를 써야 합니다."
      ]
    },
    {
      "cell_type": "code",
      "metadata": {
        "id": "qk78pAdnmbJd",
        "colab": {
          "base_uri": "https://localhost:8080/",
          "height": 35
        },
        "outputId": "04bcee30-ac99-48bf-9d20-cf2352e5d688"
      },
      "source": [
        "print(int(6/2))"
      ],
      "execution_count": null,
      "outputs": [
        {
          "output_type": "stream",
          "text": [
            "3\n"
          ],
          "name": "stdout"
        }
      ]
    },
    {
      "cell_type": "markdown",
      "metadata": {
        "id": "zTaXX0mhs7c9"
      },
      "source": [
        "제곱, 몫과 나머지는 다음과 같은 방법으로 구할 수 있습니다."
      ]
    },
    {
      "cell_type": "code",
      "metadata": {
        "id": "QKeDQFyAs65-",
        "colab": {
          "base_uri": "https://localhost:8080/",
          "height": 72
        },
        "outputId": "a2e48b74-0084-4f25-f117-a7dab2a99a05"
      },
      "source": [
        "print(3 ** 2)\n",
        "print(25 // 4)\n",
        "print(27 % 4)"
      ],
      "execution_count": null,
      "outputs": [
        {
          "output_type": "stream",
          "text": [
            "9\n",
            "6\n",
            "3\n"
          ],
          "name": "stdout"
        }
      ]
    },
    {
      "cell_type": "markdown",
      "metadata": {
        "id": "jN_JTW6EnWLw"
      },
      "source": [
        "float의 경우에는 이를 신경쓰지 않아도 됩니다."
      ]
    },
    {
      "cell_type": "code",
      "metadata": {
        "id": "rz7WT6dinShd",
        "colab": {
          "base_uri": "https://localhost:8080/",
          "height": 163
        },
        "outputId": "dcb45e38-b3a3-4415-caa6-e4a56bdaa574"
      },
      "source": [
        "print(6.3 + 2.2)\n",
        "print(6.3 - 2.2)\n",
        "print(6.3 * 2.2)\n",
        "print(6.3 / 2.2)\n",
        "print(type(6.3 + 2.2))\n",
        "print(type(6.3 - 2.2))\n",
        "print(type(6.3 * 2.2))\n",
        "print(type(6.3 / 2.2))"
      ],
      "execution_count": null,
      "outputs": [
        {
          "output_type": "stream",
          "text": [
            "8.5\n",
            "4.1\n",
            "13.860000000000001\n",
            "2.8636363636363633\n",
            "<class 'float'>\n",
            "<class 'float'>\n",
            "<class 'float'>\n",
            "<class 'float'>\n"
          ],
          "name": "stdout"
        }
      ]
    },
    {
      "cell_type": "markdown",
      "metadata": {
        "id": "oz6JeqHAojGl"
      },
      "source": [
        "\n",
        "**2) 문자형**\n",
        ": str\n",
        "\n",
        "str은 문자열을 의미합니다. 파이썬은 따옴표 (큰 따옴표, 작은 따옴표 상관없습니다) 안에 있는 모든 입력은 문자열로 해석합니다."
      ]
    },
    {
      "cell_type": "code",
      "metadata": {
        "id": "4Uux_kfepEbt",
        "colab": {
          "base_uri": "https://localhost:8080/",
          "height": 72
        },
        "outputId": "061d4599-1b22-47bb-f1ff-d89abcdc4a73"
      },
      "source": [
        "print(\"Welcome to AI physics class\")\n",
        "print('Welcome to AI physics class')\n",
        "type(\"Welcome to AI physics class\")"
      ],
      "execution_count": null,
      "outputs": [
        {
          "output_type": "stream",
          "text": [
            "Welcome to AI physics class\n",
            "Welcome to AI physics class\n"
          ],
          "name": "stdout"
        },
        {
          "output_type": "execute_result",
          "data": {
            "text/plain": [
              "str"
            ]
          },
          "metadata": {
            "tags": []
          },
          "execution_count": 6
        }
      ]
    },
    {
      "cell_type": "markdown",
      "metadata": {
        "id": "7yRv7bgSpbq3"
      },
      "source": [
        "문자열은 덧셈과 정수배가 가능합니다. "
      ]
    },
    {
      "cell_type": "code",
      "metadata": {
        "id": "t_ZryoLJpPbT",
        "colab": {
          "base_uri": "https://localhost:8080/",
          "height": 54
        },
        "outputId": "1fe70fb4-cd1b-4f51-fc9c-e29c2c6c9310"
      },
      "source": [
        "print(\"Hello, \" + \"My name is ...\")\n",
        "print(\"Hello \" * 3)"
      ],
      "execution_count": null,
      "outputs": [
        {
          "output_type": "stream",
          "text": [
            "Hello, My name is ...\n",
            "Hello Hello Hello \n"
          ],
          "name": "stdout"
        }
      ]
    },
    {
      "cell_type": "markdown",
      "metadata": {
        "id": "6Lv5TrmeqH1u"
      },
      "source": [
        "이를 잘 활용하면 아래와 같이 원하는 값을 출력할 수 있습니다."
      ]
    },
    {
      "cell_type": "code",
      "metadata": {
        "id": "7xF2sUqzp7xZ",
        "colab": {
          "base_uri": "https://localhost:8080/",
          "height": 35
        },
        "outputId": "ab3960dc-d104-46a1-87a0-777c83b6e7b9"
      },
      "source": [
        "print(str(3) + ' + ' + str(4) + ' 의 값은 ' + str(3+4) + ' 입니다.')"
      ],
      "execution_count": null,
      "outputs": [
        {
          "output_type": "stream",
          "text": [
            "3 + 4 의 값은 7 입니다.\n"
          ],
          "name": "stdout"
        }
      ]
    },
    {
      "cell_type": "markdown",
      "metadata": {
        "id": "FMWb2W5fqiMq"
      },
      "source": [
        "'문자열 포맷팅' 방식을 통해 간단하게 표현할 수도 있습니다."
      ]
    },
    {
      "cell_type": "code",
      "metadata": {
        "id": "1MUxQ2kDqcNE",
        "colab": {
          "base_uri": "https://localhost:8080/",
          "height": 35
        },
        "outputId": "4616362d-5c95-4168-83c2-d88c2a5f3aae"
      },
      "source": [
        "print(\"{} + {} 의 값은 {} 입니다.\".format(3, 4, 3+4))"
      ],
      "execution_count": null,
      "outputs": [
        {
          "output_type": "stream",
          "text": [
            "3 + 4 의 값은 7 입니다.\n"
          ],
          "name": "stdout"
        }
      ]
    },
    {
      "cell_type": "markdown",
      "metadata": {
        "id": "2cqCbb1Fr5nP"
      },
      "source": [
        "\n",
        "**3) 리스트**\n",
        ": list\n",
        "\n",
        "list는 어떤 자료형이던 담을 수 있는 '컨테이너' 입니다. 서로 다른 자료형이여도 상관 없습니다. 컨테이너 역할을 하는 자료형은 많지만 리스트는 그저 모든 데이터를 담고 있을 뿐입니다. (어떠한 제한 조건도 없다는 뜻) 따라서, 리스트는 가장 단순하지만 가장 자주 사용되는 자료형입니다. 리스트는 대괄호를 이용해 생성하고, 각 데이터 자료는 콤마를 사용해 분류합니다."
      ]
    },
    {
      "cell_type": "code",
      "metadata": {
        "id": "5OXx2XFyrIAU",
        "colab": {
          "base_uri": "https://localhost:8080/",
          "height": 52
        },
        "outputId": "4a2c20e2-75f2-42b3-88e3-c761215c9c81"
      },
      "source": [
        "# 예시 리스트 fruit, number 생성\n",
        "fruit = ['apple', 'grape', 'watermelon']\n",
        "number = [0 ,1, 2, 3, 4, 5, 6, 7, 8, 9]\n",
        "print(fruit)\n",
        "print(number)"
      ],
      "execution_count": null,
      "outputs": [
        {
          "output_type": "stream",
          "text": [
            "['apple', 'grape', 'watermelon']\n",
            "[0, 1, 2, 3, 4, 5, 6, 7, 8, 9]\n"
          ],
          "name": "stdout"
        }
      ]
    },
    {
      "cell_type": "markdown",
      "metadata": {
        "id": "NfMuttv-ucTe"
      },
      "source": [
        "리스트의 특징은 여러가지가 있으나, 가장 자주 사용되는 두가지를 추려서 정리하였습니다.\n",
        "\n",
        "1. **인덱스 슬라이스** : list는 대괄호를 사용해 원하는 요소만 프린트하도록 할 수 있습니다. 예를 들어, 예시 리스트 fruit에서 apple만 프린트하고 싶다면, apple의 위치 0 번을 출력하라고 하면 됩니다. (리스트의 인덱스는 항상 0부터 시작합니다.)\n",
        "원하는 인덱스 범위를 호출하고 싶다면 콜론을 이용해 호출합니다. 단, 콜론의 범위는 항상 마지막 인덱스를 포함하지 않습니다. 즉, fruit[0:2]에서 2번 인덱스인 watermelon은 프린트되지 않습니다.\n",
        "\n",
        "  만일, 리스트의 끝까지 인덱스까지 호출하고 싶다면 끝 인덱스를 적지 않으면 됩니다. 또한, 인덱스를 음수로 적을 수 있습니다. 인덱스가 음수이면, 반대방향에서부터 읽어옵니다. 즉, -1은 끝 원소의 인덱스, -2는 뒤에서 두번 째 원소의 인덱스입니다.\n",
        "\n",
        "   또, 인덱스 슬라이스는 간격을 지정하여 원하는 위치의 요소를 추출할 수 있습니다. 이 경우는 콜론 두개를 사용합니다. 이 때 인덱스 슬라이싱은 다음과 같은 구조입니다. [처음 인덱스 : 마지막 인덱스 : 슬라이스할 간격]"
      ]
    },
    {
      "cell_type": "code",
      "metadata": {
        "id": "8-A-EdlAuPYj",
        "colab": {
          "base_uri": "https://localhost:8080/",
          "height": 122
        },
        "outputId": "ba818911-763a-422d-95eb-263aec29c36c"
      },
      "source": [
        "print(fruit[0])\n",
        "print(fruit[-1])\n",
        "print(number[0:5])\n",
        "print(number[:4])\n",
        "print(number[4:])\n",
        "print(number[3:7:2])"
      ],
      "execution_count": null,
      "outputs": [
        {
          "output_type": "stream",
          "text": [
            "apple\n",
            "watermelon\n",
            "[0, 1, 2, 3, 4]\n",
            "[0, 1, 2, 3]\n",
            "[4, 5, 6, 7, 8, 9]\n",
            "[3, 5]\n"
          ],
          "name": "stdout"
        }
      ]
    },
    {
      "cell_type": "markdown",
      "metadata": {
        "id": "-GQJjrNgyJnO"
      },
      "source": [
        "2. **data 추가, 변경 및 제거** : 리스트는 append method, remove method를 사용해 리스트의 원소들을 추가하거나 제거할 수 있습니다. 변경하는 것은 그냥 그 원소의 index의 값을 등호를 이용해 지정하면 됩니다. remove method는 가장 처음으로 마주한 원소만 제거합니다. 다른 메소드도 많지만 직접 찾아보면서 공부하기를 바랍니다."
      ]
    },
    {
      "cell_type": "code",
      "metadata": {
        "id": "Kj75QE4myaj7",
        "colab": {
          "base_uri": "https://localhost:8080/",
          "height": 105
        },
        "outputId": "d02ee7c7-d5ed-4821-86e1-d0e748047572"
      },
      "source": [
        "# 원소 추가. 새 원소는 리스트의 마지막 원소로 추가됨\n",
        "number.append('apple')\n",
        "print(number)\n",
        "\n",
        "# 원하는 위치에 원소 추가\n",
        "number.insert(1, 'pineapple')\n",
        "print(number)\n",
        "\n",
        "# 원소 변경\n",
        "number[5] = 10\n",
        "print(number)\n",
        "\n",
        "# 원소 제거, 가장 처음 나온 원소만 제거됨\n",
        "number.remove('apple')\n",
        "print(number)\n",
        "\n",
        "# 원하는 위치에 있는 원소 제거\n",
        "number.pop(2)\n",
        "print(number)\n"
      ],
      "execution_count": null,
      "outputs": [
        {
          "output_type": "stream",
          "text": [
            "[0, 1, 2, 3, 4, 5, 6, 7, 8, 9, 'apple']\n",
            "[0, 'pineapple', 1, 2, 3, 4, 5, 6, 7, 8, 9, 'apple']\n",
            "[0, 'pineapple', 1, 2, 3, 10, 5, 6, 7, 8, 9, 'apple']\n",
            "[0, 'pineapple', 1, 2, 3, 10, 5, 6, 7, 8, 9]\n",
            "[0, 'pineapple', 2, 3, 10, 5, 6, 7, 8, 9]\n"
          ],
          "name": "stdout"
        }
      ]
    },
    {
      "cell_type": "markdown",
      "metadata": {
        "id": "tOjBGPiFyBnx"
      },
      "source": [
        "**4) 튜플**\n",
        ": tuple\n",
        "\n",
        "튜플 오브젝트 역시 list와 같은 컨테이너 자료형이지만, 순서가 지정되어 있다는 점에서 다릅니다. 튜플 오브젝트는 순서가 지정되어 있기 때문에, 새로 데이터를 추가하는 것이 불가능합니다. 튜플은 소괄호를 이용해 생성할 수 있습니다."
      ]
    },
    {
      "cell_type": "code",
      "metadata": {
        "id": "MHS1-IMqzUYJ",
        "colab": {
          "base_uri": "https://localhost:8080/",
          "height": 105
        },
        "outputId": "195e37de-6bd8-4e8a-bc62-b6274a5ec6a5"
      },
      "source": [
        "# example tuple 할당\n",
        "example_tuple = (1, 'apple')\n",
        "print(example_tuple)\n",
        "print(example_tuple[0])\n",
        "print(example_tuple[1])\n",
        "\n",
        "# 변수에 tuple 값들 할당하기, 이 경우 원소의 개수는 tuple의 개수와 동일해야함.\n",
        "a, b = example_tuple\n",
        "print(a)\n",
        "print(b)"
      ],
      "execution_count": null,
      "outputs": [
        {
          "output_type": "stream",
          "text": [
            "(1, 'apple')\n",
            "1\n",
            "apple\n",
            "1\n",
            "apple\n"
          ],
          "name": "stdout"
        }
      ]
    },
    {
      "cell_type": "code",
      "metadata": {
        "id": "gijpbq-oW5S6",
        "colab": {
          "base_uri": "https://localhost:8080/",
          "height": 170
        },
        "outputId": "f6577465-d733-4d31-87b9-ea3f36c4f76e"
      },
      "source": [
        "example_tuple[1] = 'pineapple'"
      ],
      "execution_count": null,
      "outputs": [
        {
          "output_type": "error",
          "ename": "TypeError",
          "evalue": "ignored",
          "traceback": [
            "\u001b[0;31m---------------------------------------------------------------------------\u001b[0m",
            "\u001b[0;31mTypeError\u001b[0m                                 Traceback (most recent call last)",
            "\u001b[0;32m<ipython-input-6-925b752dea8b>\u001b[0m in \u001b[0;36m<module>\u001b[0;34m()\u001b[0m\n\u001b[0;32m----> 1\u001b[0;31m \u001b[0mexample_tuple\u001b[0m\u001b[0;34m[\u001b[0m\u001b[0;36m1\u001b[0m\u001b[0;34m]\u001b[0m \u001b[0;34m=\u001b[0m \u001b[0;34m'pineapple'\u001b[0m\u001b[0;34m\u001b[0m\u001b[0;34m\u001b[0m\u001b[0m\n\u001b[0m",
            "\u001b[0;31mTypeError\u001b[0m: 'tuple' object does not support item assignment"
          ]
        }
      ]
    },
    {
      "cell_type": "markdown",
      "metadata": {
        "id": "AzZT7vAd0F0h"
      },
      "source": [
        "**5) 딕셔너리**\n",
        ": dict\n",
        "\n",
        "딕셔너리는 key : value의 쌍으로 이루어진 컨테이너 입니다. 중괄호를 이용해 생성합니다. dict에서는 key를 대괄호로 호출하면, 자동으로 value 가 호출됩니다. dict에 존재하지 않는 key, value 쌍을 추가하거나 key에 해당하는 value를 수정하고 싶다면 아래와 같이 수정할 수 있습니다."
      ]
    },
    {
      "cell_type": "code",
      "metadata": {
        "id": "S6IZ3PR205tx",
        "colab": {
          "base_uri": "https://localhost:8080/",
          "height": 35
        },
        "outputId": "b2415c85-1840-4973-bd18-fe33b49a69ab"
      },
      "source": [
        "# dict 생성\n",
        "example_dict = {'school' : 'korea univ', 'department' : 'physics', 'student id' : '2016160135'}\n",
        "print(example_dict['school'])\n"
      ],
      "execution_count": null,
      "outputs": [
        {
          "output_type": "stream",
          "text": [
            "korea univ\n"
          ],
          "name": "stdout"
        }
      ]
    },
    {
      "cell_type": "markdown",
      "metadata": {
        "id": "7NVOYwE3XAXE"
      },
      "source": [
        "딕셔너리 역시 아이템을 추가하거나 제거하는 것이 가능합니다."
      ]
    },
    {
      "cell_type": "code",
      "metadata": {
        "id": "V7gFxYOIW_ma",
        "colab": {
          "base_uri": "https://localhost:8080/",
          "height": 52
        },
        "outputId": "274a1f58-1b93-46e2-b388-b9b0f89653f9"
      },
      "source": [
        "#dict에 새로운 내용 추가\n",
        "example_dict['name'] = 'Ma'\n",
        "print(example_dict)\n",
        "\n",
        "#dict에서 school object 제거\n",
        "example_dict.pop('school')\n",
        "print(example_dict)"
      ],
      "execution_count": null,
      "outputs": [
        {
          "output_type": "stream",
          "text": [
            "{'school': 'korea univ', 'department': 'physics', 'student id': '2016160135', 'name': 'Ma'}\n",
            "{'department': 'physics', 'student id': '2016160135', 'name': 'Ma'}\n"
          ],
          "name": "stdout"
        }
      ]
    },
    {
      "cell_type": "markdown",
      "metadata": {
        "id": "gesBTSrxxXeF"
      },
      "source": [
        " 6) 집합 : set\n",
        "\n",
        " 집합은 같은 것을 허용하지 않는 컨테이너 입니다. 집합은 list와 동일하게 쓸 수 있지만, 동일한 원소가 들어가면 자동으로 삭제됩니다.\n",
        " 중괄호를 이용해 생성할 수 있습니다. 콜론이 있으면 딕셔너리, 없으면 집합 원소가 됩니다.\n"
      ]
    },
    {
      "cell_type": "code",
      "metadata": {
        "id": "Hli-2nFLxgZA",
        "colab": {
          "base_uri": "https://localhost:8080/",
          "height": 35
        },
        "outputId": "5b9483c0-50e6-4447-bdbd-32af59b35cab"
      },
      "source": [
        "example_set = {1, 2, 3, 4, 5 ,6, 7, 8, 1}\n",
        "example_set"
      ],
      "execution_count": null,
      "outputs": [
        {
          "output_type": "execute_result",
          "data": {
            "text/plain": [
              "{1, 2, 3, 4, 5, 6, 7, 8}"
            ]
          },
          "metadata": {
            "tags": []
          },
          "execution_count": 5
        }
      ]
    },
    {
      "cell_type": "code",
      "metadata": {
        "id": "2tdMIjaNZI7A"
      },
      "source": [
        ""
      ],
      "execution_count": null,
      "outputs": []
    },
    {
      "cell_type": "markdown",
      "metadata": {
        "id": "lE4qcqAR2C5c"
      },
      "source": [
        "**7) 불리안**\n",
        ": bool\n",
        "\n",
        "불리안은 주어진 조건의 True, False를 의미하는 자료형입니다. 주로 조건문에 사용되며, 조건문을 실행할지, 실행하지 않을지를 결정하는 자료형입니다. 불리안에서 True는 1의 값을, False는 0의 값과 동일합니다.\n",
        "불리안은 조건 연산자, 멤버쉽 연산자, identify 연산자를 통해 생성될 수도 있습니다.\n",
        "\n",
        "* 비교 연산자란 사실인지 거짓인지를 판별하는 연산자를 말합니다. 아래와 같은 비교 연산자가 존재합니다.\n",
        "  1. a와 b가 동일한가? : a == b\n",
        "  2. a와 b가 다른가? : a != b\n",
        "  3. a 가 b보다 (같거나) 큰가? a >(>=) b\n",
        "  4.  a 가 b보다 (같거나) 작은가? a <(<=) b\n",
        "\n",
        "      ... \n"
      ]
    },
    {
      "cell_type": "code",
      "metadata": {
        "id": "vqN0GHEm2gQ4",
        "colab": {
          "base_uri": "https://localhost:8080/",
          "height": 54
        },
        "outputId": "c78b4b0d-5ce4-476f-f494-502c31849e59"
      },
      "source": [
        "# boolean\n",
        "worker = True\n",
        "print(type(worker))\n",
        "\n",
        "# 조건 연산자를 통해 boolean 생성하기\n",
        "worker = (1 == 3)\n",
        "print(worker)"
      ],
      "execution_count": null,
      "outputs": [
        {
          "output_type": "stream",
          "text": [
            "<class 'bool'>\n",
            "False\n"
          ],
          "name": "stdout"
        }
      ]
    },
    {
      "cell_type": "markdown",
      "metadata": {
        "id": "vUzmpcEo47G6"
      },
      "source": [
        "# **연산자**\n",
        "\n",
        "연산자는 주어진 데이터 타입들 간의 연산을 의미합니다. 연산의 결과가 무엇인가에 따라서 그 종류를 나눠볼 수 있습니다.\n",
        "\n",
        "기본 연산자는 사칙연산, 제곱, 몫과 나머지 등, 가장 기본적인 연산을 의미합니다.\n",
        "\n",
        "비교 연산자는 위에서 설명했듯 두 데이터를 비교하는 연산자입니다. 등호(==로 써야함) 와 부등호가 대표적입니다.\n",
        "\n",
        "할당 연산자는 변수에 데이터의 값을 할당하는 연산자입니다. 등호로 쓸 수 있습니다. 이미 할당된 변수에 대해서, 그 값을 변화시킬 때는 +=, -= 등도 사용 가능합니다.\n",
        "\n",
        "논리 연산자는 boolean 데이터의 연산을 의미합니다. and , or, not 등이 있습니다.\n",
        "\n",
        "멤버쉽 연산자는 좌측 요소가 우측 요소의 부분집합인지를 판단하여 불리안을 리턴합니다. in, not in이 있습니다.\n",
        "\n",
        "identify는 비교 연산자의 등호와 동일합니다. is, is not이 있습니다.\n"
      ]
    },
    {
      "cell_type": "code",
      "metadata": {
        "id": "vpd36lgL7EKC",
        "colab": {
          "base_uri": "https://localhost:8080/",
          "height": 254
        },
        "outputId": "c42f2c41-afed-4963-bf2a-cb475c1393b9"
      },
      "source": [
        "# 변수 설정 (할당 연산자)\n",
        "a = 3\n",
        "b = 4\n",
        "c = [1, 2, 3]\n",
        "\n",
        "# 기본 연산자 예시\n",
        "print(a+b)\n",
        "print(a**b)\n",
        "\n",
        "# 비교 연산자 예시\n",
        "print(a>b)\n",
        "print(c[2] == a)\n",
        "\n",
        "# 할당 연산자 예시\n",
        "b = 5\n",
        "print(b)\n",
        "b += 10\n",
        "print(b)\n",
        "b *= 3\n",
        "print(b)\n",
        "\n",
        "# 논리 연산자\n",
        "print(c[1]== a or c[2] * 15 == b)\n",
        "print(c[1]== a and c[2] * 15 == b)\n",
        "\n",
        "# 멤버쉽 연산자\n",
        "print(a in c)\n",
        "print(b not in c)\n",
        "\n",
        "# identify 연산자\n",
        "print(a is c)\n",
        "print(a is c[2])"
      ],
      "execution_count": null,
      "outputs": [
        {
          "output_type": "stream",
          "text": [
            "7\n",
            "81\n",
            "False\n",
            "True\n",
            "5\n",
            "15\n",
            "45\n",
            "True\n",
            "False\n",
            "True\n",
            "True\n",
            "False\n",
            "True\n"
          ],
          "name": "stdout"
        }
      ]
    },
    {
      "cell_type": "markdown",
      "metadata": {
        "id": "Ci8f6IjSyFfl"
      },
      "source": [
        "# 변수\n",
        "\n",
        "할당 연산자를 통해 우리가 정의한 이름에 다음과 같은 자료형들을 저장할 수 있습니다.\n",
        "\n",
        "1. 파이썬 내장 자료형\n",
        "2. 모듈에서 불러온 자료형\n",
        "3. 코드 내에서 직접 작성한 자료형\n",
        "\n",
        "이렇게 어떤 자료형의 이름을 지정하게 되면, 자동으로 이 자료형은 메모리에 할당됩니다. 그리고 코드 내에서 저장된 변수는 저장된 이름을 통해서 호출 가능합니다. 지금까지 우리는 변수들을 여러가지 이름으로 써 왔습니다.\n",
        "\n",
        "변수를 사용할 때는 유의해야할 점이 있습니다. 다른 변수를 이용해서 새 변수를 정의하면, 우리가 원하는 값과 다른 값을 얻을 수 있습니다. \n",
        "\n",
        "변수에는 두가지 종류가 있습니다. 기본형과 참조형입니다.\n",
        "\n",
        "기본형은 변수명과 그 값이 한번에 저장되지만, 참조형은 변수형과 그 값의 메모리 주소가 저장됩니다. 따라서, 참조형 변수를 사용할 때에는 조심해야 합니다.\n",
        "\n",
        "예시를 통해 설명하도록 하겠습니다. int 자료형은 기본형입니다. 따라서, 아래 코드에서 b를 변경해도 a에는 아무런 영향이 없습니다."
      ]
    },
    {
      "cell_type": "code",
      "metadata": {
        "id": "ZD8v1oDazvLb"
      },
      "source": [
        "a = 3\n",
        "b = a"
      ],
      "execution_count": null,
      "outputs": []
    },
    {
      "cell_type": "code",
      "metadata": {
        "id": "EYIui9iKzxg5",
        "colab": {
          "base_uri": "https://localhost:8080/",
          "height": 35
        },
        "outputId": "cc59ef92-2b94-476e-f833-d212a3eb2e4b"
      },
      "source": [
        "b += 4\n",
        "print(a)"
      ],
      "execution_count": null,
      "outputs": [
        {
          "output_type": "execute_result",
          "data": {
            "text/plain": [
              "3"
            ]
          },
          "metadata": {
            "tags": []
          },
          "execution_count": 25
        }
      ]
    },
    {
      "cell_type": "markdown",
      "metadata": {
        "id": "8YnCk77M1r67"
      },
      "source": [
        "그러나 리스트 자료형은 참조형입니다. 따라서, b를 변경하면 a 역시 변합니다. "
      ]
    },
    {
      "cell_type": "code",
      "metadata": {
        "id": "uOiLheUdzGYt"
      },
      "source": [
        "a = [1, 2, 3, 4, 5]\n",
        "b = a"
      ],
      "execution_count": null,
      "outputs": []
    },
    {
      "cell_type": "code",
      "metadata": {
        "id": "dKz74njdzKDV",
        "colab": {
          "base_uri": "https://localhost:8080/",
          "height": 35
        },
        "outputId": "675150c9-e81f-486a-9e3c-5e4ea45a7619"
      },
      "source": [
        "b.pop(3)\n",
        "print(a)"
      ],
      "execution_count": null,
      "outputs": [
        {
          "output_type": "execute_result",
          "data": {
            "text/plain": [
              "[1, 2, 3, 5]"
            ]
          },
          "metadata": {
            "tags": []
          },
          "execution_count": 13
        }
      ]
    },
    {
      "cell_type": "markdown",
      "metadata": {
        "id": "DGYBYmAT17pu"
      },
      "source": [
        "이런 일을 방지하기 위해서, 참조형 변수를 만들 때는 다음과 같이 써 주는 것이 좋습니다."
      ]
    },
    {
      "cell_type": "code",
      "metadata": {
        "id": "uEcucJyI2Hd9",
        "colab": {
          "base_uri": "https://localhost:8080/",
          "height": 35
        },
        "outputId": "206070f1-2767-42f7-e14e-18952d8f1aee"
      },
      "source": [
        "a = [1, 2, 3, 4, 5]\n",
        "b = a.copy()\n",
        "\n",
        "b.pop(3)\n",
        "print(a)"
      ],
      "execution_count": null,
      "outputs": [
        {
          "output_type": "stream",
          "text": [
            "[1, 2, 3, 4, 5]\n"
          ],
          "name": "stdout"
        }
      ]
    },
    {
      "cell_type": "markdown",
      "metadata": {
        "id": "gtnzYcB64DDe"
      },
      "source": [
        "# **조건문과 반복문**\n",
        "\n",
        "조건문이란 조건문의 boolean이 True일 경우에 실행되고, 그렇지 않은 경우 실행되지 않는 문장을 말합니다. if 를 사용합니다. 만약 여러가지 조건을 넣거나, False일 때 실행할 코드가 존재한다면 elif 혹은 else를 사용해 조건문을 작성할 수 있습니다.\n",
        "\n",
        "반복문이란 while문과 for문이 있습니다. while문은 while문의 조건문이 사실인 경우 거짓이 될 때까지 계속해서 반복문을 실행시킵니다.\n",
        "\n",
        "for문은 멤버쉽 연산자의 값이 True인 모든 경우에 반복문을 계속 실행합니다.\n",
        "\n",
        "조건문과 반복문은 콜론과 띄어쓰기(indentation)을 통해 구분됩니다. 조건(반복)의 조건부가 끝나는 부분에 콜론, 그리고 조건문을 반복할 구간은 동일한 띄어쓰기로 구분해야 합니다. 파이썬에서는  조건문과 비 조건문을 구별하는 방법으로 indentation을 채택했습니다.\n",
        "\n",
        "아래 예시를 통해 이 뜻을 살펴보도록 하겠습니다."
      ]
    },
    {
      "cell_type": "code",
      "metadata": {
        "id": "zQ4gtuQt4PDD",
        "colab": {
          "base_uri": "https://localhost:8080/",
          "height": 35
        },
        "outputId": "1b0253ed-b2e8-44b6-e26a-550687adacd7"
      },
      "source": [
        "# if문 예시.\n",
        "x = 31\n",
        "if x % 3 == 0:\n",
        "  print(\"{}을 3의 배수 입니다.\".format(x))\n",
        "elif x % 3 == 1:\n",
        "  print(\"{}을 3으로 나눈 나머지는 1입니다.\".format(x))\n",
        "else:\n",
        "  print(\"{}을 3으로 나눈 나머지는 2입니다.\".format(x))"
      ],
      "execution_count": null,
      "outputs": [
        {
          "output_type": "stream",
          "text": [
            "31을 3으로 나눈 나머지는 1입니다.\n"
          ],
          "name": "stdout"
        }
      ]
    },
    {
      "cell_type": "code",
      "metadata": {
        "id": "bPR_fRpD-yQg",
        "colab": {
          "base_uri": "https://localhost:8080/"
        },
        "outputId": "0f8d4645-6948-4f66-85cc-de355bfce9e7"
      },
      "source": [
        "# while문 예시. 1부터 100까지 더한 값을 while문을 통해 구하자.\n",
        "\n",
        "i = 1\n",
        "total = 0\n",
        "while i <= 100:\n",
        "  total += i\n",
        "  i += 1\n",
        "print(total)"
      ],
      "execution_count": null,
      "outputs": [
        {
          "output_type": "stream",
          "text": [
            "5050\n"
          ],
          "name": "stdout"
        }
      ]
    },
    {
      "cell_type": "code",
      "metadata": {
        "id": "msRHkaO3_Peo",
        "colab": {
          "base_uri": "https://localhost:8080/"
        },
        "outputId": "6c891f1b-60de-4742-d754-d3ead6747df9"
      },
      "source": [
        "# for문 예시. 1부터 100까지 더한 값을 for문을 통해 구하자.\n",
        "\n",
        "# range 함수는 파이썬 내장함수입니다. range 함수에 대한 설명을 참고하세요\n",
        "### range : Return an object that produces a sequence of integers from start (inclusive) to stop (exclusive) by step. range(i, j) produces i, i+1, i+2, ..., j-1. start defaults to 0, \n",
        "### and stop is omitted! range(4) produces 0, 1, 2, 3. These are exactly the valid indices for a list of 4 elements. When step is given, it specifies the increment (or decrement).\n",
        "total = 0\n",
        "for i in range(1, 101):\n",
        "  total += i\n",
        "print(total)"
      ],
      "execution_count": null,
      "outputs": [
        {
          "output_type": "stream",
          "text": [
            "5050\n"
          ],
          "name": "stdout"
        }
      ]
    },
    {
      "cell_type": "markdown",
      "metadata": {
        "id": "CNSMu06eA5lE"
      },
      "source": [
        "# **함수**\n",
        "\n",
        "함수는 동일한 계산을 여러번 코드로 작성하지 않고, 하나의 함수로 표현할 수 있게 합니다. 함수를 적절히 활용하면, 코드를 재사용할 수 있으므로 코드의 길이가 확실히 짧아지게 됩니다. 함수를 정의할 때는 def를, output은 return을 사용합니다.\n",
        "return이 없으면 None type을 반환하게 됩니다.\n",
        "함수를 정의할 때는 조건문과 마찬가지로 콜론, indentation을 통해 함수의 범위가 어디까지인지 지정해주어야 합니다. 또한, 함수 내부에서 지정한 변수는 외부에서 사용할 수 없음에 주의해야 합니다.\n",
        "외부에서 지정한 변수는 함수 내부에서도 사용할 수 있습니다."
      ]
    },
    {
      "cell_type": "code",
      "metadata": {
        "id": "UlgLwdKvConE"
      },
      "source": [
        "# 주어진 정수가 홀수인지 아닌지를 반환하는 함수.\n",
        "\n",
        "def is_odd_number(integer):\n",
        "  if integer % 2 == 0:\n",
        "    return False\n",
        "  if integer % 2 == 1:\n",
        "    return True"
      ],
      "execution_count": null,
      "outputs": []
    },
    {
      "cell_type": "code",
      "metadata": {
        "id": "j5ELUc78U7wV",
        "colab": {
          "base_uri": "https://localhost:8080/",
          "height": 35
        },
        "outputId": "c2246e05-4d92-40e1-9d91-c2a3e4a40c14"
      },
      "source": [
        "# 문자열과 숫자형이 혼재된 리스트에서 숫자형의 평균값을 리턴하는 함수.\n",
        "\n",
        "def mean(ex_list):\n",
        "  total = 0\n",
        "  length = 0\n",
        "  for number in ex_list:\n",
        "    if type(number) == int or type(number) == float:\n",
        "      total += number\n",
        "      length += 1\n",
        "  return total / length\n",
        "\n",
        "ex_list = ['apple', 1, 3.6, 'pineapple', 15, '7', 13.2]\n",
        "print(mean(ex_list))"
      ],
      "execution_count": null,
      "outputs": [
        {
          "output_type": "stream",
          "text": [
            "8.2\n"
          ],
          "name": "stdout"
        }
      ]
    },
    {
      "cell_type": "markdown",
      "metadata": {
        "id": "vyLiDBp4DPQw"
      },
      "source": [
        "함수를 작성한 후에는 함수를 사용하기 위해서 함수를 호출해야 합니다. 3이 홀수인지 아닌지 확인해보도록 하겠습니다."
      ]
    },
    {
      "cell_type": "code",
      "metadata": {
        "id": "U803M5bTDOpZ",
        "colab": {
          "base_uri": "https://localhost:8080/",
          "height": 35
        },
        "outputId": "d2d81245-79e1-48ef-f09f-7e44d8bc612b"
      },
      "source": [
        "BOOLEAN = is_odd_number(3)\n",
        "print(BOOLEAN)"
      ],
      "execution_count": null,
      "outputs": [
        {
          "output_type": "stream",
          "text": [
            "True\n"
          ],
          "name": "stdout"
        }
      ]
    },
    {
      "cell_type": "markdown",
      "metadata": {
        "id": "xD2K6txQDkoG"
      },
      "source": [
        "필요할 때 함수를 적절히 설정하고, 이 이름을 잘 정한다면 코드가 어떤 역할을 하는지 짧고 빠르게 살펴볼 수 있다는 장점이 있습니다. 또, 코드의 유지 보수가 편해진다는 장점이 있습니다.\n",
        "\n",
        "파이썬에는 수많은 내장함수들이 존재하며, 파이썬을 더 편하게 사용할 수 있도록 많은 사용자들이 편리한 함수들의 모음인 모듈(라이브러리 라고도 합니다.)을 만들어서 배포하고 있습니다. 이를 적절히 활용하면, 복잡한 코드를 짧고 간편하게 만들 수 있을 것입니다. "
      ]
    },
    {
      "cell_type": "markdown",
      "metadata": {
        "id": "xtU54nUjEH3S"
      },
      "source": [
        "# **클래스와 메소드**\n",
        "\n",
        "\n",
        "앞에서, 파이썬의 자료들은 특정 자료형에 속한다고 했습니다. 자료형은 데이터의 타입을 분류하므로, 특정 자료형들이 가져야할 행동들을 정의해줄 수 있다는 점에서 매우 유용합니다.\n",
        "\n",
        "예를 들어, 우리는 list 자료형에서 append method를 통해서 새로운 원소를 list에 추가할 수 있다는 것을 언급한 적이 있습니다. 즉, list 자료형은 데이터를 추가할 수 있어야 하는 특징을 가지고 있습니다.\n",
        "\n",
        "우리가 새로 만든 오브젝트들이 새로운 특징(속성(property)과 기능(method)을 의미합니다.)을 가질 때, 우리는 이러한 오브젝트들을 모아 새로운 타입으로 만들어야 할 필요가 있습니다. 오브젝트를 분류하기 위한 틀로써 파이썬은 'class'를 사용합니다. 모든 오브젝트는 class를 가집니다. 앞에서 type() 함수를 통해 오브젝트가 어떤 클래스의 구성원인지 확인할 수 있었습니다. (type 함수도 파이썬 내장 함수입니다.) 이 때, 이 각각의 오브젝트를 그 클래스의 인스턴스라고 부릅니다.\n",
        "\n",
        "즉, 클래스가 작성된 틀이라면 인스턴스는 그에 해당되는 실질적인 데이터라고 할 수 있습니다.\n",
        "\n",
        "즉, 아래 코드에서 3은 'int' 클래스의 인스턴스라고 부를 수 있습니다."
      ]
    },
    {
      "cell_type": "code",
      "metadata": {
        "id": "IvkKONP8GYea",
        "colab": {
          "base_uri": "https://localhost:8080/",
          "height": 35
        },
        "outputId": "d563c1d2-1fa3-4cfb-d1a6-fbf120bbb5cc"
      },
      "source": [
        "type(3)"
      ],
      "execution_count": null,
      "outputs": [
        {
          "output_type": "execute_result",
          "data": {
            "text/plain": [
              "int"
            ]
          },
          "metadata": {
            "tags": []
          },
          "execution_count": 47
        }
      ]
    },
    {
      "cell_type": "markdown",
      "metadata": {
        "id": "Wdep3qRzGZzh"
      },
      "source": [
        "우리가 어떤 자료를 생성하면, 파이썬은 즉각적으로 이 자료의 자료형에 해당되는 클래스로 이 자료를 생성하도록 내부적으로 코딩되어 있습니다. 따라서, 함수의 자료형은 사실 파이썬에서 자체적으로 만들어 놓은 클래스입니다.\n",
        "\n",
        "클래스를 생성하려면, 이 클래스의 인스턴스들이 가져야 하는 특징들을 포함하도록 클래스를 생성해야 합니다. 클래스의 인스턴스들이 가져야 하는 행동들, 즉 함수들을 메소드라고 합니다. 클래스는 아래와 같이 생성할 수 있습니다.\n",
        "\n",
        "예를 들어, 모든 학생들이 똑같은 키 170, 성 \"Kim\" 나이가 22라면, 이런 클래스를 만들 수 있습니다."
      ]
    },
    {
      "cell_type": "code",
      "metadata": {
        "id": "hELJvS5lwNBk"
      },
      "source": [
        "class Student():\n",
        "  height = 170\n",
        "  name = \"Kim\"\n",
        "  age = 22"
      ],
      "execution_count": null,
      "outputs": []
    },
    {
      "cell_type": "markdown",
      "metadata": {
        "id": "RDR9q957wVjg"
      },
      "source": [
        "이렇게 저장된 변수를 클래스 변수라고 부릅니다. 클래스 변수는 모든 인스턴스에 대해서 동일한 값을 가집니다.\n",
        "\n",
        "그러나 인스턴스마다 다른 변수(속성)을 가지고 있도록 하려면 인스턴스의 속성을지정해야 합니다. 인스턴스는 클래스 내부에서 보통 self로 지정됩니다. 따라서 인스턴스의 속성은 self.속성명 = 속성값\n",
        "처럼 표시됩니다. \n",
        "인스턴스의 속성을 설정하려면 아래와 같이 작성하면 됩니다.\n"
      ]
    },
    {
      "cell_type": "code",
      "metadata": {
        "id": "sHPgdavSHQlz"
      },
      "source": [
        "class Student: # 클래스의 이름은 Student 입니다.\n",
        "  def __init__(self, name, age, student_id):\n",
        "    self.name = name\n",
        "    self.age = age\n",
        "    self.student_id = student_id\n",
        "    self.register = True"
      ],
      "execution_count": null,
      "outputs": []
    },
    {
      "cell_type": "markdown",
      "metadata": {
        "id": "_P7PkbNJHz3u"
      },
      "source": [
        "이렇게 정의하면, 우리는 Student 클래스를 생성했습니다. __init__ 메소드는 Student의 인스턴스가 생성될 때마다 실행되는 함수입니다. 여기서 self는 변수의 이름을 지칭합니다. 즉, 우리가 코드에서 부를 Student의 변수명을 지칭합니다. 파이썬 클래스는 self를 변수명으로 부르기를 권장합니다.\n",
        "그리고 이 __init__ 메소드는 self 이외의 변수 세 개를 가지고 있습니다. 우리는 Student의 인스턴스를 생성할 때 세 개의 변수를 알려줘야 합니다. 그러면, 우리가 생성한 변수는 __init__ 메소드를 통해 저 아래 세 개의 변수를 포함하여 네 개의 변수를 속성으로 가지게 됩니다. register는 자동적으로 True값을 갖도록 하였습니다. 그럼 클래스 인스턴스를 생성해보겠습니다."
      ]
    },
    {
      "cell_type": "code",
      "metadata": {
        "id": "wc5D3sz5I2aC"
      },
      "source": [
        "student = Student('Kim', 22, 2016160135)"
      ],
      "execution_count": null,
      "outputs": []
    },
    {
      "cell_type": "markdown",
      "metadata": {
        "id": "fwi_WANiJEFo"
      },
      "source": [
        "이제 student는 Student 클래스의 인스턴스입니다. student의 변수는 name, age, student_id,  입니다. 이제 각 변수들을 호출해 보겠습니다. 변수의 호출은 마침표를 통해 호출할 수 있습니다."
      ]
    },
    {
      "cell_type": "code",
      "metadata": {
        "id": "FpzDx7QkI7kT",
        "colab": {
          "base_uri": "https://localhost:8080/",
          "height": 72
        },
        "outputId": "bcc5dfc2-b4aa-4474-f805-fd16ac42bf62"
      },
      "source": [
        "print(student.name)\n",
        "print(student.age)\n",
        "print(student.student_id)"
      ],
      "execution_count": null,
      "outputs": [
        {
          "output_type": "stream",
          "text": [
            "Ma\n",
            "22\n",
            "2016160135\n"
          ],
          "name": "stdout"
        }
      ]
    },
    {
      "cell_type": "markdown",
      "metadata": {
        "id": "XBUsZOLKJuRr"
      },
      "source": [
        "클래스의 인스턴스만이 사용할 수 있는 함수를 메소드라고 부르는데, 이 메소드들은 기본적으로 자기 자신을 변수로 갖습니다. 따라서, 메소드의 첫번째 변수들은 항상 self로 시작합니다.\n",
        "또한 이 메소드를 실제로 사용하려면 항상 인스턴스 명.메소드 명의 형태로 호출됩니다. \n",
        "\n",
        "클래스의 메소드를 잘 지정하면 클래스의 인스턴스들이 필요한 역할을 수행하도록 할 수 있습니다. 예를 들어, Student 클래스에 재학 상태를 False로 바꾸는 method를 다음과 같이 추가할 수 있습니다."
      ]
    },
    {
      "cell_type": "code",
      "metadata": {
        "id": "iaFoj-sXJ8r1"
      },
      "source": [
        "class Student():\n",
        "  def __init__(self, name, age, student_id):\n",
        "    self.name = name\n",
        "    self.age = age\n",
        "    self.student_id = student_id\n",
        "    self.register = True\n",
        "    \n",
        "  def off_from_school(self):\n",
        "    self.register = False"
      ],
      "execution_count": null,
      "outputs": []
    },
    {
      "cell_type": "markdown",
      "metadata": {
        "id": "ywBJf139LQtJ"
      },
      "source": [
        "메소드를 호출할 때는 아래와 같이, 인스턴스.메소드(인스턴스 이름을 제외한 변수)의 형태를 취합니다. Student instance를 생성할 때는 \n",
        "\n",
        "클래스명(인스턴스 이름을 제외한 변수) \n",
        "\n",
        "형태를 취했습니다.\n"
      ]
    },
    {
      "cell_type": "code",
      "metadata": {
        "id": "hphxmpVgLl5G",
        "colab": {
          "base_uri": "https://localhost:8080/",
          "height": 35
        },
        "outputId": "2ff5ee1d-1eb0-4cdd-a240-7dd13b017035"
      },
      "source": [
        "student = Student('Ma', 22, 2016160135)\n",
        "\n",
        "student.off_from_school()\n",
        "print(student.register)"
      ],
      "execution_count": null,
      "outputs": [
        {
          "output_type": "stream",
          "text": [
            "False\n"
          ],
          "name": "stdout"
        }
      ]
    },
    {
      "cell_type": "markdown",
      "metadata": {
        "id": "rLHmpOX93Z1t"
      },
      "source": [
        "# **클래스의 상속** \n",
        "\n",
        "클래스는 '새로운 자료형을 만든다' 는 개념으로 이해할 수 있습니다. 그런데, A 클래스의 메소드가 B 클래스의 메소드에서도 전부 사용한다면, B 클래스를 처음부터 다시 코딩하는 것은 매우 비효율적일 것입니다. 따라서, 파이썬에서는 '상속'이라는 개념을 지원합니다.\n",
        "\n",
        "상속은 한 클래스가 가진 모든 속성과 메소드를 다른 클래스로 넘겨주고 싶을 때 사용하는 방식입니다. 이 때, 넘겨주는 클래스를 부모 클래스, 넘겨받는 클래스를 자식 클래스라고 부릅니다. AI_Class_Student 클래스는 Student의 모든 특성들을 가지고 있어야 하므로, AI_Class_Student 클래스를 Student 클래스에게서 상속받게 하여 보겠습니다.\n"
      ]
    },
    {
      "cell_type": "code",
      "metadata": {
        "id": "8O0qT7vY3-yB"
      },
      "source": [
        "class AI_Class_Student(Student):\n",
        "  pass"
      ],
      "execution_count": null,
      "outputs": []
    },
    {
      "cell_type": "markdown",
      "metadata": {
        "id": "H8K31ntA43ci"
      },
      "source": [
        "별다른 정의를 하지 않아도, Student의 모든 메소드와 속성을 사용할 수 있습니다."
      ]
    },
    {
      "cell_type": "code",
      "metadata": {
        "id": "YQGiyGCv4rTn",
        "colab": {
          "base_uri": "https://localhost:8080/",
          "height": 35
        },
        "outputId": "98c9bf7e-d212-4659-fe74-f07c86cd104e"
      },
      "source": [
        "student = AI_Class_Student('Ma', 22, 2016160135)\n",
        "\n",
        "student.off_from_school()\n",
        "print(student.register)"
      ],
      "execution_count": null,
      "outputs": [
        {
          "output_type": "stream",
          "text": [
            "False\n"
          ],
          "name": "stdout"
        }
      ]
    },
    {
      "cell_type": "markdown",
      "metadata": {
        "id": "vWkgRbN74-7R"
      },
      "source": [
        "그러나, AI_Class_Student에 새로운 메소드를 추가하거나 기존의 메소드를 고치는 것이 필요합니다. 이대로는 Student 클래스와 차이가 없습니다. 따라서, 자식 클래스는 부모 클래스의 메소드들을 오버라이드 하거나, 자신만의 메소드를 만들 수 있습니다."
      ]
    },
    {
      "cell_type": "code",
      "metadata": {
        "id": "HqJ23C1W5RUh"
      },
      "source": [
        "class AI_Class_Student(Student):\n",
        "  def __init__(self, name, age, student_id, ai_professor):\n",
        "    super().__init__(name, age, student_id) # 상위 클래스 Student의 init 메소드를 실행합니다.\n",
        "    self.ai_professor = ai_professor # 새로운 변수를 추가했습니다. AI_Class_Student를 생성하면, init메소드는 이제 이 형태 대로 실행됩니다.\n",
        "  \n",
        "  def attend(self):\n",
        "      print(\"수업에 출석했습니다.\")\n",
        "      if self.register == False:\n",
        "        print(\"수업에 등록되지 않았습니다. 수업에서 쫓겨납니다.\")"
      ],
      "execution_count": null,
      "outputs": []
    },
    {
      "cell_type": "code",
      "metadata": {
        "id": "NRX4ydwV6RIS",
        "colab": {
          "base_uri": "https://localhost:8080/",
          "height": 71
        },
        "outputId": "3341fa3b-d898-4dd6-ee13-08459a40db8e"
      },
      "source": [
        "student = AI_Class_Student('Ma', 22, 2016160135, '박규환 교수님')\n",
        "\n",
        "student.attend()\n",
        "\n",
        "student.off_from_school()\n",
        "student.attend()"
      ],
      "execution_count": null,
      "outputs": [
        {
          "output_type": "stream",
          "text": [
            "수업에 출석했습니다.\n",
            "수업에 출석했습니다.\n",
            "수업에 등록되지 않았습니다. 수업에서 쫓겨납니다.\n"
          ],
          "name": "stdout"
        }
      ]
    },
    {
      "cell_type": "markdown",
      "metadata": {
        "id": "Y2R3Z44r2cog"
      },
      "source": [
        "클래스를 잘 사용하기 위해서는 클래스가 갖고있는 변수들과 메소드를 잘 아는 것이 중요합니다.\n",
        "\n",
        "따라서, 클래스에 대한 정보를 알 수 있는 함수가 필요합니다. "
      ]
    },
    {
      "cell_type": "code",
      "metadata": {
        "id": "xO0l3KqN2rCl",
        "colab": {
          "base_uri": "https://localhost:8080/",
          "height": 91
        },
        "outputId": "c104e315-b217-448b-f369-d91c8eaf3152"
      },
      "source": [
        "print(dir(Student))\n",
        "print(isinstance(student, Student))\n",
        "print(Student.mro())"
      ],
      "execution_count": null,
      "outputs": [
        {
          "output_type": "stream",
          "text": [
            "['__class__', '__delattr__', '__dict__', '__dir__', '__doc__', '__eq__', '__format__', '__ge__', '__getattribute__', '__gt__', '__hash__', '__init__', '__init_subclass__', '__le__', '__lt__', '__module__', '__ne__', '__new__', '__reduce__', '__reduce_ex__', '__repr__', '__setattr__', '__sizeof__', '__str__', '__subclasshook__', '__weakref__', 'off_from_school']\n",
            "True\n"
          ],
          "name": "stdout"
        },
        {
          "output_type": "execute_result",
          "data": {
            "text/plain": [
              "[__main__.Student, object]"
            ]
          },
          "metadata": {
            "tags": []
          },
          "execution_count": 32
        }
      ]
    },
    {
      "cell_type": "markdown",
      "metadata": {
        "id": "rRogZ-6zL7De"
      },
      "source": [
        "# **모듈**\n",
        "\n",
        "모듈은 파이썬 자체에서 만든 내장 모듈과 외부에서 만든 외장 모듈이 있습니다. 또, 원한다면 모듈을 직접 만들어서 사용할 수 있습니다. 모듈은 반드시 파이썬의 실행 경로에 설치되어 있어야 합니다. 그렇지 않으면 모듈을 사용할 수 없습니다.\n",
        "코랩에는 인공지능 물리학에서 사용할 모든 모듈이 이미 설치되어 있습니다. 그러나 로컬 컴퓨터에는 그렇지 않은 경우가 많으므로, 아나콘다, pip등을 이용하여 설치해야 합니다.\n",
        "\n",
        "모듈을 설치한 다음, 모듈을 실행하기 위해서는 import를 활용합니다. 여기서는 numpy와 matplotlib.pyplot을 import 하겠습니다.\n",
        "\n",
        "로컬 컴퓨터를 사용한다면, numpy, matplotlib, pytorch(혹은 tensorflow)는 반드시 설치되어 있어야 합니다.\n"
      ]
    },
    {
      "cell_type": "code",
      "metadata": {
        "id": "n1-BKwbTM0K5"
      },
      "source": [
        "import numpy as np\n",
        "import matplotlib.pyplot as plt"
      ],
      "execution_count": null,
      "outputs": []
    },
    {
      "cell_type": "markdown",
      "metadata": {
        "id": "LScRzg4HM79E"
      },
      "source": [
        "이제 np를 쓰면 numpy를 호출하고, plt를 쓰면 matplotlib.pyplot을 호출할 수 있습니다.\n",
        "\n",
        "모듈들은 함수와 클래스들을 파일로 모아 저장해놓은 것입니다. 따라서, 모듈을 호출하면 아래와 같이 모듈에 내장된 클래스로 인스턴스를 생성하거나, 모듈에 내장된 함수를 사용할 수 있습니다.\n",
        "\n",
        "np.array은 넘파이의 array 클래스를 의미합니다.\n",
        "\n",
        "np.mean()는 넘파이 array 클래스의 인스턴스들의 평균값을 리턴합니다."
      ]
    },
    {
      "cell_type": "code",
      "metadata": {
        "id": "EnrMwu6xNQ5J",
        "colab": {
          "base_uri": "https://localhost:8080/",
          "height": 35
        },
        "outputId": "10443e20-1a75-4a29-fbe5-1d6b116adc43"
      },
      "source": [
        "array = np.array([1,2,3,4])\n",
        "np.mean(array)"
      ],
      "execution_count": null,
      "outputs": [
        {
          "output_type": "execute_result",
          "data": {
            "text/plain": [
              "2.5"
            ]
          },
          "metadata": {
            "tags": []
          },
          "execution_count": 68
        }
      ]
    },
    {
      "cell_type": "markdown",
      "metadata": {
        "id": "y2w6v8OWN1Ri"
      },
      "source": [
        "넘파이 모듈은 행렬처리에 특화되어 있습니다. 따라서, 수업 초반부의 행렬 계산은 모두 넘파이를 사용하여 처리할 것입니다. \n",
        "\n",
        "맷플롯립은 MATLAB 형식의 데이터를 그리는 데 필요한 모듈입니다. 데이터를 시각화 하기 위해 반드시 필요한 파이썬 모듈입니다."
      ]
    },
    {
      "cell_type": "code",
      "metadata": {
        "id": "tTqfQjULOqZ0",
        "colab": {
          "base_uri": "https://localhost:8080/",
          "height": 265
        },
        "outputId": "30e0ffca-6919-42ab-cc00-d468588ded01"
      },
      "source": [
        "x = np.linspace(0, 20, 100)\n",
        "y = np.sin(x)\n",
        "x\n",
        "plt.plot(x,y)\n",
        "plt.show()"
      ],
      "execution_count": null,
      "outputs": [
        {
          "output_type": "display_data",
          "data": {
            "image/png": "[encoded data removed]",
            "text/plain": [
              "<Figure size 432x288 with 1 Axes>"
            ]
          },
          "metadata": {
            "tags": [],
            "needs_background": "light"
          }
        }
      ]
    },
    {
      "cell_type": "markdown",
      "metadata": {
        "id": "9WtnjMYbPAUn"
      },
      "source": [
        "Numpy, Matplotlib는 파이썬에서 데이터 사이언스를 수행하는데 있어서 필수적인 모듈입니다. 다음 시간에 더 자세히 알아보도록 하겠습니다.\n",
        "\n",
        "더 알아보려면 점프 투 파이썬 \n",
        "https://wikidocs.net/book/1 \n",
        "\n",
        "혹은 예제로 배우는 파이썬 프로그래밍\n",
        "http://pythonstudy.xyz/\n",
        "\n",
        "을 참고하세요"
      ]
    }
  ]
}