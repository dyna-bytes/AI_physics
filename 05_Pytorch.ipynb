{
  "nbformat": 4,
  "nbformat_minor": 0,
  "metadata": {
    "colab": {
      "name": "05. Pytorch.ipynb",
      "provenance": [],
      "collapsed_sections": [],
      "include_colab_link": true
    },
    "kernelspec": {
      "name": "python3",
      "display_name": "Python 3"
    },
    "accelerator": "GPU",
    "widgets": {
      "application/vnd.jupyter.widget-state+json": {
        "ef64599fc6094eee8f696fdca0e27c27": {
          "model_module": "@jupyter-widgets/controls",
          "model_name": "HBoxModel",
          "state": {
            "_view_name": "HBoxView",
            "_dom_classes": [],
            "_model_name": "HBoxModel",
            "_view_module": "@jupyter-widgets/controls",
            "_model_module_version": "1.5.0",
            "_view_count": null,
            "_view_module_version": "1.5.0",
            "box_style": "",
            "layout": "IPY_MODEL_fa0414c8cb3742cd8d560a8a350a25c9",
            "_model_module": "@jupyter-widgets/controls",
            "children": [
              "IPY_MODEL_85a9c027281a4cce931284014d68d1b4",
              "IPY_MODEL_36d9c7881a7c47ef875abe3ed5682536"
            ]
          }
        },
        "fa0414c8cb3742cd8d560a8a350a25c9": {
          "model_module": "@jupyter-widgets/base",
          "model_name": "LayoutModel",
          "state": {
            "_view_name": "LayoutView",
            "grid_template_rows": null,
            "right": null,
            "justify_content": null,
            "_view_module": "@jupyter-widgets/base",
            "overflow": null,
            "_model_module_version": "1.2.0",
            "_view_count": null,
            "flex_flow": null,
            "width": null,
            "min_width": null,
            "border": null,
            "align_items": null,
            "bottom": null,
            "_model_module": "@jupyter-widgets/base",
            "top": null,
            "grid_column": null,
            "overflow_y": null,
            "overflow_x": null,
            "grid_auto_flow": null,
            "grid_area": null,
            "grid_template_columns": null,
            "flex": null,
            "_model_name": "LayoutModel",
            "justify_items": null,
            "grid_row": null,
            "max_height": null,
            "align_content": null,
            "visibility": null,
            "align_self": null,
            "height": null,
            "min_height": null,
            "padding": null,
            "grid_auto_rows": null,
            "grid_gap": null,
            "max_width": null,
            "order": null,
            "_view_module_version": "1.2.0",
            "grid_template_areas": null,
            "object_position": null,
            "object_fit": null,
            "grid_auto_columns": null,
            "margin": null,
            "display": null,
            "left": null
          }
        },
        "85a9c027281a4cce931284014d68d1b4": {
          "model_module": "@jupyter-widgets/controls",
          "model_name": "FloatProgressModel",
          "state": {
            "_view_name": "ProgressView",
            "style": "IPY_MODEL_f2709ea02cb7492db21abfccbe0c4ee4",
            "_dom_classes": [],
            "description": "",
            "_model_name": "FloatProgressModel",
            "bar_style": "info",
            "max": 1,
            "_view_module": "@jupyter-widgets/controls",
            "_model_module_version": "1.5.0",
            "value": 1,
            "_view_count": null,
            "_view_module_version": "1.5.0",
            "orientation": "horizontal",
            "min": 0,
            "description_tooltip": null,
            "_model_module": "@jupyter-widgets/controls",
            "layout": "IPY_MODEL_bf427bdc3e264f5991b0b302ba49476c"
          }
        },
        "36d9c7881a7c47ef875abe3ed5682536": {
          "model_module": "@jupyter-widgets/controls",
          "model_name": "HTMLModel",
          "state": {
            "_view_name": "HTMLView",
            "style": "IPY_MODEL_dbf20be9a5da42ee91db1c8c73cf04bf",
            "_dom_classes": [],
            "description": "",
            "_model_name": "HTMLModel",
            "placeholder": "​",
            "_view_module": "@jupyter-widgets/controls",
            "_model_module_version": "1.5.0",
            "value": " 9920512/? [00:20&lt;00:00, 1066795.18it/s]",
            "_view_count": null,
            "_view_module_version": "1.5.0",
            "description_tooltip": null,
            "_model_module": "@jupyter-widgets/controls",
            "layout": "IPY_MODEL_19a134b4ebbb4cb9bf95866726f5e972"
          }
        },
        "f2709ea02cb7492db21abfccbe0c4ee4": {
          "model_module": "@jupyter-widgets/controls",
          "model_name": "ProgressStyleModel",
          "state": {
            "_view_name": "StyleView",
            "_model_name": "ProgressStyleModel",
            "description_width": "initial",
            "_view_module": "@jupyter-widgets/base",
            "_model_module_version": "1.5.0",
            "_view_count": null,
            "_view_module_version": "1.2.0",
            "bar_color": null,
            "_model_module": "@jupyter-widgets/controls"
          }
        },
        "bf427bdc3e264f5991b0b302ba49476c": {
          "model_module": "@jupyter-widgets/base",
          "model_name": "LayoutModel",
          "state": {
            "_view_name": "LayoutView",
            "grid_template_rows": null,
            "right": null,
            "justify_content": null,
            "_view_module": "@jupyter-widgets/base",
            "overflow": null,
            "_model_module_version": "1.2.0",
            "_view_count": null,
            "flex_flow": null,
            "width": null,
            "min_width": null,
            "border": null,
            "align_items": null,
            "bottom": null,
            "_model_module": "@jupyter-widgets/base",
            "top": null,
            "grid_column": null,
            "overflow_y": null,
            "overflow_x": null,
            "grid_auto_flow": null,
            "grid_area": null,
            "grid_template_columns": null,
            "flex": null,
            "_model_name": "LayoutModel",
            "justify_items": null,
            "grid_row": null,
            "max_height": null,
            "align_content": null,
            "visibility": null,
            "align_self": null,
            "height": null,
            "min_height": null,
            "padding": null,
            "grid_auto_rows": null,
            "grid_gap": null,
            "max_width": null,
            "order": null,
            "_view_module_version": "1.2.0",
            "grid_template_areas": null,
            "object_position": null,
            "object_fit": null,
            "grid_auto_columns": null,
            "margin": null,
            "display": null,
            "left": null
          }
        },
        "dbf20be9a5da42ee91db1c8c73cf04bf": {
          "model_module": "@jupyter-widgets/controls",
          "model_name": "DescriptionStyleModel",
          "state": {
            "_view_name": "StyleView",
            "_model_name": "DescriptionStyleModel",
            "description_width": "",
            "_view_module": "@jupyter-widgets/base",
            "_model_module_version": "1.5.0",
            "_view_count": null,
            "_view_module_version": "1.2.0",
            "_model_module": "@jupyter-widgets/controls"
          }
        },
        "19a134b4ebbb4cb9bf95866726f5e972": {
          "model_module": "@jupyter-widgets/base",
          "model_name": "LayoutModel",
          "state": {
            "_view_name": "LayoutView",
            "grid_template_rows": null,
            "right": null,
            "justify_content": null,
            "_view_module": "@jupyter-widgets/base",
            "overflow": null,
            "_model_module_version": "1.2.0",
            "_view_count": null,
            "flex_flow": null,
            "width": null,
            "min_width": null,
            "border": null,
            "align_items": null,
            "bottom": null,
            "_model_module": "@jupyter-widgets/base",
            "top": null,
            "grid_column": null,
            "overflow_y": null,
            "overflow_x": null,
            "grid_auto_flow": null,
            "grid_area": null,
            "grid_template_columns": null,
            "flex": null,
            "_model_name": "LayoutModel",
            "justify_items": null,
            "grid_row": null,
            "max_height": null,
            "align_content": null,
            "visibility": null,
            "align_self": null,
            "height": null,
            "min_height": null,
            "padding": null,
            "grid_auto_rows": null,
            "grid_gap": null,
            "max_width": null,
            "order": null,
            "_view_module_version": "1.2.0",
            "grid_template_areas": null,
            "object_position": null,
            "object_fit": null,
            "grid_auto_columns": null,
            "margin": null,
            "display": null,
            "left": null
          }
        },
        "7ed1c6703e1846d2b5849fb194565e8f": {
          "model_module": "@jupyter-widgets/controls",
          "model_name": "HBoxModel",
          "state": {
            "_view_name": "HBoxView",
            "_dom_classes": [],
            "_model_name": "HBoxModel",
            "_view_module": "@jupyter-widgets/controls",
            "_model_module_version": "1.5.0",
            "_view_count": null,
            "_view_module_version": "1.5.0",
            "box_style": "",
            "layout": "IPY_MODEL_bd1112a111524340a39e9f9b2c23f576",
            "_model_module": "@jupyter-widgets/controls",
            "children": [
              "IPY_MODEL_d09cb76377664109913d9985f221396a",
              "IPY_MODEL_c502a0a79d9449d98b37bf6d1cd1fe5f"
            ]
          }
        },
        "bd1112a111524340a39e9f9b2c23f576": {
          "model_module": "@jupyter-widgets/base",
          "model_name": "LayoutModel",
          "state": {
            "_view_name": "LayoutView",
            "grid_template_rows": null,
            "right": null,
            "justify_content": null,
            "_view_module": "@jupyter-widgets/base",
            "overflow": null,
            "_model_module_version": "1.2.0",
            "_view_count": null,
            "flex_flow": null,
            "width": null,
            "min_width": null,
            "border": null,
            "align_items": null,
            "bottom": null,
            "_model_module": "@jupyter-widgets/base",
            "top": null,
            "grid_column": null,
            "overflow_y": null,
            "overflow_x": null,
            "grid_auto_flow": null,
            "grid_area": null,
            "grid_template_columns": null,
            "flex": null,
            "_model_name": "LayoutModel",
            "justify_items": null,
            "grid_row": null,
            "max_height": null,
            "align_content": null,
            "visibility": null,
            "align_self": null,
            "height": null,
            "min_height": null,
            "padding": null,
            "grid_auto_rows": null,
            "grid_gap": null,
            "max_width": null,
            "order": null,
            "_view_module_version": "1.2.0",
            "grid_template_areas": null,
            "object_position": null,
            "object_fit": null,
            "grid_auto_columns": null,
            "margin": null,
            "display": null,
            "left": null
          }
        },
        "d09cb76377664109913d9985f221396a": {
          "model_module": "@jupyter-widgets/controls",
          "model_name": "FloatProgressModel",
          "state": {
            "_view_name": "ProgressView",
            "style": "IPY_MODEL_fc100858e80c42a5b164108dd56f0779",
            "_dom_classes": [],
            "description": "",
            "_model_name": "FloatProgressModel",
            "bar_style": "success",
            "max": 1,
            "_view_module": "@jupyter-widgets/controls",
            "_model_module_version": "1.5.0",
            "value": 1,
            "_view_count": null,
            "_view_module_version": "1.5.0",
            "orientation": "horizontal",
            "min": 0,
            "description_tooltip": null,
            "_model_module": "@jupyter-widgets/controls",
            "layout": "IPY_MODEL_2b29f11676154ace9ad0ca02468a1e77"
          }
        },
        "c502a0a79d9449d98b37bf6d1cd1fe5f": {
          "model_module": "@jupyter-widgets/controls",
          "model_name": "HTMLModel",
          "state": {
            "_view_name": "HTMLView",
            "style": "IPY_MODEL_b4515c805841403e92d64c557fcd71be",
            "_dom_classes": [],
            "description": "",
            "_model_name": "HTMLModel",
            "placeholder": "​",
            "_view_module": "@jupyter-widgets/controls",
            "_model_module_version": "1.5.0",
            "value": " 32768/? [00:01&lt;00:00, 24700.92it/s]",
            "_view_count": null,
            "_view_module_version": "1.5.0",
            "description_tooltip": null,
            "_model_module": "@jupyter-widgets/controls",
            "layout": "IPY_MODEL_37c2f12db6a445d981a392bf53d88e77"
          }
        },
        "fc100858e80c42a5b164108dd56f0779": {
          "model_module": "@jupyter-widgets/controls",
          "model_name": "ProgressStyleModel",
          "state": {
            "_view_name": "StyleView",
            "_model_name": "ProgressStyleModel",
            "description_width": "initial",
            "_view_module": "@jupyter-widgets/base",
            "_model_module_version": "1.5.0",
            "_view_count": null,
            "_view_module_version": "1.2.0",
            "bar_color": null,
            "_model_module": "@jupyter-widgets/controls"
          }
        },
        "2b29f11676154ace9ad0ca02468a1e77": {
          "model_module": "@jupyter-widgets/base",
          "model_name": "LayoutModel",
          "state": {
            "_view_name": "LayoutView",
            "grid_template_rows": null,
            "right": null,
            "justify_content": null,
            "_view_module": "@jupyter-widgets/base",
            "overflow": null,
            "_model_module_version": "1.2.0",
            "_view_count": null,
            "flex_flow": null,
            "width": null,
            "min_width": null,
            "border": null,
            "align_items": null,
            "bottom": null,
            "_model_module": "@jupyter-widgets/base",
            "top": null,
            "grid_column": null,
            "overflow_y": null,
            "overflow_x": null,
            "grid_auto_flow": null,
            "grid_area": null,
            "grid_template_columns": null,
            "flex": null,
            "_model_name": "LayoutModel",
            "justify_items": null,
            "grid_row": null,
            "max_height": null,
            "align_content": null,
            "visibility": null,
            "align_self": null,
            "height": null,
            "min_height": null,
            "padding": null,
            "grid_auto_rows": null,
            "grid_gap": null,
            "max_width": null,
            "order": null,
            "_view_module_version": "1.2.0",
            "grid_template_areas": null,
            "object_position": null,
            "object_fit": null,
            "grid_auto_columns": null,
            "margin": null,
            "display": null,
            "left": null
          }
        },
        "b4515c805841403e92d64c557fcd71be": {
          "model_module": "@jupyter-widgets/controls",
          "model_name": "DescriptionStyleModel",
          "state": {
            "_view_name": "StyleView",
            "_model_name": "DescriptionStyleModel",
            "description_width": "",
            "_view_module": "@jupyter-widgets/base",
            "_model_module_version": "1.5.0",
            "_view_count": null,
            "_view_module_version": "1.2.0",
            "_model_module": "@jupyter-widgets/controls"
          }
        },
        "37c2f12db6a445d981a392bf53d88e77": {
          "model_module": "@jupyter-widgets/base",
          "model_name": "LayoutModel",
          "state": {
            "_view_name": "LayoutView",
            "grid_template_rows": null,
            "right": null,
            "justify_content": null,
            "_view_module": "@jupyter-widgets/base",
            "overflow": null,
            "_model_module_version": "1.2.0",
            "_view_count": null,
            "flex_flow": null,
            "width": null,
            "min_width": null,
            "border": null,
            "align_items": null,
            "bottom": null,
            "_model_module": "@jupyter-widgets/base",
            "top": null,
            "grid_column": null,
            "overflow_y": null,
            "overflow_x": null,
            "grid_auto_flow": null,
            "grid_area": null,
            "grid_template_columns": null,
            "flex": null,
            "_model_name": "LayoutModel",
            "justify_items": null,
            "grid_row": null,
            "max_height": null,
            "align_content": null,
            "visibility": null,
            "align_self": null,
            "height": null,
            "min_height": null,
            "padding": null,
            "grid_auto_rows": null,
            "grid_gap": null,
            "max_width": null,
            "order": null,
            "_view_module_version": "1.2.0",
            "grid_template_areas": null,
            "object_position": null,
            "object_fit": null,
            "grid_auto_columns": null,
            "margin": null,
            "display": null,
            "left": null
          }
        },
        "e9e0d9da108b40709f9c3a2eccafbb0d": {
          "model_module": "@jupyter-widgets/controls",
          "model_name": "HBoxModel",
          "state": {
            "_view_name": "HBoxView",
            "_dom_classes": [],
            "_model_name": "HBoxModel",
            "_view_module": "@jupyter-widgets/controls",
            "_model_module_version": "1.5.0",
            "_view_count": null,
            "_view_module_version": "1.5.0",
            "box_style": "",
            "layout": "IPY_MODEL_ad501aae729e457bb4339f6dacc0d0d2",
            "_model_module": "@jupyter-widgets/controls",
            "children": [
              "IPY_MODEL_51e28a3d977f48f6a93808a4a74734fd",
              "IPY_MODEL_3d8767c86cfd447298137211a5039fd5"
            ]
          }
        },
        "ad501aae729e457bb4339f6dacc0d0d2": {
          "model_module": "@jupyter-widgets/base",
          "model_name": "LayoutModel",
          "state": {
            "_view_name": "LayoutView",
            "grid_template_rows": null,
            "right": null,
            "justify_content": null,
            "_view_module": "@jupyter-widgets/base",
            "overflow": null,
            "_model_module_version": "1.2.0",
            "_view_count": null,
            "flex_flow": null,
            "width": null,
            "min_width": null,
            "border": null,
            "align_items": null,
            "bottom": null,
            "_model_module": "@jupyter-widgets/base",
            "top": null,
            "grid_column": null,
            "overflow_y": null,
            "overflow_x": null,
            "grid_auto_flow": null,
            "grid_area": null,
            "grid_template_columns": null,
            "flex": null,
            "_model_name": "LayoutModel",
            "justify_items": null,
            "grid_row": null,
            "max_height": null,
            "align_content": null,
            "visibility": null,
            "align_self": null,
            "height": null,
            "min_height": null,
            "padding": null,
            "grid_auto_rows": null,
            "grid_gap": null,
            "max_width": null,
            "order": null,
            "_view_module_version": "1.2.0",
            "grid_template_areas": null,
            "object_position": null,
            "object_fit": null,
            "grid_auto_columns": null,
            "margin": null,
            "display": null,
            "left": null
          }
        },
        "51e28a3d977f48f6a93808a4a74734fd": {
          "model_module": "@jupyter-widgets/controls",
          "model_name": "FloatProgressModel",
          "state": {
            "_view_name": "ProgressView",
            "style": "IPY_MODEL_535838eab0524f3681539610112514b6",
            "_dom_classes": [],
            "description": "",
            "_model_name": "FloatProgressModel",
            "bar_style": "success",
            "max": 1,
            "_view_module": "@jupyter-widgets/controls",
            "_model_module_version": "1.5.0",
            "value": 1,
            "_view_count": null,
            "_view_module_version": "1.5.0",
            "orientation": "horizontal",
            "min": 0,
            "description_tooltip": null,
            "_model_module": "@jupyter-widgets/controls",
            "layout": "IPY_MODEL_3b170fe4d6444cd6a864b7d5a91aa435"
          }
        },
        "3d8767c86cfd447298137211a5039fd5": {
          "model_module": "@jupyter-widgets/controls",
          "model_name": "HTMLModel",
          "state": {
            "_view_name": "HTMLView",
            "style": "IPY_MODEL_630972deb09b4345b96770b008e8c6e0",
            "_dom_classes": [],
            "description": "",
            "_model_name": "HTMLModel",
            "placeholder": "​",
            "_view_module": "@jupyter-widgets/controls",
            "_model_module_version": "1.5.0",
            "value": " 1654784/? [00:01&lt;00:00, 1586924.98it/s]",
            "_view_count": null,
            "_view_module_version": "1.5.0",
            "description_tooltip": null,
            "_model_module": "@jupyter-widgets/controls",
            "layout": "IPY_MODEL_8d97798962954395991c8fd300577d5e"
          }
        },
        "535838eab0524f3681539610112514b6": {
          "model_module": "@jupyter-widgets/controls",
          "model_name": "ProgressStyleModel",
          "state": {
            "_view_name": "StyleView",
            "_model_name": "ProgressStyleModel",
            "description_width": "initial",
            "_view_module": "@jupyter-widgets/base",
            "_model_module_version": "1.5.0",
            "_view_count": null,
            "_view_module_version": "1.2.0",
            "bar_color": null,
            "_model_module": "@jupyter-widgets/controls"
          }
        },
        "3b170fe4d6444cd6a864b7d5a91aa435": {
          "model_module": "@jupyter-widgets/base",
          "model_name": "LayoutModel",
          "state": {
            "_view_name": "LayoutView",
            "grid_template_rows": null,
            "right": null,
            "justify_content": null,
            "_view_module": "@jupyter-widgets/base",
            "overflow": null,
            "_model_module_version": "1.2.0",
            "_view_count": null,
            "flex_flow": null,
            "width": null,
            "min_width": null,
            "border": null,
            "align_items": null,
            "bottom": null,
            "_model_module": "@jupyter-widgets/base",
            "top": null,
            "grid_column": null,
            "overflow_y": null,
            "overflow_x": null,
            "grid_auto_flow": null,
            "grid_area": null,
            "grid_template_columns": null,
            "flex": null,
            "_model_name": "LayoutModel",
            "justify_items": null,
            "grid_row": null,
            "max_height": null,
            "align_content": null,
            "visibility": null,
            "align_self": null,
            "height": null,
            "min_height": null,
            "padding": null,
            "grid_auto_rows": null,
            "grid_gap": null,
            "max_width": null,
            "order": null,
            "_view_module_version": "1.2.0",
            "grid_template_areas": null,
            "object_position": null,
            "object_fit": null,
            "grid_auto_columns": null,
            "margin": null,
            "display": null,
            "left": null
          }
        },
        "630972deb09b4345b96770b008e8c6e0": {
          "model_module": "@jupyter-widgets/controls",
          "model_name": "DescriptionStyleModel",
          "state": {
            "_view_name": "StyleView",
            "_model_name": "DescriptionStyleModel",
            "description_width": "",
            "_view_module": "@jupyter-widgets/base",
            "_model_module_version": "1.5.0",
            "_view_count": null,
            "_view_module_version": "1.2.0",
            "_model_module": "@jupyter-widgets/controls"
          }
        },
        "8d97798962954395991c8fd300577d5e": {
          "model_module": "@jupyter-widgets/base",
          "model_name": "LayoutModel",
          "state": {
            "_view_name": "LayoutView",
            "grid_template_rows": null,
            "right": null,
            "justify_content": null,
            "_view_module": "@jupyter-widgets/base",
            "overflow": null,
            "_model_module_version": "1.2.0",
            "_view_count": null,
            "flex_flow": null,
            "width": null,
            "min_width": null,
            "border": null,
            "align_items": null,
            "bottom": null,
            "_model_module": "@jupyter-widgets/base",
            "top": null,
            "grid_column": null,
            "overflow_y": null,
            "overflow_x": null,
            "grid_auto_flow": null,
            "grid_area": null,
            "grid_template_columns": null,
            "flex": null,
            "_model_name": "LayoutModel",
            "justify_items": null,
            "grid_row": null,
            "max_height": null,
            "align_content": null,
            "visibility": null,
            "align_self": null,
            "height": null,
            "min_height": null,
            "padding": null,
            "grid_auto_rows": null,
            "grid_gap": null,
            "max_width": null,
            "order": null,
            "_view_module_version": "1.2.0",
            "grid_template_areas": null,
            "object_position": null,
            "object_fit": null,
            "grid_auto_columns": null,
            "margin": null,
            "display": null,
            "left": null
          }
        },
        "ed74c5882b344689ad4ff17c4807e5dc": {
          "model_module": "@jupyter-widgets/controls",
          "model_name": "HBoxModel",
          "state": {
            "_view_name": "HBoxView",
            "_dom_classes": [],
            "_model_name": "HBoxModel",
            "_view_module": "@jupyter-widgets/controls",
            "_model_module_version": "1.5.0",
            "_view_count": null,
            "_view_module_version": "1.5.0",
            "box_style": "",
            "layout": "IPY_MODEL_6bbe0869a4474e789d30f1e2d0651628",
            "_model_module": "@jupyter-widgets/controls",
            "children": [
              "IPY_MODEL_fbdf68a0c74541ad836499488b3c12b2",
              "IPY_MODEL_8fb9d9e29f95481cb1a4078f0f8ff5d6"
            ]
          }
        },
        "6bbe0869a4474e789d30f1e2d0651628": {
          "model_module": "@jupyter-widgets/base",
          "model_name": "LayoutModel",
          "state": {
            "_view_name": "LayoutView",
            "grid_template_rows": null,
            "right": null,
            "justify_content": null,
            "_view_module": "@jupyter-widgets/base",
            "overflow": null,
            "_model_module_version": "1.2.0",
            "_view_count": null,
            "flex_flow": null,
            "width": null,
            "min_width": null,
            "border": null,
            "align_items": null,
            "bottom": null,
            "_model_module": "@jupyter-widgets/base",
            "top": null,
            "grid_column": null,
            "overflow_y": null,
            "overflow_x": null,
            "grid_auto_flow": null,
            "grid_area": null,
            "grid_template_columns": null,
            "flex": null,
            "_model_name": "LayoutModel",
            "justify_items": null,
            "grid_row": null,
            "max_height": null,
            "align_content": null,
            "visibility": null,
            "align_self": null,
            "height": null,
            "min_height": null,
            "padding": null,
            "grid_auto_rows": null,
            "grid_gap": null,
            "max_width": null,
            "order": null,
            "_view_module_version": "1.2.0",
            "grid_template_areas": null,
            "object_position": null,
            "object_fit": null,
            "grid_auto_columns": null,
            "margin": null,
            "display": null,
            "left": null
          }
        },
        "fbdf68a0c74541ad836499488b3c12b2": {
          "model_module": "@jupyter-widgets/controls",
          "model_name": "FloatProgressModel",
          "state": {
            "_view_name": "ProgressView",
            "style": "IPY_MODEL_16ad9ec4d8f94b7196b0fbba94fe802f",
            "_dom_classes": [],
            "description": "",
            "_model_name": "FloatProgressModel",
            "bar_style": "success",
            "max": 1,
            "_view_module": "@jupyter-widgets/controls",
            "_model_module_version": "1.5.0",
            "value": 1,
            "_view_count": null,
            "_view_module_version": "1.5.0",
            "orientation": "horizontal",
            "min": 0,
            "description_tooltip": null,
            "_model_module": "@jupyter-widgets/controls",
            "layout": "IPY_MODEL_f4ab09f677b2404c8a8d7c6302454721"
          }
        },
        "8fb9d9e29f95481cb1a4078f0f8ff5d6": {
          "model_module": "@jupyter-widgets/controls",
          "model_name": "HTMLModel",
          "state": {
            "_view_name": "HTMLView",
            "style": "IPY_MODEL_cd2689068ca24b2a84aa9622a51bfd61",
            "_dom_classes": [],
            "description": "",
            "_model_name": "HTMLModel",
            "placeholder": "​",
            "_view_module": "@jupyter-widgets/controls",
            "_model_module_version": "1.5.0",
            "value": " 8192/? [00:00&lt;00:00, 32751.60it/s]",
            "_view_count": null,
            "_view_module_version": "1.5.0",
            "description_tooltip": null,
            "_model_module": "@jupyter-widgets/controls",
            "layout": "IPY_MODEL_f9bd15c1697c4077bbf23503335ddde6"
          }
        },
        "16ad9ec4d8f94b7196b0fbba94fe802f": {
          "model_module": "@jupyter-widgets/controls",
          "model_name": "ProgressStyleModel",
          "state": {
            "_view_name": "StyleView",
            "_model_name": "ProgressStyleModel",
            "description_width": "initial",
            "_view_module": "@jupyter-widgets/base",
            "_model_module_version": "1.5.0",
            "_view_count": null,
            "_view_module_version": "1.2.0",
            "bar_color": null,
            "_model_module": "@jupyter-widgets/controls"
          }
        },
        "f4ab09f677b2404c8a8d7c6302454721": {
          "model_module": "@jupyter-widgets/base",
          "model_name": "LayoutModel",
          "state": {
            "_view_name": "LayoutView",
            "grid_template_rows": null,
            "right": null,
            "justify_content": null,
            "_view_module": "@jupyter-widgets/base",
            "overflow": null,
            "_model_module_version": "1.2.0",
            "_view_count": null,
            "flex_flow": null,
            "width": null,
            "min_width": null,
            "border": null,
            "align_items": null,
            "bottom": null,
            "_model_module": "@jupyter-widgets/base",
            "top": null,
            "grid_column": null,
            "overflow_y": null,
            "overflow_x": null,
            "grid_auto_flow": null,
            "grid_area": null,
            "grid_template_columns": null,
            "flex": null,
            "_model_name": "LayoutModel",
            "justify_items": null,
            "grid_row": null,
            "max_height": null,
            "align_content": null,
            "visibility": null,
            "align_self": null,
            "height": null,
            "min_height": null,
            "padding": null,
            "grid_auto_rows": null,
            "grid_gap": null,
            "max_width": null,
            "order": null,
            "_view_module_version": "1.2.0",
            "grid_template_areas": null,
            "object_position": null,
            "object_fit": null,
            "grid_auto_columns": null,
            "margin": null,
            "display": null,
            "left": null
          }
        },
        "cd2689068ca24b2a84aa9622a51bfd61": {
          "model_module": "@jupyter-widgets/controls",
          "model_name": "DescriptionStyleModel",
          "state": {
            "_view_name": "StyleView",
            "_model_name": "DescriptionStyleModel",
            "description_width": "",
            "_view_module": "@jupyter-widgets/base",
            "_model_module_version": "1.5.0",
            "_view_count": null,
            "_view_module_version": "1.2.0",
            "_model_module": "@jupyter-widgets/controls"
          }
        },
        "f9bd15c1697c4077bbf23503335ddde6": {
          "model_module": "@jupyter-widgets/base",
          "model_name": "LayoutModel",
          "state": {
            "_view_name": "LayoutView",
            "grid_template_rows": null,
            "right": null,
            "justify_content": null,
            "_view_module": "@jupyter-widgets/base",
            "overflow": null,
            "_model_module_version": "1.2.0",
            "_view_count": null,
            "flex_flow": null,
            "width": null,
            "min_width": null,
            "border": null,
            "align_items": null,
            "bottom": null,
            "_model_module": "@jupyter-widgets/base",
            "top": null,
            "grid_column": null,
            "overflow_y": null,
            "overflow_x": null,
            "grid_auto_flow": null,
            "grid_area": null,
            "grid_template_columns": null,
            "flex": null,
            "_model_name": "LayoutModel",
            "justify_items": null,
            "grid_row": null,
            "max_height": null,
            "align_content": null,
            "visibility": null,
            "align_self": null,
            "height": null,
            "min_height": null,
            "padding": null,
            "grid_auto_rows": null,
            "grid_gap": null,
            "max_width": null,
            "order": null,
            "_view_module_version": "1.2.0",
            "grid_template_areas": null,
            "object_position": null,
            "object_fit": null,
            "grid_auto_columns": null,
            "margin": null,
            "display": null,
            "left": null
          }
        }
      }
    }
  },
  "cells": [
    {
      "cell_type": "markdown",
      "metadata": {
        "id": "view-in-github",
        "colab_type": "text"
      },
      "source": [
        "<a href=\"https://colab.research.google.com/github/jihyuk1023/AI_physics/blob/main/05_Pytorch.ipynb\" target=\"_parent\"><img src=\"https://colab.research.google.com/assets/colab-badge.svg\" alt=\"Open In Colab\"/></a>"
      ]
    },
    {
      "cell_type": "markdown",
      "metadata": {
        "id": "AWO1bPFJXR6d"
      },
      "source": [
        "# Pytorch vs Tensorflow\n",
        "\n",
        "pytorch와 tensorflow는 딥러닝 전용 패키지입니다. 두 패키지를 사용하면, 전 수업에서 사용했던 상당부분의 코드들이 이미 구현되어 있으며, 다양한 시각화 방법과 다양한 레이어들을 사용할 수 있으므로 굳이 복잡한 코드들을 구현하지 않아도 됩니다. \n",
        "\n",
        "딥러닝 내부의 연산들을 한번 들여다 보기 위해서 직접 연산을 하는 과정을 코드 내에 전부 포함하였지만, 실제로 딥러닝 모델을 만들 때에는 이런 연산을 직접 계산할 필요가 없습니다. 토치나 텐서플로우의 모듈이 이를 알아서 처리해 줄 것입니다. \n",
        "\n",
        "또한 위 모듈을 사용하면, GPU를 쉽게 사용할 수 있습니다. 파이썬 numpy 역시 cupy라는 CUDA를 지원하는 모듈을 통해 모델을 GPU에 넣을 수 있지만, pytorch나 tensorflow에 비해서 GPU에 데이터를 저장하는 것은 쉽지 않습니다. GPU는 병렬연산에 있어서 CPU에 비해 매우 빠른 속도를 자랑하고, 그 격차가 점점 벌어지고 있으므로 딥러닝 행렬 연산에 있어서 GPU를 사용할 수 있다는 것은 매우 큰 장점입니다.\n",
        "\n",
        "tensorflow는 2015년 Google이 만든 딥러닝 패키지이고, torch는 2017년 페이스북이 만든 딥러닝 패키지입니다. 두 패키지 모두 많은 장점을 가지고 있습니다. \n",
        "\n",
        "파이토치는 텐서플로우에 비해 내부 구조를 쉽게 열어볼 수 있다는 장점이 있고, 훨씬 파이썬스러운 코딩이 가능하며, 수정이 용이하고 직관적입니다. \n",
        "\n",
        "텐서플로우는 2.0 버전 이후로 keras를 주로 사용하게 되었습니다. \n",
        "keras는 아주 간단하게 모델을 만드는데 최적화 되어 있습니다. 변수 몇가지만 설정해주면 쉽게 모델이 만들어집니다. 다만, 내부 구조를 확인하고 실제 코드를 변경하는 데 있어서는 쉽지 않습니다. 코드가 고정적이고 유동적인 모델 형성이 힘듭니다.\n",
        "\n",
        "최근 파이토치의 사용 비중이 텐서플로우에 비해서 높으며 많은 연구가 pytorch를 기반으로 이루어져 있기 때문에 pytorch를 위주로 코드를 작성할 것입니다.\n",
        "tensorflow의 코드를 읽을 수 있을 정도의 공부는 필요할 것입니다.\n",
        "\n",
        "원한다면, tensorflow의 코드를 사용하여 모델을 작성하여도 좋습니다.\n",
        "\n",
        "pytorch, tensorflow는 colab 환경에서 이미 사용할 수 있습니다. 로컬 컴퓨터에서 이를 학습시키려고 한다면 pytorch나 tensoflow를 설치하여야 합니다.\n",
        "\n",
        "이 자료는 pytorch tutorial https://tutorials.pytorch.kr/beginner 에서 구현된 코드들을 조금씩 재구성하여 만들어진 자료입니다. "
      ]
    },
    {
      "cell_type": "markdown",
      "metadata": {
        "id": "rqP0I6lRcoiT"
      },
      "source": [
        "# Torch 사용법 익히기"
      ]
    },
    {
      "cell_type": "markdown",
      "metadata": {
        "id": "_Dn-oT99cUvZ"
      },
      "source": [
        "\n",
        "\n",
        "> torch 모듈 import 하기\n",
        "\n"
      ]
    },
    {
      "cell_type": "code",
      "metadata": {
        "id": "5Cmv2NBMYo6i"
      },
      "source": [
        "import torch"
      ],
      "execution_count": null,
      "outputs": []
    },
    {
      "cell_type": "markdown",
      "metadata": {
        "id": "KrAfn3cbcu4x"
      },
      "source": [
        "> torch의 기본 자료형, tensor\n",
        "\n",
        "torch는 기본적으로 자료형으로 tensor를 사용합니다. numpy의 array와 유사한 자료형이라는 것을 알 수 있습니다. 두 자료형이 서로 호환되기는 하지만, 토치 모델에 학습시킬 때에는 항상 tensor를 사용해야 합니다. tensor는 변화를 저장할 수 있다는 점에서 넘파이 어레이와 차별성을 갖습니다.\n"
      ]
    },
    {
      "cell_type": "code",
      "metadata": {
        "id": "NK-wQasIdcCi",
        "colab": {
          "base_uri": "https://localhost:8080/"
        },
        "outputId": "e9dd4d8d-2652-418c-f4a2-9b7df1d19978"
      },
      "source": [
        "a = torch.tensor([[1,2,3], [4,5,6], [7,8,9]])\n",
        "\n",
        "print(a)"
      ],
      "execution_count": null,
      "outputs": [
        {
          "output_type": "stream",
          "text": [
            "tensor([[1, 2, 3],\n",
            "        [4, 5, 6],\n",
            "        [7, 8, 9]])\n"
          ],
          "name": "stdout"
        }
      ]
    },
    {
      "cell_type": "code",
      "metadata": {
        "id": "6PCbvF_sdeEE",
        "colab": {
          "base_uri": "https://localhost:8080/"
        },
        "outputId": "3f1bb48b-a422-48cc-b5be-255681a5d22d"
      },
      "source": [
        "b = torch.empty(5,3)\n",
        "\n",
        "print(b)"
      ],
      "execution_count": null,
      "outputs": [
        {
          "output_type": "stream",
          "text": [
            "tensor([[3.1177e-36, 0.0000e+00, 3.3631e-44],\n",
            "        [0.0000e+00,        nan, 0.0000e+00],\n",
            "        [1.1578e+27, 1.1362e+30, 7.1547e+22],\n",
            "        [4.5828e+30, 1.2121e+04, 7.1846e+22],\n",
            "        [9.2198e-39, 7.0374e+22, 1.1876e-36]])\n"
          ],
          "name": "stdout"
        }
      ]
    },
    {
      "cell_type": "markdown",
      "metadata": {
        "id": "fhdKze-aeJNW"
      },
      "source": [
        "empty는 초기화 되지 않은 텐서를 내보냅니다. 그 메모리 안에 저장되어 있던 값들이 바로 호출되는 것이므로 값을 가지고 있는 것입니다."
      ]
    },
    {
      "cell_type": "code",
      "metadata": {
        "id": "W9um1WhveF-b",
        "colab": {
          "base_uri": "https://localhost:8080/"
        },
        "outputId": "891a5ff7-2b82-47b1-d38f-9b982b6bafe4"
      },
      "source": [
        "c = torch.zeros(2,5)\n",
        "print(c)"
      ],
      "execution_count": null,
      "outputs": [
        {
          "output_type": "stream",
          "text": [
            "tensor([[0., 0., 0., 0., 0.],\n",
            "        [0., 0., 0., 0., 0.]])\n"
          ],
          "name": "stdout"
        }
      ]
    },
    {
      "cell_type": "code",
      "metadata": {
        "id": "2_wSaX06eRo7",
        "colab": {
          "base_uri": "https://localhost:8080/"
        },
        "outputId": "ed474068-aff7-4ef8-b0ad-9d9eaee4a6b5"
      },
      "source": [
        "d = torch.rand(5, 3)\n",
        "print(d)"
      ],
      "execution_count": null,
      "outputs": [
        {
          "output_type": "stream",
          "text": [
            "tensor([[0.6592, 0.0359, 0.3733],\n",
            "        [0.8904, 0.6602, 0.0548],\n",
            "        [0.0902, 0.9820, 0.4006],\n",
            "        [0.0654, 0.5933, 0.3727],\n",
            "        [0.2447, 0.2188, 0.4948]])\n"
          ],
          "name": "stdout"
        }
      ]
    },
    {
      "cell_type": "markdown",
      "metadata": {
        "id": "p2rVmAR3eaMa"
      },
      "source": [
        "안의 dtype을 변경할 수 있습니다. long은 정수형 타입인데, C 언어에서 long을 정수로 사용하기 때문입니다. long이 나온다면 int와 같은 의미로 해석하면 됩니다.\n",
        "\n"
      ]
    },
    {
      "cell_type": "code",
      "metadata": {
        "id": "VzpOTrX7eV_X",
        "colab": {
          "base_uri": "https://localhost:8080/"
        },
        "outputId": "da4be528-002a-4a9b-9a91-a3c5cd2da5a0"
      },
      "source": [
        "x = torch.zeros(5, 3, dtype=torch.long)\n",
        "print(x)"
      ],
      "execution_count": null,
      "outputs": [
        {
          "output_type": "stream",
          "text": [
            "tensor([[0, 0, 0],\n",
            "        [0, 0, 0],\n",
            "        [0, 0, 0],\n",
            "        [0, 0, 0],\n",
            "        [0, 0, 0]])\n"
          ],
          "name": "stdout"
        }
      ]
    },
    {
      "cell_type": "markdown",
      "metadata": {
        "id": "cGRPgQV0e4tf"
      },
      "source": [
        "tensor.size() 함수를 사용해 텐서의 사이즈를 리턴합니다. Size 자료형은 tuple과 완전히 동일합니다."
      ]
    },
    {
      "cell_type": "code",
      "metadata": {
        "id": "NDWOcvIveYXM",
        "colab": {
          "base_uri": "https://localhost:8080/"
        },
        "outputId": "15950a52-edd5-46bb-b11a-fe4130d42fe4"
      },
      "source": [
        "x.size()"
      ],
      "execution_count": null,
      "outputs": [
        {
          "output_type": "execute_result",
          "data": {
            "text/plain": [
              "torch.Size([5, 3])"
            ]
          },
          "metadata": {
            "tags": []
          },
          "execution_count": 7
        }
      ]
    },
    {
      "cell_type": "markdown",
      "metadata": {
        "id": "83y3JJ9mfBIR"
      },
      "source": [
        "tensor.view() 함수를 사용해 reshape 할 수 있습니다."
      ]
    },
    {
      "cell_type": "code",
      "metadata": {
        "id": "jh769KZVfAeP",
        "colab": {
          "base_uri": "https://localhost:8080/",
          "height": 35
        },
        "outputId": "a5d7869f-9350-4a18-e150-794583fa7d09"
      },
      "source": [
        "a = x.view(1,15)\n",
        "a.size()"
      ],
      "execution_count": null,
      "outputs": [
        {
          "output_type": "execute_result",
          "data": {
            "text/plain": [
              "torch.Size([1, 15])"
            ]
          },
          "metadata": {
            "tags": []
          },
          "execution_count": 8
        }
      ]
    },
    {
      "cell_type": "markdown",
      "metadata": {
        "id": "V4GEhic4faV0"
      },
      "source": [
        "torch는 여러 연산을 지원합니다."
      ]
    },
    {
      "cell_type": "code",
      "metadata": {
        "id": "-DdcrsYTff1h",
        "colab": {
          "base_uri": "https://localhost:8080/",
          "height": 287
        },
        "outputId": "820cc4e5-eab3-4e30-a57b-8327af57478b"
      },
      "source": [
        "a = torch.ones(3,3)\n",
        "b = torch.arange(1,10).view(3,3)\n",
        "\n",
        "print(\"a = {}\".format(a))\n",
        "print(\"b = {}\".format(b))\n",
        "print(\"a+b = {}\".format(a+b))\n",
        "\n",
        "#torch.add 함수를 이용하여 더할 수 있습니다.\n",
        "print(torch.add(a,b))\n",
        "\n",
        "#a를 a와 b의 합으로 변경합니다.\n",
        "a.add_(b)\n",
        "print(\"a is now {}\".format(a))"
      ],
      "execution_count": null,
      "outputs": [
        {
          "output_type": "stream",
          "text": [
            "a = tensor([[1., 1., 1.],\n",
            "        [1., 1., 1.],\n",
            "        [1., 1., 1.]])\n",
            "b = tensor([[1, 2, 3],\n",
            "        [4, 5, 6],\n",
            "        [7, 8, 9]])\n",
            "a+b = tensor([[ 2.,  3.,  4.],\n",
            "        [ 5.,  6.,  7.],\n",
            "        [ 8.,  9., 10.]])\n",
            "tensor([[ 2.,  3.,  4.],\n",
            "        [ 5.,  6.,  7.],\n",
            "        [ 8.,  9., 10.]])\n",
            "a is now tensor([[ 2.,  3.,  4.],\n",
            "        [ 5.,  6.,  7.],\n",
            "        [ 8.,  9., 10.]])\n"
          ],
          "name": "stdout"
        }
      ]
    },
    {
      "cell_type": "markdown",
      "metadata": {
        "id": "HOzqehC7gQNY"
      },
      "source": [
        "텐서에 값이 하나만 존재한다면, item 함수를 통해 그 값을 얻어낼 수 있습니다."
      ]
    },
    {
      "cell_type": "code",
      "metadata": {
        "id": "v6vIoPuPfsjz",
        "colab": {
          "base_uri": "https://localhost:8080/",
          "height": 35
        },
        "outputId": "0b85285a-52db-4434-984d-ff669b0b3fe2"
      },
      "source": [
        "total = a.sum()\n",
        "total.item()"
      ],
      "execution_count": null,
      "outputs": [
        {
          "output_type": "execute_result",
          "data": {
            "text/plain": [
              "54.0"
            ]
          },
          "metadata": {
            "tags": []
          },
          "execution_count": 10
        }
      ]
    },
    {
      "cell_type": "markdown",
      "metadata": {
        "id": "mIyAphyfgjpl"
      },
      "source": [
        "텐서를 numpy 어레이 자료형으로 변경할 수 있습니다."
      ]
    },
    {
      "cell_type": "code",
      "metadata": {
        "id": "6DWf1TBNgVls",
        "colab": {
          "base_uri": "https://localhost:8080/",
          "height": 125
        },
        "outputId": "aa8b0686-c6de-4fa4-92d2-ed944a507860"
      },
      "source": [
        "import numpy as np\n",
        "\n",
        "print(a)\n",
        "print(a.numpy())"
      ],
      "execution_count": null,
      "outputs": [
        {
          "output_type": "stream",
          "text": [
            "tensor([[ 2.,  3.,  4.],\n",
            "        [ 5.,  6.,  7.],\n",
            "        [ 8.,  9., 10.]])\n",
            "[[ 2.  3.  4.]\n",
            " [ 5.  6.  7.]\n",
            " [ 8.  9. 10.]]\n"
          ],
          "name": "stdout"
        }
      ]
    },
    {
      "cell_type": "markdown",
      "metadata": {
        "id": "4uxj8EyPgvFo"
      },
      "source": [
        "넘파이 어레이도 텐서로 변경할 수 있습니다. 그러나 넘파이 어레이와 텐서는 연산이 불가능합니다."
      ]
    },
    {
      "cell_type": "code",
      "metadata": {
        "id": "J8-NT1txgo1O",
        "colab": {
          "base_uri": "https://localhost:8080/",
          "height": 208
        },
        "outputId": "09a1722a-17ef-4c13-d699-c20b31353029"
      },
      "source": [
        "a = np.ones((5,3))\n",
        "b = torch.from_numpy(a)\n",
        "\n",
        "print(a+b)"
      ],
      "execution_count": null,
      "outputs": [
        {
          "output_type": "error",
          "ename": "TypeError",
          "evalue": "ignored",
          "traceback": [
            "\u001b[0;31m---------------------------------------------------------------------------\u001b[0m",
            "\u001b[0;31mTypeError\u001b[0m                                 Traceback (most recent call last)",
            "\u001b[0;32m<ipython-input-12-b7eab87e328e>\u001b[0m in \u001b[0;36m<module>\u001b[0;34m()\u001b[0m\n\u001b[1;32m      2\u001b[0m \u001b[0mb\u001b[0m \u001b[0;34m=\u001b[0m \u001b[0mtorch\u001b[0m\u001b[0;34m.\u001b[0m\u001b[0mfrom_numpy\u001b[0m\u001b[0;34m(\u001b[0m\u001b[0ma\u001b[0m\u001b[0;34m)\u001b[0m\u001b[0;34m\u001b[0m\u001b[0;34m\u001b[0m\u001b[0m\n\u001b[1;32m      3\u001b[0m \u001b[0;34m\u001b[0m\u001b[0m\n\u001b[0;32m----> 4\u001b[0;31m \u001b[0mprint\u001b[0m\u001b[0;34m(\u001b[0m\u001b[0ma\u001b[0m\u001b[0;34m+\u001b[0m\u001b[0mb\u001b[0m\u001b[0;34m)\u001b[0m\u001b[0;34m\u001b[0m\u001b[0;34m\u001b[0m\u001b[0m\n\u001b[0m",
            "\u001b[0;31mTypeError\u001b[0m: unsupported operand type(s) for +: 'numpy.ndarray' and 'Tensor'"
          ]
        }
      ]
    },
    {
      "cell_type": "code",
      "metadata": {
        "id": "s-mGYWcOg0tp",
        "colab": {
          "base_uri": "https://localhost:8080/",
          "height": 53
        },
        "outputId": "b678f6f1-209b-4006-9d32-19baf6350a07"
      },
      "source": [
        "print(type(b))\n",
        "print(type(a))"
      ],
      "execution_count": null,
      "outputs": [
        {
          "output_type": "stream",
          "text": [
            "<class 'torch.Tensor'>\n",
            "<class 'numpy.ndarray'>\n"
          ],
          "name": "stdout"
        }
      ]
    },
    {
      "cell_type": "markdown",
      "metadata": {
        "id": "t5raSLO7hNI9"
      },
      "source": [
        "# GPU 사용하기"
      ]
    },
    {
      "cell_type": "markdown",
      "metadata": {
        "id": "PHYp86i0hRvc"
      },
      "source": [
        "코랩에서는 GPU를 사용할 수 있습니다. GPU를 사용하면 성능을 크게 끌어올릴 수 있을 것입니다. 상단의 \n",
        "\n",
        "런타임 -> 런타임 유형 변경 -> 하드웨어 가속기 None에서 GPU로 변경\n",
        "\n",
        "\n",
        "하면 GPU를 사용할 수 있습니다. 그러나 코랩의 GPU 가속에는 제한 시간이 있습니다. 따라서 필요하지 않을 때에는 GPU를 사용하지 않아야 합니다.\n"
      ]
    },
    {
      "cell_type": "code",
      "metadata": {
        "id": "XHDRan4JhD3b",
        "colab": {
          "base_uri": "https://localhost:8080/"
        },
        "outputId": "1e380e6a-9317-472f-cfa2-5d2de85bdf26"
      },
      "source": [
        "# 런타임 변경 이전\n",
        "\n",
        "print(torch.cuda.is_available())"
      ],
      "execution_count": null,
      "outputs": [
        {
          "output_type": "stream",
          "text": [
            "True\n"
          ],
          "name": "stdout"
        }
      ]
    },
    {
      "cell_type": "code",
      "metadata": {
        "id": "VSUi8ukYhpoh",
        "colab": {
          "base_uri": "https://localhost:8080/",
          "height": 35
        },
        "outputId": "c4f7d6cf-5df1-472a-fd7b-ed19be50d887"
      },
      "source": [
        "#런타임 변경 이후\n",
        "\n",
        "print(torch.cuda.is_available())"
      ],
      "execution_count": null,
      "outputs": [
        {
          "output_type": "stream",
          "text": [
            "True\n"
          ],
          "name": "stdout"
        }
      ]
    },
    {
      "cell_type": "code",
      "metadata": {
        "id": "Rv8TMx14iF0e",
        "colab": {
          "base_uri": "https://localhost:8080/",
          "height": 35
        },
        "outputId": "28e61405-d3b3-4106-b77f-dc173c4aaff5"
      },
      "source": [
        "x = torch.tensor([1,2,3])\n",
        "print(x)"
      ],
      "execution_count": null,
      "outputs": [
        {
          "output_type": "stream",
          "text": [
            "tensor([1, 2, 3])\n"
          ],
          "name": "stdout"
        }
      ]
    },
    {
      "cell_type": "code",
      "metadata": {
        "id": "909pBmkdh4fD",
        "colab": {
          "base_uri": "https://localhost:8080/"
        },
        "outputId": "8dacee97-a573-4d1c-e956-72db9e4e0666"
      },
      "source": [
        "if torch.cuda.is_available(): \n",
        "  device = torch.device(\"cuda\")\n",
        "else:\n",
        "  device = torch.device(\"cpu\")\n",
        "                                      # CUDA 장치 객체(device object)로\n",
        "y = torch.ones_like(x, device=device)  # GPU 상에 직접적으로 tensor를 생성하거나\n",
        "x = x.to(device)                       # ``.to(\"cuda\")`` 를 사용하면 됩니다.\n",
        "z = x + y\n",
        "print(z)\n",
        "print(z.to(\"cpu\", dtype = torch.double)) "
      ],
      "execution_count": null,
      "outputs": [
        {
          "output_type": "stream",
          "text": [
            "tensor([[1, 1, 1],\n",
            "        [1, 1, 1],\n",
            "        [1, 1, 1],\n",
            "        [1, 1, 1],\n",
            "        [1, 1, 1]], device='cuda:0')\n",
            "tensor([[1., 1., 1.],\n",
            "        [1., 1., 1.],\n",
            "        [1., 1., 1.],\n",
            "        [1., 1., 1.],\n",
            "        [1., 1., 1.]], dtype=torch.float64)\n"
          ],
          "name": "stdout"
        }
      ]
    },
    {
      "cell_type": "markdown",
      "metadata": {
        "id": "Yoj6hI8diR1s"
      },
      "source": [
        "한 가지 유의할 점은, gpu상의 텐서와 cpu상의 텐서는 연산할 수 없다는 것입니다. 따라서, 항상 연산할 텐서는 같은 디바이스에 올려져 있어야 합니다."
      ]
    },
    {
      "cell_type": "code",
      "metadata": {
        "id": "6i9fmvl5iL_C",
        "colab": {
          "base_uri": "https://localhost:8080/",
          "height": 209
        },
        "outputId": "da8ccede-ec8c-4ef0-f9cc-d0501062eaf7"
      },
      "source": [
        "x = torch.ones(3,3, device=device)\n",
        "y = torch.ones(3,3)\n",
        "\n",
        "z = x+y"
      ],
      "execution_count": null,
      "outputs": [
        {
          "output_type": "error",
          "ename": "RuntimeError",
          "evalue": "ignored",
          "traceback": [
            "\u001b[0;31m---------------------------------------------------------------------------\u001b[0m",
            "\u001b[0;31mRuntimeError\u001b[0m                              Traceback (most recent call last)",
            "\u001b[0;32m<ipython-input-12-74037d39a4db>\u001b[0m in \u001b[0;36m<module>\u001b[0;34m()\u001b[0m\n\u001b[1;32m      2\u001b[0m \u001b[0my\u001b[0m \u001b[0;34m=\u001b[0m \u001b[0mtorch\u001b[0m\u001b[0;34m.\u001b[0m\u001b[0mones\u001b[0m\u001b[0;34m(\u001b[0m\u001b[0;36m3\u001b[0m\u001b[0;34m,\u001b[0m\u001b[0;36m3\u001b[0m\u001b[0;34m)\u001b[0m\u001b[0;34m\u001b[0m\u001b[0;34m\u001b[0m\u001b[0m\n\u001b[1;32m      3\u001b[0m \u001b[0;34m\u001b[0m\u001b[0m\n\u001b[0;32m----> 4\u001b[0;31m \u001b[0mz\u001b[0m \u001b[0;34m=\u001b[0m \u001b[0mx\u001b[0m\u001b[0;34m+\u001b[0m\u001b[0my\u001b[0m\u001b[0;34m\u001b[0m\u001b[0;34m\u001b[0m\u001b[0m\n\u001b[0m",
            "\u001b[0;31mRuntimeError\u001b[0m: Expected all tensors to be on the same device, but found at least two devices, cuda:0 and cpu!"
          ]
        }
      ]
    },
    {
      "cell_type": "markdown",
      "metadata": {
        "id": "wMHW6p60inmB"
      },
      "source": [
        "# Autograd\n",
        "\n",
        "토치 텐서는 그 변화율을 저장하도록 설정할 수 있습니다. 즉, 텐서는 자동으로 역전파를 저장합니다. 텐서의 특징을 잘 활용하면 복잡한 계산이였던 Backpropagation을 알아서 처리하도록 할 수 있습니다. 텐서를 생성할 때\n",
        "\n",
        "requires_grad = True\n",
        "\n",
        "로 지정하면 텐서는 그 변화들을 저장합니다.\n",
        "\n",
        "텐서의 변화율은 .backward() 함수를 통해 확인할 수 있습니다."
      ]
    },
    {
      "cell_type": "code",
      "metadata": {
        "id": "8iwMB0YejeRe",
        "colab": {
          "base_uri": "https://localhost:8080/"
        },
        "outputId": "baa4cdfc-673c-4e5f-984d-7c487bbf44f4"
      },
      "source": [
        "x = torch.tensor([[0,1],[2,3]], dtype=torch.float64, requires_grad=True)\n",
        "print(x)\n",
        "\n",
        "y = 2*x\n",
        "print(y)"
      ],
      "execution_count": null,
      "outputs": [
        {
          "output_type": "stream",
          "text": [
            "tensor([[0., 1.],\n",
            "        [2., 3.]], dtype=torch.float64, requires_grad=True)\n",
            "tensor([[0., 2.],\n",
            "        [4., 6.]], dtype=torch.float64, grad_fn=<MulBackward0>)\n"
          ],
          "name": "stdout"
        }
      ]
    },
    {
      "cell_type": "markdown",
      "metadata": {
        "id": "2eOe6L9Vjl97"
      },
      "source": [
        "grad_fn에 <AddBackward0> 라고 적혀 있는 것을 확인할 수 있습니다.\n",
        "이제 tensor의 합을 계산해 보겠습니다.\n"
      ]
    },
    {
      "cell_type": "code",
      "metadata": {
        "id": "cAiggj0djk4k",
        "colab": {
          "base_uri": "https://localhost:8080/"
        },
        "outputId": "556f9295-2e4b-4080-ae76-02bded9c8b44"
      },
      "source": [
        "z = torch.mean(y)\n",
        "print(z)"
      ],
      "execution_count": null,
      "outputs": [
        {
          "output_type": "stream",
          "text": [
            "tensor(3., dtype=torch.float64, grad_fn=<MeanBackward0>)\n"
          ],
          "name": "stdout"
        }
      ]
    },
    {
      "cell_type": "markdown",
      "metadata": {
        "id": "Du6TzIMVkNxY"
      },
      "source": [
        "역전파를 계산합니다."
      ]
    },
    {
      "cell_type": "code",
      "metadata": {
        "id": "DCe7lFpojykt"
      },
      "source": [
        "z.backward()"
      ],
      "execution_count": null,
      "outputs": []
    },
    {
      "cell_type": "markdown",
      "metadata": {
        "id": "p6wSyILKkSXI"
      },
      "source": [
        "그러면, x는 grad라는 property를 갖습니다."
      ]
    },
    {
      "cell_type": "code",
      "metadata": {
        "id": "_d5Vxmb2kA4J",
        "colab": {
          "base_uri": "https://localhost:8080/"
        },
        "outputId": "0236ae3f-966a-4b16-8e5c-1067f63b73ec"
      },
      "source": [
        "x.grad"
      ],
      "execution_count": null,
      "outputs": [
        {
          "output_type": "execute_result",
          "data": {
            "text/plain": [
              "tensor([[0.5000, 0.5000],\n",
              "        [0.5000, 0.5000]], dtype=torch.float64)"
            ]
          },
          "metadata": {
            "tags": []
          },
          "execution_count": 27
        }
      ]
    },
    {
      "cell_type": "markdown",
      "metadata": {
        "id": "M-1owQE4kxBu"
      },
      "source": [
        "이 grad는 x의 각 원소에 대한 z의 변화도, 즉 야코비안 행렬입니다. \n",
        "만약 z가 cost function, x가 weight 라고 가정해 봅시다. \n",
        "그러면 x.grad는 코스트에 대한 weight의 미분값이 되겠군요.\n",
        "tensor를 backward함으로써 바로 오차역전파 (back propagation)이 일어납니다. 즉, tensor 자료형은 back propagation을 쉽게 지원합니다."
      ]
    },
    {
      "cell_type": "markdown",
      "metadata": {
        "id": "NKaHbO93l55l"
      },
      "source": [
        "torch.no_grad()로 코드 블럭을 감싸면, 텐서의 back propagation 추적을 막을 수도 있습니다."
      ]
    },
    {
      "cell_type": "code",
      "metadata": {
        "id": "rMgnBHbqkcSY"
      },
      "source": [
        "print(x.requires_grad)\n",
        "print((x ** 2).requires_grad)\n",
        "\n",
        "with torch.no_grad():\n",
        "    print((x ** 2).requires_grad)"
      ],
      "execution_count": null,
      "outputs": []
    },
    {
      "cell_type": "markdown",
      "metadata": {
        "id": "ROVbV1es3fuM"
      },
      "source": [
        "# Neural network\n",
        "\n",
        "파이토치에는 우리가 지난 시간에 만들었던 네트워크가 이미 구현되어 있습니다.\n",
        "우리가 전에 구현했던 네트워크는 이제는 tensorflow의 내장 모듈인 keras의 모델과 유사한 형식입니다. 그래서 구현한 네트워크의 형태가 조금 다를 수 있습니다. 그러나 모델을 잘 뜯어보면 우리가 구현해야 하는 모든 기능들을 구현할 수 있음을 알 수 있습니다.\n",
        "\n",
        "한 번 pytorch tutorial에서 구현한 코드를  재구성하여 pytorch neural network의 사용법을 익혀보겠습니다. 모델의 형태는 전 단원에서 구현한 코드와 완벽하게 동일합니다.\n",
        "\n",
        "규제는 사용하지 않았습니다."
      ]
    },
    {
      "cell_type": "code",
      "metadata": {
        "id": "qHJv3N8c4USZ"
      },
      "source": [
        "# 필요한 모듈 임포트하기.\n",
        "# nn은 neural network의 약어입니다. 파이토치에서 neural network를 구성하는 요소들은 이 안에 구현되어 있습니다.\n",
        "# 특별히 nn.Functional에는 필요한 함수들이 들어 있습니다. 우리가 전 단원에서 정의한 activation function, loss function등이 구현되어 있는 내장 모듈입니다.\n",
        "import torch\n",
        "import torch.nn as nn\n",
        "import torch.nn.functional as F"
      ],
      "execution_count": null,
      "outputs": []
    },
    {
      "cell_type": "code",
      "metadata": {
        "id": "u8kWVHGA4qqi"
      },
      "source": [
        "class Net(nn.Module): #pytorch의 nn.Module은 모든 클래스의 메소드들이 정의되어 있는 클래스입니다. 이를 상위 클래스로 받으면, Net 클래스는 이에 소속된 모든 메소드와 변수들을 갖게 됩니다.\n",
        "\n",
        "    def __init__(self):\n",
        "        super(Net, self).__init__()\n",
        "        self.dense_1 = nn.Linear(784, 128)\n",
        "        self.dense_2 = nn.Linear(128, 10)\n",
        "\n",
        "    def forward(self, x):\n",
        "        x = self.dense_1(x)\n",
        "        x = torch.sigmoid(self.dense_2(x))\n",
        "        return x"
      ],
      "execution_count": null,
      "outputs": []
    },
    {
      "cell_type": "code",
      "metadata": {
        "id": "v8YfHqBF56XO",
        "colab": {
          "base_uri": "https://localhost:8080/"
        },
        "outputId": "8d378471-e17c-4b74-fc40-139c9e332102"
      },
      "source": [
        "net = Net()\n",
        "print(net)"
      ],
      "execution_count": null,
      "outputs": [
        {
          "output_type": "stream",
          "text": [
            "Net(\n",
            "  (dense_1): Linear(in_features=784, out_features=128, bias=True)\n",
            "  (dense_2): Linear(in_features=128, out_features=10, bias=True)\n",
            ")\n"
          ],
          "name": "stdout"
        }
      ]
    },
    {
      "cell_type": "markdown",
      "metadata": {
        "id": "BVlxIZJR6FRw"
      },
      "source": [
        "forward함수에서 x를 인풋으로 받고, 층들을 통과한 x가 output으로 출력됩니다.\n",
        "backpropagation은 정의할 필요가 없습니다. forward에서 사용된 input은 이미 autograd를 사용할 수 있는 변수이기 때문입니다.\n",
        "\n",
        "모델의 학습가능한 파라미터들은 다음과 같이 얻을 수 있습니다."
      ]
    },
    {
      "cell_type": "code",
      "metadata": {
        "id": "OiFXuHc65896",
        "colab": {
          "base_uri": "https://localhost:8080/",
          "height": 102
        },
        "outputId": "6699619e-f212-48b8-de60-72a292724d96"
      },
      "source": [
        "params = list(net.parameters())\n",
        "print(len(params))\n",
        "print(params[0].size()) # dense 1 weight\n",
        "print(params[1].size()) # dense 1 bias\n",
        "print(params[2].size()) # dense 2 weight\n",
        "print(params[3].size()) # dense 2 bias"
      ],
      "execution_count": null,
      "outputs": [
        {
          "output_type": "stream",
          "text": [
            "4\n",
            "torch.Size([128, 784])\n",
            "torch.Size([128])\n",
            "torch.Size([10, 128])\n",
            "torch.Size([10])\n"
          ],
          "name": "stdout"
        }
      ]
    },
    {
      "cell_type": "markdown",
      "metadata": {
        "id": "3D69DrSO7ami"
      },
      "source": [
        "손실함수와 optimizer를 설정하겠습니다. optimizer란 gradient descent와 같은 파라미터의 수정 방법에 관한 함수입니다.\n",
        "\n",
        "그를 위해서 일단 노이즈 데이터를 하나 만들어 보도록 하겠습니다. MNIST data와 크기는 같은 28*28의 데이터이지만 숫자 데이터는 아닙니다."
      ]
    },
    {
      "cell_type": "code",
      "metadata": {
        "id": "OdjHBSVP8ACG",
        "colab": {
          "base_uri": "https://localhost:8080/",
          "height": 265
        },
        "outputId": "631186d0-1b82-4851-8e3a-6b17c4ab1b0f"
      },
      "source": [
        "dummy_input = torch.randn(28,28)\n",
        "\n",
        "import matplotlib.pyplot as plt\n",
        "plt.imshow(dummy_input)\n",
        "plt.show()"
      ],
      "execution_count": null,
      "outputs": [
        {
          "output_type": "display_data",
          "data": {
            "image/png": "[encoded data removed]",
            "text/plain": [
              "<Figure size 432x288 with 1 Axes>"
            ]
          },
          "metadata": {
            "tags": [],
            "needs_background": "light"
          }
        }
      ]
    },
    {
      "cell_type": "markdown",
      "metadata": {
        "id": "KYbs0j7H8PRh"
      },
      "source": [
        "dummy input을 네트워크에 집어넣으면 output을 얻습니다.\n",
        "이 output을 CrossEntropyLoss에 집어넣겠습니다. 주어진 dummy_loss를 우선 flatten하게 784로 펼치겠습니다. 그리고 이 dummy_input이 답으로 얻기를 바라는 dummy_target을 정의하겠습니다. \n",
        "파이토치에서는 one_hot_encoding된 target을 넣으면 연산이 되지 않습니다.\n",
        "원래 int값을 적용하겠습니다."
      ]
    },
    {
      "cell_type": "code",
      "metadata": {
        "id": "SKy2UFnI8n00",
        "colab": {
          "base_uri": "https://localhost:8080/"
        },
        "outputId": "86871d69-87fc-48c3-a32a-fa14eecbb913"
      },
      "source": [
        "dummy_input = dummy_input.view(1,-1)\n",
        "dummy_target = torch.tensor([5])\n",
        "print(dummy_target)"
      ],
      "execution_count": null,
      "outputs": [
        {
          "output_type": "stream",
          "text": [
            "tensor([5])\n"
          ],
          "name": "stdout"
        }
      ]
    },
    {
      "cell_type": "code",
      "metadata": {
        "id": "c2GoD6JY6uHx",
        "colab": {
          "base_uri": "https://localhost:8080/"
        },
        "outputId": "2217b62c-b0cf-4c6d-fa20-d232639f3940"
      },
      "source": [
        "output = net(dummy_input)\n",
        "criterion = nn.CrossEntropyLoss()\n",
        "loss = criterion(output, dummy_target)\n",
        "print(loss)\n"
      ],
      "execution_count": null,
      "outputs": [
        {
          "output_type": "stream",
          "text": [
            "tensor(2.3133, grad_fn=<NllLossBackward>)\n"
          ],
          "name": "stdout"
        }
      ]
    },
    {
      "cell_type": "markdown",
      "metadata": {
        "id": "NIvijIHL_xu6"
      },
      "source": [
        "오차를 역전파 해보겠습니다."
      ]
    },
    {
      "cell_type": "code",
      "metadata": {
        "id": "Q-fdH7vA_xK-",
        "colab": {
          "base_uri": "https://localhost:8080/"
        },
        "outputId": "015a6164-6e51-475e-bbf6-4d9ad8ff3b03"
      },
      "source": [
        "#back propagation\n",
        "loss.backward()\n",
        "net.dense_1.bias.grad"
      ],
      "execution_count": null,
      "outputs": [
        {
          "output_type": "execute_result",
          "data": {
            "text/plain": [
              "tensor([-4.6796e-04, -1.1895e-02,  1.6979e-02,  1.5139e-03, -1.5662e-02,\n",
              "        -3.2425e-03,  1.8160e-02, -1.2593e-02,  1.5550e-02, -1.6396e-02,\n",
              "         3.2972e-03,  8.1329e-03, -1.4968e-02,  9.4167e-03,  1.7725e-02,\n",
              "         4.5681e-03,  1.1735e-02, -6.6365e-03, -1.0787e-02,  3.9784e-03,\n",
              "         3.7188e-03,  5.1888e-03,  1.3953e-02, -1.1142e-02, -1.8902e-02,\n",
              "        -5.8862e-03, -9.3333e-03, -1.0778e-02, -1.3571e-02, -4.0840e-03,\n",
              "         1.8990e-02, -1.2853e-02,  6.7988e-03,  2.3151e-02,  1.6131e-02,\n",
              "         3.8695e-03, -2.2751e-03, -9.0483e-03,  1.2309e-02, -2.0316e-03,\n",
              "         1.2355e-02, -9.5602e-03,  5.2912e-03, -1.8213e-02,  1.5090e-02,\n",
              "         9.7163e-03,  5.5012e-04, -1.7837e-02, -5.8788e-03, -8.2125e-03,\n",
              "         2.3570e-03, -5.0382e-03, -1.4320e-02,  7.5262e-03, -1.8168e-02,\n",
              "         5.6101e-03,  1.7227e-02,  1.9349e-02,  1.4359e-02, -7.8840e-03,\n",
              "        -1.1548e-02, -1.3946e-02, -2.0967e-03, -1.6763e-03, -8.0240e-03,\n",
              "        -1.7483e-02,  4.0962e-03, -7.3653e-03,  2.0521e-02, -2.0329e-02,\n",
              "         9.9873e-03, -3.0556e-03, -5.0243e-03, -1.5110e-02,  1.8843e-02,\n",
              "         1.3500e-02,  4.9543e-05, -3.5077e-03, -1.5281e-02,  1.7798e-02,\n",
              "         5.0038e-03, -9.4825e-03, -4.9647e-03,  2.7499e-03, -8.1147e-04,\n",
              "        -1.4301e-02, -4.3992e-03,  2.1073e-02,  3.3246e-03, -7.4850e-03,\n",
              "         1.0361e-02,  4.6103e-03, -1.4902e-02,  1.8646e-02, -1.3685e-02,\n",
              "         6.6645e-03, -6.1837e-03, -1.6407e-02, -2.0470e-02, -3.0352e-04,\n",
              "        -4.1653e-03,  1.7535e-02, -6.0369e-03, -1.6115e-02, -1.0481e-02,\n",
              "        -3.0815e-03, -5.5827e-03,  1.8529e-02, -1.2767e-02,  1.3949e-02,\n",
              "         5.6163e-03, -7.6893e-03,  5.8251e-04,  6.0493e-03, -3.6896e-04,\n",
              "         1.0887e-02, -1.8746e-02, -1.6468e-02, -1.4139e-02, -1.2359e-02,\n",
              "         4.5762e-03, -9.1185e-03, -1.3075e-02, -5.1926e-04,  2.6134e-02,\n",
              "        -3.6192e-03,  1.9256e-02, -8.0421e-03])"
            ]
          },
          "metadata": {
            "tags": []
          },
          "execution_count": 41
        }
      ]
    },
    {
      "cell_type": "markdown",
      "metadata": {
        "id": "gBdKpBaAALTv"
      },
      "source": [
        "SGD를 pytorch로 다음과 같이 구현할 수 있습니다."
      ]
    },
    {
      "cell_type": "code",
      "metadata": {
        "id": "EOsFRTfq_z9Y"
      },
      "source": [
        "import torch.optim as optim\n",
        "\n",
        "# Optimizer를 생성합니다.\n",
        "optimizer = optim.SGD(net.parameters(), lr=0.01)\n",
        "\n",
        "# 학습 과정(training loop)에서는 다음과 같습니다:\n",
        "optimizer.zero_grad()   # zero the gradient buffers\n",
        "output = net(dummy_input)\n",
        "loss = criterion(output, dummy_target)\n",
        "# loss.backward()\n",
        "# optimizer.step()    # Does the update"
      ],
      "execution_count": null,
      "outputs": []
    },
    {
      "cell_type": "markdown",
      "metadata": {
        "id": "6gJvu2tWAYVg"
      },
      "source": [
        "optimizer는 net의 파라미터들을 수정합니다.\n",
        "loss의 backward에 의해서 parameter들은 grad를 갖게 되고, 이를 이용하여 optimizer는 그 weight를 수정합니다.\n",
        "\n",
        "\n",
        "# MNIST Neural Network by Pytorch\n",
        "옛날 수업에서는 tensorflow의 MNIST 데이터를 사용해서 데이터를 다운받았는데, 이번에는 torch의 데이터 셋을 다운받아 보겠습니다.\n",
        "\n",
        "torch의 이미지 관련 데이터셋은 torchvision이라는 모듈에 저장되어 있습니다. torch vision에서 데이터를 불러오고, Net을 구현하고, 모델을 학습시키겠습니다."
      ]
    },
    {
      "cell_type": "code",
      "metadata": {
        "id": "j2Jczz6JARne"
      },
      "source": [
        "import matplotlib.pyplot as plt\n",
        "\n",
        "import torch \n",
        "import torch.nn as nn\n",
        "import torch.nn.functional as F\n",
        "import torch.optim as optim\n",
        "from torchvision import datasets, transforms"
      ],
      "execution_count": null,
      "outputs": []
    },
    {
      "cell_type": "code",
      "metadata": {
        "id": "1oD3KzTNBUkL",
        "colab": {
          "base_uri": "https://localhost:8080/",
          "height": 437,
          "referenced_widgets": [
            "ef64599fc6094eee8f696fdca0e27c27",
            "fa0414c8cb3742cd8d560a8a350a25c9",
            "85a9c027281a4cce931284014d68d1b4",
            "36d9c7881a7c47ef875abe3ed5682536",
            "f2709ea02cb7492db21abfccbe0c4ee4",
            "bf427bdc3e264f5991b0b302ba49476c",
            "dbf20be9a5da42ee91db1c8c73cf04bf",
            "19a134b4ebbb4cb9bf95866726f5e972",
            "7ed1c6703e1846d2b5849fb194565e8f",
            "bd1112a111524340a39e9f9b2c23f576",
            "d09cb76377664109913d9985f221396a",
            "c502a0a79d9449d98b37bf6d1cd1fe5f",
            "fc100858e80c42a5b164108dd56f0779",
            "2b29f11676154ace9ad0ca02468a1e77",
            "b4515c805841403e92d64c557fcd71be",
            "37c2f12db6a445d981a392bf53d88e77",
            "e9e0d9da108b40709f9c3a2eccafbb0d",
            "ad501aae729e457bb4339f6dacc0d0d2",
            "51e28a3d977f48f6a93808a4a74734fd",
            "3d8767c86cfd447298137211a5039fd5",
            "535838eab0524f3681539610112514b6",
            "3b170fe4d6444cd6a864b7d5a91aa435",
            "630972deb09b4345b96770b008e8c6e0",
            "8d97798962954395991c8fd300577d5e",
            "ed74c5882b344689ad4ff17c4807e5dc",
            "6bbe0869a4474e789d30f1e2d0651628",
            "fbdf68a0c74541ad836499488b3c12b2",
            "8fb9d9e29f95481cb1a4078f0f8ff5d6",
            "16ad9ec4d8f94b7196b0fbba94fe802f",
            "f4ab09f677b2404c8a8d7c6302454721",
            "cd2689068ca24b2a84aa9622a51bfd61",
            "f9bd15c1697c4077bbf23503335ddde6"
          ]
        },
        "outputId": "fbcdec39-e47f-460b-d7bd-5fcbe8988bf3"
      },
      "source": [
        "train_dataset = datasets.MNIST('../mnist_data/',\n",
        "                             download=True,\n",
        "                             train=True,\n",
        "                             transform=transforms.Compose([\n",
        "                                 transforms.ToTensor(), # image to Tensor\n",
        "                             ])) \n",
        "\n",
        "val_dataset = datasets.MNIST(\"../mnist_data/\", \n",
        "                             download=False,\n",
        "                             train=False,\n",
        "                             transform= transforms.Compose([\n",
        "                               transforms.ToTensor(),\n",
        "                           ]))"
      ],
      "execution_count": null,
      "outputs": [
        {
          "output_type": "stream",
          "text": [
            "Downloading http://yann.lecun.com/exdb/mnist/train-images-idx3-ubyte.gz to ../mnist_data/MNIST/raw/train-images-idx3-ubyte.gz\n"
          ],
          "name": "stdout"
        },
        {
          "output_type": "display_data",
          "data": {
            "application/vnd.jupyter.widget-view+json": {
              "model_id": "ef64599fc6094eee8f696fdca0e27c27",
              "version_minor": 0,
              "version_major": 2
            },
            "text/plain": [
              "HBox(children=(FloatProgress(value=1.0, bar_style='info', max=1.0), HTML(value='')))"
            ]
          },
          "metadata": {
            "tags": []
          }
        },
        {
          "output_type": "stream",
          "text": [
            "Extracting ../mnist_data/MNIST/raw/train-images-idx3-ubyte.gz to ../mnist_data/MNIST/raw\n",
            "Downloading http://yann.lecun.com/exdb/mnist/train-labels-idx1-ubyte.gz to ../mnist_data/MNIST/raw/train-labels-idx1-ubyte.gz\n"
          ],
          "name": "stdout"
        },
        {
          "output_type": "display_data",
          "data": {
            "application/vnd.jupyter.widget-view+json": {
              "model_id": "7ed1c6703e1846d2b5849fb194565e8f",
              "version_minor": 0,
              "version_major": 2
            },
            "text/plain": [
              "HBox(children=(FloatProgress(value=1.0, bar_style='info', max=1.0), HTML(value='')))"
            ]
          },
          "metadata": {
            "tags": []
          }
        },
        {
          "output_type": "stream",
          "text": [
            "Extracting ../mnist_data/MNIST/raw/train-labels-idx1-ubyte.gz to ../mnist_data/MNIST/raw\n",
            "Downloading http://yann.lecun.com/exdb/mnist/t10k-images-idx3-ubyte.gz to ../mnist_data/MNIST/raw/t10k-images-idx3-ubyte.gz\n"
          ],
          "name": "stdout"
        },
        {
          "output_type": "display_data",
          "data": {
            "application/vnd.jupyter.widget-view+json": {
              "model_id": "e9e0d9da108b40709f9c3a2eccafbb0d",
              "version_minor": 0,
              "version_major": 2
            },
            "text/plain": [
              "HBox(children=(FloatProgress(value=1.0, bar_style='info', max=1.0), HTML(value='')))"
            ]
          },
          "metadata": {
            "tags": []
          }
        },
        {
          "output_type": "stream",
          "text": [
            "Extracting ../mnist_data/MNIST/raw/t10k-images-idx3-ubyte.gz to ../mnist_data/MNIST/raw\n",
            "Downloading http://yann.lecun.com/exdb/mnist/t10k-labels-idx1-ubyte.gz to ../mnist_data/MNIST/raw/t10k-labels-idx1-ubyte.gz\n"
          ],
          "name": "stdout"
        },
        {
          "output_type": "display_data",
          "data": {
            "application/vnd.jupyter.widget-view+json": {
              "model_id": "ed74c5882b344689ad4ff17c4807e5dc",
              "version_minor": 0,
              "version_major": 2
            },
            "text/plain": [
              "HBox(children=(FloatProgress(value=1.0, bar_style='info', max=1.0), HTML(value='')))"
            ]
          },
          "metadata": {
            "tags": []
          }
        },
        {
          "output_type": "stream",
          "text": [
            "Extracting ../mnist_data/MNIST/raw/t10k-labels-idx1-ubyte.gz to ../mnist_data/MNIST/raw\n",
            "Processing...\n",
            "\n",
            "\n",
            "\n",
            "Done!\n"
          ],
          "name": "stdout"
        },
        {
          "output_type": "stream",
          "text": [
            "/usr/local/lib/python3.6/dist-packages/torchvision/datasets/mnist.py:469: UserWarning: The given NumPy array is not writeable, and PyTorch does not support non-writeable tensors. This means you can write to the underlying (supposedly non-writeable) NumPy array using the tensor. You may want to copy the array to protect its data or make it writeable before converting it to a tensor. This type of warning will be suppressed for the rest of this program. (Triggered internally at  /pytorch/torch/csrc/utils/tensor_numpy.cpp:141.)\n",
            "  return torch.from_numpy(parsed.astype(m[2], copy=False)).view(*s)\n"
          ],
          "name": "stderr"
        }
      ]
    },
    {
      "cell_type": "code",
      "metadata": {
        "id": "UxYAhcr3KtmS",
        "colab": {
          "base_uri": "https://localhost:8080/"
        },
        "outputId": "8cfccd42-ddc0-4df8-8c4d-10782e1a96d0"
      },
      "source": [
        "train_dataset[0][1]"
      ],
      "execution_count": null,
      "outputs": [
        {
          "output_type": "execute_result",
          "data": {
            "text/plain": [
              "5"
            ]
          },
          "metadata": {
            "tags": []
          },
          "execution_count": 55
        }
      ]
    },
    {
      "cell_type": "code",
      "metadata": {
        "id": "fG1aqUzTBrGY",
        "colab": {
          "base_uri": "https://localhost:8080/",
          "height": 210
        },
        "outputId": "e172f08b-dc14-48c2-d72e-7e5408f42356"
      },
      "source": [
        "[print(train_dataset)\n",
        "print(type(train_dataset))\n",
        "print(train_dataset.data.shape)\n",
        "print(val_dataset.data.shape)"
      ],
      "execution_count": null,
      "outputs": [
        {
          "output_type": "stream",
          "text": [
            "Dataset MNIST\n",
            "    Number of datapoints: 60000\n",
            "    Root location: ../mnist_data/\n",
            "    Split: Train\n",
            "    StandardTransform\n",
            "Transform: Compose(\n",
            "               ToTensor()\n",
            "           )\n",
            "<class 'torchvision.datasets.mnist.MNIST'>\n",
            "torch.Size([60000, 28, 28])\n",
            "torch.Size([10000, 28, 28])\n"
          ],
          "name": "stdout"
        }
      ]
    },
    {
      "cell_type": "markdown",
      "metadata": {
        "id": "ykQ-wznVB6e_"
      },
      "source": [
        "torch 데이터셋을 다운받았습니다. 그런데 이들은 60000개의 데이터를 전부 가지고 있으므로 batch_size 간격으로 잘라주는 generator가 필요합니다. torch에서는 data_loader라는 함수로 이를 구현해 놓았습니다."
      ]
    },
    {
      "cell_type": "code",
      "metadata": {
        "id": "j-waK7RKB5Rv"
      },
      "source": [
        "batch_size = 32\n",
        "train_loader = torch.utils.data.DataLoader(train_dataset,\n",
        "                                         batch_size=batch_size,\n",
        "                                         shuffle=True)\n",
        "\n",
        "val_loader = torch.utils.data.DataLoader(val_dataset,\n",
        "                                         batch_size=batch_size,\n",
        "                                         shuffle=True)"
      ],
      "execution_count": null,
      "outputs": []
    },
    {
      "cell_type": "markdown",
      "metadata": {
        "id": "2eLHw4b6CtTu"
      },
      "source": [
        "위에 있는 Net을 흐름을 위해 다시 복습해봅시다."
      ]
    },
    {
      "cell_type": "code",
      "metadata": {
        "id": "y_u7oy1QBxKG"
      },
      "source": [
        "class Net(nn.Module): #pytorch의 nn.Module은 모든 클래스의 메소드들이 정의되어 있는 클래스입니다. 이를 상위 클래스로 받으면, Net 클래스는 이에 소속된 모든 메소드와 변수들을 갖게 됩니다.\n",
        "\n",
        "    def __init__(self):\n",
        "        super(Net, self).__init__()\n",
        "        self.dense_1 = nn.Linear(784, 128)\n",
        "        self.dense_2 = nn.Linear(128, 10)\n",
        "\n",
        "    def forward(self, x):\n",
        "        x = x.view(-1, 784)\n",
        "        x = torch.sigmoid(self.dense_1(x))\n",
        "        # pytorch의 CrossEntropyLoss가 softmax를 포함하므로 x에는 softmax를 취하지 않습니다.\n",
        "        x = self.dense_2(x)\n",
        "        return x"
      ],
      "execution_count": null,
      "outputs": []
    },
    {
      "cell_type": "markdown",
      "metadata": {
        "id": "18luzEqAC7yY"
      },
      "source": [
        "net object를 생성하고 loss function과 optimizer를 다시 정의합니다."
      ]
    },
    {
      "cell_type": "markdown",
      "metadata": {
        "id": "zLEAWIgHDJ0h"
      },
      "source": [
        "학습을 진행하는 코드입니다. 주석을 보고 따라오기 바랍니다."
      ]
    },
    {
      "cell_type": "code",
      "metadata": {
        "id": "or5yCLL2DNLG",
        "colab": {
          "base_uri": "https://localhost:8080/",
          "height": 1000
        },
        "outputId": "6e0775b2-8f18-4f45-9fc9-cc9fa964607b"
      },
      "source": [
        "net = Net()\n",
        "if torch.cuda.is_available():\n",
        "  net.to('cuda:0')\n",
        "# loss\n",
        "criterion = nn.CrossEntropyLoss()\n",
        "# backpropagation method : Now SGD. \n",
        "optimizer = optim.SGD(net.parameters(), lr = 0.01)\n",
        "# hyper-parameters\n",
        "num_epochs = 30\n",
        "\n",
        "train_loss_history = []\n",
        "val_loss_history = []\n",
        "for epoch in range(num_epochs):\n",
        "  train_loss = 0\n",
        "  for step, data in enumerate(train_loader):\n",
        "    x, label = data\n",
        "    if torch.cuda.is_available():\n",
        "        x = x.cuda()\n",
        "        label = label.cuda()\n",
        "    # grad init\n",
        "    optimizer.zero_grad()\n",
        "    # forward propagation\n",
        "    output = net(x)\n",
        "    # calculate loss\n",
        "    loss = criterion(output, label)\n",
        "    # back propagation \n",
        "    loss.backward()\n",
        "    # weight update\n",
        "    optimizer.step()\n",
        "    train_loss += loss.item()\n",
        "  train_loss = train_loss / len(train_loader)\n",
        "  #매 epoch이 끝날 때마다 validation을 진행합니다.\n",
        "  with torch.no_grad():\n",
        "    val_loss = 0.0\n",
        "    total = 0\n",
        "    for val_step, val in enumerate(val_loader):\n",
        "      val_x, val_label = val\n",
        "      if torch.cuda.is_available():\n",
        "        val_x = val_x.cuda()\n",
        "        val_label =val_label.cuda()\n",
        "      val_output = net(val_x)\n",
        "      v_loss = criterion(val_output, val_label)\n",
        "      val_loss += v_loss\n",
        "      total += (torch.argmax(val_output, dim=1) == val_label).sum().item()\n",
        "    val_loss = val_loss / len(val_loader)\n",
        "  print(\"epoch: {}/{} | train loss: {} | val loss: {}\".format(\n",
        "                epoch+1, num_epochs, train_loss , val_loss))\n",
        "  print(\"val_acc: {}\".format(total/len(val_dataset)))        \n",
        "  train_loss_history.append(train_loss)\n",
        "  val_loss_history.append(val_loss)"
      ],
      "execution_count": null,
      "outputs": [
        {
          "output_type": "stream",
          "text": [
            "epoch: 1/30 | train loss: 1.8756748131434122 | val loss: 1.2876266241073608\n",
            "val_acc: 0.7648\n",
            "epoch: 2/30 | train loss: 0.9582959060827891 | val loss: 0.7179878354072571\n",
            "val_acc: 0.8428\n",
            "epoch: 3/30 | train loss: 0.6329412841478984 | val loss: 0.5377463698387146\n",
            "val_acc: 0.8723\n",
            "epoch: 4/30 | train loss: 0.5097723508675893 | val loss: 0.45299050211906433\n",
            "val_acc: 0.8851\n",
            "epoch: 5/30 | train loss: 0.44598485119342807 | val loss: 0.40720897912979126\n",
            "val_acc: 0.8924\n",
            "epoch: 6/30 | train loss: 0.40748553855419156 | val loss: 0.3763750195503235\n",
            "val_acc: 0.898\n",
            "epoch: 7/30 | train loss: 0.3815042860587438 | val loss: 0.35516732931137085\n",
            "val_acc: 0.9018\n",
            "epoch: 8/30 | train loss: 0.3627049109896024 | val loss: 0.3399856984615326\n",
            "val_acc: 0.9051\n",
            "epoch: 9/30 | train loss: 0.34820611946980157 | val loss: 0.32776322960853577\n",
            "val_acc: 0.9076\n",
            "epoch: 10/30 | train loss: 0.33667714998722076 | val loss: 0.3185065984725952\n",
            "val_acc: 0.9114\n",
            "epoch: 11/30 | train loss: 0.3270637927532196 | val loss: 0.3102411925792694\n",
            "val_acc: 0.9113\n",
            "epoch: 12/30 | train loss: 0.318808201165994 | val loss: 0.3030110001564026\n",
            "val_acc: 0.9147\n",
            "epoch: 13/30 | train loss: 0.3115083176136017 | val loss: 0.2966062128543854\n",
            "val_acc: 0.9164\n",
            "epoch: 14/30 | train loss: 0.3050962927897771 | val loss: 0.29062625765800476\n",
            "val_acc: 0.918\n",
            "epoch: 15/30 | train loss: 0.2995040290792783 | val loss: 0.2872845232486725\n",
            "val_acc: 0.9185\n",
            "epoch: 16/30 | train loss: 0.2941544995705287 | val loss: 0.2823205590248108\n",
            "val_acc: 0.9192\n",
            "epoch: 17/30 | train loss: 0.289275046090285 | val loss: 0.2776840627193451\n",
            "val_acc: 0.9201\n",
            "epoch: 18/30 | train loss: 0.2846742811083794 | val loss: 0.27284228801727295\n",
            "val_acc: 0.9223\n",
            "epoch: 19/30 | train loss: 0.2803362614750862 | val loss: 0.2695740759372711\n",
            "val_acc: 0.9233\n",
            "epoch: 20/30 | train loss: 0.27619854073524475 | val loss: 0.26708126068115234\n",
            "val_acc: 0.925\n",
            "epoch: 21/30 | train loss: 0.2722959019223849 | val loss: 0.2638090252876282\n",
            "val_acc: 0.9245\n",
            "epoch: 22/30 | train loss: 0.2686229128917058 | val loss: 0.2591107189655304\n",
            "val_acc: 0.9256\n",
            "epoch: 23/30 | train loss: 0.26492268104553224 | val loss: 0.25607171654701233\n",
            "val_acc: 0.9267\n",
            "epoch: 24/30 | train loss: 0.2613634637673696 | val loss: 0.2540028691291809\n",
            "val_acc: 0.9275\n",
            "epoch: 25/30 | train loss: 0.25784737612803776 | val loss: 0.2512133717536926\n",
            "val_acc: 0.9269\n",
            "epoch: 26/30 | train loss: 0.25451560941139856 | val loss: 0.24699267745018005\n",
            "val_acc: 0.9291\n",
            "epoch: 27/30 | train loss: 0.2511733515938123 | val loss: 0.24530455470085144\n",
            "val_acc: 0.9301\n",
            "epoch: 28/30 | train loss: 0.2479744778951009 | val loss: 0.2421155869960785\n",
            "val_acc: 0.9311\n",
            "epoch: 29/30 | train loss: 0.24484583370288213 | val loss: 0.2389393299818039\n",
            "val_acc: 0.9313\n",
            "epoch: 30/30 | train loss: 0.24176766318480175 | val loss: 0.23595808446407318\n",
            "val_acc: 0.9321\n"
          ],
          "name": "stdout"
        }
      ]
    },
    {
      "cell_type": "code",
      "metadata": {
        "id": "wgE_M-t4EsP7",
        "colab": {
          "base_uri": "https://localhost:8080/",
          "height": 265
        },
        "outputId": "87aa5b4d-d433-4ba7-e845-784eb5e2f708"
      },
      "source": [
        "plt.plot(train_loss_history)\n",
        "plt.plot(val_loss_history)\n",
        "plt.show()"
      ],
      "execution_count": null,
      "outputs": [
        {
          "output_type": "display_data",
          "data": {
            "image/png": "[encoded data removed]",
            "text/plain": [
              "<Figure size 432x288 with 1 Axes>"
            ]
          },
          "metadata": {
            "tags": [],
            "needs_background": "light"
          }
        }
      ]
    },
    {
      "cell_type": "code",
      "metadata": {
        "id": "KWnvFFNANYMa"
      },
      "source": [
        ""
      ],
      "execution_count": null,
      "outputs": []
    }
  ]
}